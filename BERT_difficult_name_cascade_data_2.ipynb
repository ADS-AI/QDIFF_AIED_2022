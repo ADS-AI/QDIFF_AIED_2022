{
  "nbformat": 4,
  "nbformat_minor": 0,
  "metadata": {
    "kernelspec": {
      "display_name": "Python 3",
      "language": "python",
      "name": "python3"
    },
    "language_info": {
      "codemirror_mode": {
        "name": "ipython",
        "version": 3
      },
      "file_extension": ".py",
      "mimetype": "text/x-python",
      "name": "python",
      "nbconvert_exporter": "python",
      "pygments_lexer": "ipython3",
      "version": "3.7.7"
    },
    "colab": {
      "name": "BERT_difficult_name_cascade_data_2",
      "provenance": [],
      "collapsed_sections": []
    },
    "accelerator": "GPU"
  },
  "cells": [
    {
      "cell_type": "code",
      "metadata": {
        "id": "sR9av2JU3kf6",
        "colab": {
          "base_uri": "https://localhost:8080/"
        },
        "outputId": "6c5d5f52-544d-438b-b9ca-ecaa5336384c"
      },
      "source": [
        "import os\n",
        "os.environ['CUDA_LAUNCH_BLOCKING'] = \"1\"\n",
        "import torch\n",
        "import logging\n",
        "logging.basicConfig(level=logging.ERROR)\n",
        "# If there's a GPU available...\n",
        "if torch.cuda.is_available():    \n",
        "\n",
        "    # Tell PyTorch to use the GPU.    \n",
        "    device = torch.device(\"cuda\")\n",
        "\n",
        "    print('There are %d GPU(s) available.' % torch.cuda.device_count())\n",
        "\n",
        "    print('We will use the GPU:', torch.cuda.get_device_name(0))\n",
        "\n",
        "# If not...\n",
        "else:\n",
        "    print('No GPU available, using the CPU instead.')\n",
        "    device = torch.device(\"cpu\")"
      ],
      "execution_count": null,
      "outputs": [
        {
          "output_type": "stream",
          "text": [
            "There are 1 GPU(s) available.\n",
            "We will use the GPU: Tesla T4\n"
          ],
          "name": "stdout"
        }
      ]
    },
    {
      "cell_type": "code",
      "metadata": {
        "id": "BzKeqoCs3kgA",
        "colab": {
          "base_uri": "https://localhost:8080/"
        },
        "outputId": "a8b1f25d-0f10-4b9a-abae-f0585f2de7ce"
      },
      "source": [
        "!pip install transformers"
      ],
      "execution_count": null,
      "outputs": [
        {
          "output_type": "stream",
          "text": [
            "Requirement already satisfied: transformers in /usr/local/lib/python3.7/dist-packages (4.9.2)\n",
            "Requirement already satisfied: sacremoses in /usr/local/lib/python3.7/dist-packages (from transformers) (0.0.45)\n",
            "Requirement already satisfied: filelock in /usr/local/lib/python3.7/dist-packages (from transformers) (3.0.12)\n",
            "Requirement already satisfied: regex!=2019.12.17 in /usr/local/lib/python3.7/dist-packages (from transformers) (2019.12.20)\n",
            "Requirement already satisfied: importlib-metadata in /usr/local/lib/python3.7/dist-packages (from transformers) (4.6.4)\n",
            "Requirement already satisfied: tqdm>=4.27 in /usr/local/lib/python3.7/dist-packages (from transformers) (4.62.0)\n",
            "Requirement already satisfied: packaging in /usr/local/lib/python3.7/dist-packages (from transformers) (21.0)\n",
            "Requirement already satisfied: huggingface-hub==0.0.12 in /usr/local/lib/python3.7/dist-packages (from transformers) (0.0.12)\n",
            "Requirement already satisfied: numpy>=1.17 in /usr/local/lib/python3.7/dist-packages (from transformers) (1.19.5)\n",
            "Requirement already satisfied: tokenizers<0.11,>=0.10.1 in /usr/local/lib/python3.7/dist-packages (from transformers) (0.10.3)\n",
            "Requirement already satisfied: requests in /usr/local/lib/python3.7/dist-packages (from transformers) (2.23.0)\n",
            "Requirement already satisfied: pyyaml>=5.1 in /usr/local/lib/python3.7/dist-packages (from transformers) (5.4.1)\n",
            "Requirement already satisfied: typing-extensions in /usr/local/lib/python3.7/dist-packages (from huggingface-hub==0.0.12->transformers) (3.7.4.3)\n",
            "Requirement already satisfied: pyparsing>=2.0.2 in /usr/local/lib/python3.7/dist-packages (from packaging->transformers) (2.4.7)\n",
            "Requirement already satisfied: zipp>=0.5 in /usr/local/lib/python3.7/dist-packages (from importlib-metadata->transformers) (3.5.0)\n",
            "Requirement already satisfied: urllib3!=1.25.0,!=1.25.1,<1.26,>=1.21.1 in /usr/local/lib/python3.7/dist-packages (from requests->transformers) (1.24.3)\n",
            "Requirement already satisfied: chardet<4,>=3.0.2 in /usr/local/lib/python3.7/dist-packages (from requests->transformers) (3.0.4)\n",
            "Requirement already satisfied: idna<3,>=2.5 in /usr/local/lib/python3.7/dist-packages (from requests->transformers) (2.10)\n",
            "Requirement already satisfied: certifi>=2017.4.17 in /usr/local/lib/python3.7/dist-packages (from requests->transformers) (2021.5.30)\n",
            "Requirement already satisfied: joblib in /usr/local/lib/python3.7/dist-packages (from sacremoses->transformers) (1.0.1)\n",
            "Requirement already satisfied: click in /usr/local/lib/python3.7/dist-packages (from sacremoses->transformers) (7.1.2)\n",
            "Requirement already satisfied: six in /usr/local/lib/python3.7/dist-packages (from sacremoses->transformers) (1.15.0)\n"
          ],
          "name": "stdout"
        }
      ]
    },
    {
      "cell_type": "code",
      "metadata": {
        "id": "GsADhaO93kgD",
        "colab": {
          "base_uri": "https://localhost:8080/",
          "height": 580
        },
        "outputId": "233cba0e-c319-415d-ea7d-3a2a2c2f46f1"
      },
      "source": [
        "import pandas as pd\n",
        "final_data = pd.read_csv(\"/content/train_qdiff_data_2_soft_labeled.csv\")\n",
        "final_data"
      ],
      "execution_count": null,
      "outputs": [
        {
          "output_type": "execute_result",
          "data": {
            "text/html": [
              "<div>\n",
              "<style scoped>\n",
              "    .dataframe tbody tr th:only-of-type {\n",
              "        vertical-align: middle;\n",
              "    }\n",
              "\n",
              "    .dataframe tbody tr th {\n",
              "        vertical-align: top;\n",
              "    }\n",
              "\n",
              "    .dataframe thead th {\n",
              "        text-align: right;\n",
              "    }\n",
              "</style>\n",
              "<table border=\"1\" class=\"dataframe\">\n",
              "  <thead>\n",
              "    <tr style=\"text-align: right;\">\n",
              "      <th></th>\n",
              "      <th>Question</th>\n",
              "      <th>Answer</th>\n",
              "      <th>DifficultyFromAnswerer</th>\n",
              "      <th>question_answer</th>\n",
              "      <th>difficulty_label</th>\n",
              "      <th>skill_label</th>\n",
              "    </tr>\n",
              "  </thead>\n",
              "  <tbody>\n",
              "    <tr>\n",
              "      <th>0</th>\n",
              "      <td>Is the dialect spoken in Jeju located in fact ...</td>\n",
              "      <td>The dialect spoken in Jeju is in fact classifi...</td>\n",
              "      <td>hard</td>\n",
              "      <td>Is the dialect spoken in Jeju located in fact ...</td>\n",
              "      <td>1</td>\n",
              "      <td>3</td>\n",
              "    </tr>\n",
              "    <tr>\n",
              "      <th>1</th>\n",
              "      <td>What cello manufacturer should I buy from if I...</td>\n",
              "      <td>Luis &amp; Clark</td>\n",
              "      <td>hard</td>\n",
              "      <td>What cello manufacturer should I buy from if I...</td>\n",
              "      <td>1</td>\n",
              "      <td>3</td>\n",
              "    </tr>\n",
              "    <tr>\n",
              "      <th>2</th>\n",
              "      <td>Does it have a border with Norway?</td>\n",
              "      <td>yes</td>\n",
              "      <td>medium</td>\n",
              "      <td>Does it have a border with Norway? yes</td>\n",
              "      <td>2</td>\n",
              "      <td>2</td>\n",
              "    </tr>\n",
              "    <tr>\n",
              "      <th>3</th>\n",
              "      <td>How many people use the bus network daily?</td>\n",
              "      <td>More than 2.78 million people.</td>\n",
              "      <td>easy</td>\n",
              "      <td>How many people use the bus network daily? Mor...</td>\n",
              "      <td>0</td>\n",
              "      <td>2</td>\n",
              "    </tr>\n",
              "    <tr>\n",
              "      <th>4</th>\n",
              "      <td>Who founded Montevideo?</td>\n",
              "      <td>The Spanish.</td>\n",
              "      <td>medium</td>\n",
              "      <td>Who founded Montevideo? The Spanish.</td>\n",
              "      <td>2</td>\n",
              "      <td>2</td>\n",
              "    </tr>\n",
              "    <tr>\n",
              "      <th>...</th>\n",
              "      <td>...</td>\n",
              "      <td>...</td>\n",
              "      <td>...</td>\n",
              "      <td>...</td>\n",
              "      <td>...</td>\n",
              "      <td>...</td>\n",
              "    </tr>\n",
              "    <tr>\n",
              "      <th>2763</th>\n",
              "      <td>Did he become a professor before the revolutio...</td>\n",
              "      <td>yes</td>\n",
              "      <td>hard</td>\n",
              "      <td>Did he become a professor before the revolutio...</td>\n",
              "      <td>1</td>\n",
              "      <td>3</td>\n",
              "    </tr>\n",
              "    <tr>\n",
              "      <th>2764</th>\n",
              "      <td>Does Vietnamese borrow from Latin and Greek?</td>\n",
              "      <td>No, Vietnamese does not borrow from Latin and ...</td>\n",
              "      <td>medium</td>\n",
              "      <td>Does Vietnamese borrow from Latin and Greek? N...</td>\n",
              "      <td>2</td>\n",
              "      <td>3</td>\n",
              "    </tr>\n",
              "    <tr>\n",
              "      <th>2765</th>\n",
              "      <td>Where is San Francisco?</td>\n",
              "      <td>San Francisco is in California.</td>\n",
              "      <td>medium</td>\n",
              "      <td>Where is San Francisco? San Francisco is in Ca...</td>\n",
              "      <td>2</td>\n",
              "      <td>3</td>\n",
              "    </tr>\n",
              "    <tr>\n",
              "      <th>2766</th>\n",
              "      <td>What is the primary item in an otter's diet?</td>\n",
              "      <td>fish</td>\n",
              "      <td>medium</td>\n",
              "      <td>What is the primary item in an otter's diet? fish</td>\n",
              "      <td>2</td>\n",
              "      <td>2</td>\n",
              "    </tr>\n",
              "    <tr>\n",
              "      <th>2767</th>\n",
              "      <td>Where are turtle eggs layed?</td>\n",
              "      <td>Turtles lay eggs on land.</td>\n",
              "      <td>hard</td>\n",
              "      <td>Where are turtle eggs layed? Turtles lay eggs ...</td>\n",
              "      <td>1</td>\n",
              "      <td>3</td>\n",
              "    </tr>\n",
              "  </tbody>\n",
              "</table>\n",
              "<p>2768 rows × 6 columns</p>\n",
              "</div>"
            ],
            "text/plain": [
              "                                               Question  ... skill_label\n",
              "0     Is the dialect spoken in Jeju located in fact ...  ...           3\n",
              "1     What cello manufacturer should I buy from if I...  ...           3\n",
              "2                    Does it have a border with Norway?  ...           2\n",
              "3            How many people use the bus network daily?  ...           2\n",
              "4                               Who founded Montevideo?  ...           2\n",
              "...                                                 ...  ...         ...\n",
              "2763  Did he become a professor before the revolutio...  ...           3\n",
              "2764       Does Vietnamese borrow from Latin and Greek?  ...           3\n",
              "2765                            Where is San Francisco?  ...           3\n",
              "2766       What is the primary item in an otter's diet?  ...           2\n",
              "2767                       Where are turtle eggs layed?  ...           3\n",
              "\n",
              "[2768 rows x 6 columns]"
            ]
          },
          "metadata": {},
          "execution_count": 3
        }
      ]
    },
    {
      "cell_type": "code",
      "metadata": {
        "id": "A0Ja4jiFhmdg",
        "colab": {
          "base_uri": "https://localhost:8080/"
        },
        "outputId": "23cdba5b-7a13-456e-cef7-8d8ce0f4c806"
      },
      "source": [
        "final_data[\"question_answer\"].values"
      ],
      "execution_count": null,
      "outputs": [
        {
          "output_type": "execute_result",
          "data": {
            "text/plain": [
              "array(['Is the dialect spoken in Jeju located in fact classified as a different language by all Korean linguists? The dialect spoken in Jeju is in fact classified as a different language by some Korean linguists.',\n",
              "       'What cello manufacturer should I buy from if I want to play outside? Luis & Clark',\n",
              "       'Does it have a border with Norway? yes', ...,\n",
              "       'Where is San Francisco? San Francisco is in California.',\n",
              "       \"What is the primary item in an otter's diet? fish\",\n",
              "       'Where are turtle eggs layed? Turtles lay eggs on land.'],\n",
              "      dtype=object)"
            ]
          },
          "metadata": {},
          "execution_count": 4
        }
      ]
    },
    {
      "cell_type": "code",
      "metadata": {
        "id": "iQhO6qqt6lge",
        "colab": {
          "base_uri": "https://localhost:8080/"
        },
        "outputId": "d23ec4f2-bf13-47f6-a0ee-244cf62b62e1"
      },
      "source": [
        "final_data['difficulty_label'].value_counts()"
      ],
      "execution_count": null,
      "outputs": [
        {
          "output_type": "execute_result",
          "data": {
            "text/plain": [
              "0    1099\n",
              "2    1001\n",
              "1     668\n",
              "Name: difficulty_label, dtype: int64"
            ]
          },
          "metadata": {},
          "execution_count": 5
        }
      ]
    },
    {
      "cell_type": "code",
      "metadata": {
        "id": "IMCV9mxDnaK0",
        "colab": {
          "base_uri": "https://localhost:8080/"
        },
        "outputId": "548f4ff4-842c-41ca-ac21-0a47699e88de"
      },
      "source": [
        "from google.colab import drive\n",
        "drive.mount('/content/drive')"
      ],
      "execution_count": null,
      "outputs": [
        {
          "output_type": "stream",
          "text": [
            "Drive already mounted at /content/drive; to attempt to forcibly remount, call drive.mount(\"/content/drive\", force_remount=True).\n"
          ],
          "name": "stdout"
        }
      ]
    },
    {
      "cell_type": "code",
      "metadata": {
        "colab": {
          "base_uri": "https://localhost:8080/"
        },
        "id": "zLY_0JWuIyhP",
        "outputId": "7fc2f787-483b-4e90-c2d4-87ff3e92f646"
      },
      "source": [
        "!unzip \"/content/drive/MyDrive/research_skill_name_prediction/model_bert_skill_prediction_data_2.zip\" "
      ],
      "execution_count": null,
      "outputs": [
        {
          "output_type": "stream",
          "text": [
            "Archive:  /content/drive/MyDrive/research_skill_name_prediction/model_bert_skill_prediction_data_2.zip\n",
            "replace model_bert_skill_prediction_data_2/vocab.txt? [y]es, [n]o, [A]ll, [N]one, [r]ename: "
          ],
          "name": "stdout"
        }
      ]
    },
    {
      "cell_type": "code",
      "metadata": {
        "colab": {
          "base_uri": "https://localhost:8080/"
        },
        "id": "oSdi4l2a_F1A",
        "outputId": "bafbabb6-1426-47b7-c361-c98cd37af2cf"
      },
      "source": [
        "\n",
        "from sklearn.preprocessing import LabelEncoder\n",
        "\n",
        "LE = LabelEncoder()\n",
        "LE.fit_transform(final_data[\"DifficultyFromAnswerer\"].values)\n",
        "LE.classes_"
      ],
      "execution_count": null,
      "outputs": [
        {
          "output_type": "execute_result",
          "data": {
            "text/plain": [
              "array(['easy', 'hard', 'medium'], dtype=object)"
            ]
          },
          "metadata": {},
          "execution_count": 8
        }
      ]
    },
    {
      "cell_type": "code",
      "metadata": {
        "id": "-OBarOLBz2nO"
      },
      "source": [
        "def get_labels(prediction):\n",
        "    predicted_label =  LE.inverse_transform([prediction])\n",
        "    return predicted_label[0]"
      ],
      "execution_count": null,
      "outputs": []
    },
    {
      "cell_type": "code",
      "metadata": {
        "id": "XqWem79lbn1J",
        "colab": {
          "base_uri": "https://localhost:8080/",
          "height": 281
        },
        "outputId": "b90b37be-cc9c-4fd7-ee59-6302c1d7fab4"
      },
      "source": [
        "final_data['difficulty_label'].value_counts().sort_values(ascending=False).plot(kind='bar')"
      ],
      "execution_count": null,
      "outputs": [
        {
          "output_type": "execute_result",
          "data": {
            "text/plain": [
              "<matplotlib.axes._subplots.AxesSubplot at 0x7f950bbb7790>"
            ]
          },
          "metadata": {},
          "execution_count": 10
        },
        {
          "output_type": "display_data",
          "data": {
            "image/png": "[encoded data removed]",
            "text/plain": [
              "<Figure size 432x288 with 1 Axes>"
            ]
          },
          "metadata": {
            "needs_background": "light"
          }
        }
      ]
    },
    {
      "cell_type": "code",
      "metadata": {
        "id": "RxliBQEJ9eTG"
      },
      "source": [
        "val = pd.read_csv(\"val_qdiff_data_2_soft_labeled.csv\")"
      ],
      "execution_count": null,
      "outputs": []
    },
    {
      "cell_type": "code",
      "metadata": {
        "id": "07eBaI9wA2hL",
        "colab": {
          "base_uri": "https://localhost:8080/",
          "height": 580
        },
        "outputId": "0fb71cef-ab90-4bac-dfdd-bd4fd92172a3"
      },
      "source": [
        "val"
      ],
      "execution_count": null,
      "outputs": [
        {
          "output_type": "execute_result",
          "data": {
            "text/html": [
              "<div>\n",
              "<style scoped>\n",
              "    .dataframe tbody tr th:only-of-type {\n",
              "        vertical-align: middle;\n",
              "    }\n",
              "\n",
              "    .dataframe tbody tr th {\n",
              "        vertical-align: top;\n",
              "    }\n",
              "\n",
              "    .dataframe thead th {\n",
              "        text-align: right;\n",
              "    }\n",
              "</style>\n",
              "<table border=\"1\" class=\"dataframe\">\n",
              "  <thead>\n",
              "    <tr style=\"text-align: right;\">\n",
              "      <th></th>\n",
              "      <th>Question</th>\n",
              "      <th>Answer</th>\n",
              "      <th>DifficultyFromAnswerer</th>\n",
              "      <th>difficulty_label</th>\n",
              "      <th>question_answer</th>\n",
              "      <th>skill_label</th>\n",
              "    </tr>\n",
              "  </thead>\n",
              "  <tbody>\n",
              "    <tr>\n",
              "      <th>0</th>\n",
              "      <td>What are turtle eggs covered in when they incu...</td>\n",
              "      <td>mud or sand</td>\n",
              "      <td>hard</td>\n",
              "      <td>1</td>\n",
              "      <td>What are turtle eggs covered in when they incu...</td>\n",
              "      <td>2</td>\n",
              "    </tr>\n",
              "    <tr>\n",
              "      <th>1</th>\n",
              "      <td>What is given for the number of native speakers?</td>\n",
              "      <td>No figure is given for the number of native sp...</td>\n",
              "      <td>hard</td>\n",
              "      <td>1</td>\n",
              "      <td>What is given for the number of native speaker...</td>\n",
              "      <td>3</td>\n",
              "    </tr>\n",
              "    <tr>\n",
              "      <th>2</th>\n",
              "      <td>How many long was Lincoln's formal education?</td>\n",
              "      <td>18 months</td>\n",
              "      <td>easy</td>\n",
              "      <td>0</td>\n",
              "      <td>How many long was Lincoln's formal education? ...</td>\n",
              "      <td>3</td>\n",
              "    </tr>\n",
              "    <tr>\n",
              "      <th>3</th>\n",
              "      <td>who was his mentor?</td>\n",
              "      <td>John 'Mad Jack' Fuller</td>\n",
              "      <td>medium</td>\n",
              "      <td>2</td>\n",
              "      <td>who was his mentor? John 'Mad Jack' Fuller</td>\n",
              "      <td>3</td>\n",
              "    </tr>\n",
              "    <tr>\n",
              "      <th>4</th>\n",
              "      <td>Can black swans swim with only one leg?</td>\n",
              "      <td>yes</td>\n",
              "      <td>easy</td>\n",
              "      <td>0</td>\n",
              "      <td>Can black swans swim with only one leg? yes</td>\n",
              "      <td>3</td>\n",
              "    </tr>\n",
              "    <tr>\n",
              "      <th>...</th>\n",
              "      <td>...</td>\n",
              "      <td>...</td>\n",
              "      <td>...</td>\n",
              "      <td>...</td>\n",
              "      <td>...</td>\n",
              "      <td>...</td>\n",
              "    </tr>\n",
              "    <tr>\n",
              "      <th>303</th>\n",
              "      <td>Is Berlin the capital city of Germany?</td>\n",
              "      <td>Berlin is the capital city of Germany.</td>\n",
              "      <td>easy</td>\n",
              "      <td>0</td>\n",
              "      <td>Is Berlin the capital city of Germany? Berlin ...</td>\n",
              "      <td>3</td>\n",
              "    </tr>\n",
              "    <tr>\n",
              "      <th>304</th>\n",
              "      <td>Who did James Monroe live with in New York City?</td>\n",
              "      <td>His daughter Maria Hester Monroe Gouverneur</td>\n",
              "      <td>medium</td>\n",
              "      <td>2</td>\n",
              "      <td>Who did James Monroe live with in New York Cit...</td>\n",
              "      <td>3</td>\n",
              "    </tr>\n",
              "    <tr>\n",
              "      <th>305</th>\n",
              "      <td>What is one of the challenges of re-establishi...</td>\n",
              "      <td>roadkill deaths</td>\n",
              "      <td>hard</td>\n",
              "      <td>1</td>\n",
              "      <td>What is one of the challenges of re-establishi...</td>\n",
              "      <td>2</td>\n",
              "    </tr>\n",
              "    <tr>\n",
              "      <th>306</th>\n",
              "      <td>Is Santiago the national capital of a country?</td>\n",
              "      <td>Yes</td>\n",
              "      <td>easy</td>\n",
              "      <td>0</td>\n",
              "      <td>Is Santiago the national capital of a country?...</td>\n",
              "      <td>3</td>\n",
              "    </tr>\n",
              "    <tr>\n",
              "      <th>307</th>\n",
              "      <td>Why do some people believe that left-handed pe...</td>\n",
              "      <td>to standardise the instrument</td>\n",
              "      <td>hard</td>\n",
              "      <td>1</td>\n",
              "      <td>Why do some people believe that left-handed pe...</td>\n",
              "      <td>4</td>\n",
              "    </tr>\n",
              "  </tbody>\n",
              "</table>\n",
              "<p>308 rows × 6 columns</p>\n",
              "</div>"
            ],
            "text/plain": [
              "                                              Question  ... skill_label\n",
              "0    What are turtle eggs covered in when they incu...  ...           2\n",
              "1     What is given for the number of native speakers?  ...           3\n",
              "2        How many long was Lincoln's formal education?  ...           3\n",
              "3                                  who was his mentor?  ...           3\n",
              "4              Can black swans swim with only one leg?  ...           3\n",
              "..                                                 ...  ...         ...\n",
              "303             Is Berlin the capital city of Germany?  ...           3\n",
              "304   Who did James Monroe live with in New York City?  ...           3\n",
              "305  What is one of the challenges of re-establishi...  ...           2\n",
              "306     Is Santiago the national capital of a country?  ...           3\n",
              "307  Why do some people believe that left-handed pe...  ...           4\n",
              "\n",
              "[308 rows x 6 columns]"
            ]
          },
          "metadata": {},
          "execution_count": 12
        }
      ]
    },
    {
      "cell_type": "code",
      "metadata": {
        "id": "g8tVsjiWj-cF",
        "colab": {
          "base_uri": "https://localhost:8080/",
          "height": 545
        },
        "outputId": "006fea66-1490-4c9f-c166-4fdf9366b6b4"
      },
      "source": [
        "test = pd.read_csv(\"test_qdiff_data_2_soft_labeled.csv\")\n",
        "test"
      ],
      "execution_count": null,
      "outputs": [
        {
          "output_type": "execute_result",
          "data": {
            "text/html": [
              "<div>\n",
              "<style scoped>\n",
              "    .dataframe tbody tr th:only-of-type {\n",
              "        vertical-align: middle;\n",
              "    }\n",
              "\n",
              "    .dataframe tbody tr th {\n",
              "        vertical-align: top;\n",
              "    }\n",
              "\n",
              "    .dataframe thead th {\n",
              "        text-align: right;\n",
              "    }\n",
              "</style>\n",
              "<table border=\"1\" class=\"dataframe\">\n",
              "  <thead>\n",
              "    <tr style=\"text-align: right;\">\n",
              "      <th></th>\n",
              "      <th>Question</th>\n",
              "      <th>Answer</th>\n",
              "      <th>DifficultyFromAnswerer</th>\n",
              "      <th>difficulty_label</th>\n",
              "      <th>question_answer</th>\n",
              "      <th>skill_label</th>\n",
              "    </tr>\n",
              "  </thead>\n",
              "  <tbody>\n",
              "    <tr>\n",
              "      <th>0</th>\n",
              "      <td>How are western-style xylophones characterised?</td>\n",
              "      <td>by a bright, sharp tone and high register</td>\n",
              "      <td>medium</td>\n",
              "      <td>2</td>\n",
              "      <td>How are western-style xylophones characterised...</td>\n",
              "      <td>2</td>\n",
              "    </tr>\n",
              "    <tr>\n",
              "      <th>1</th>\n",
              "      <td>Is Nairobi the capital of Kenya?</td>\n",
              "      <td>Yes</td>\n",
              "      <td>easy</td>\n",
              "      <td>0</td>\n",
              "      <td>Is Nairobi the capital of Kenya? Yes</td>\n",
              "      <td>3</td>\n",
              "    </tr>\n",
              "    <tr>\n",
              "      <th>2</th>\n",
              "      <td>How many sister cities does the City of Melbou...</td>\n",
              "      <td>six</td>\n",
              "      <td>medium</td>\n",
              "      <td>2</td>\n",
              "      <td>How many sister cities does the City of Melbou...</td>\n",
              "      <td>3</td>\n",
              "    </tr>\n",
              "    <tr>\n",
              "      <th>3</th>\n",
              "      <td>Is the electric eel a true eel?</td>\n",
              "      <td>No</td>\n",
              "      <td>easy</td>\n",
              "      <td>0</td>\n",
              "      <td>Is the electric eel a true eel? No</td>\n",
              "      <td>3</td>\n",
              "    </tr>\n",
              "    <tr>\n",
              "      <th>4</th>\n",
              "      <td>Does Swedish use the perfect participle to for...</td>\n",
              "      <td>No.</td>\n",
              "      <td>easy</td>\n",
              "      <td>0</td>\n",
              "      <td>Does Swedish use the perfect participle to for...</td>\n",
              "      <td>3</td>\n",
              "    </tr>\n",
              "    <tr>\n",
              "      <th>...</th>\n",
              "      <td>...</td>\n",
              "      <td>...</td>\n",
              "      <td>...</td>\n",
              "      <td>...</td>\n",
              "      <td>...</td>\n",
              "      <td>...</td>\n",
              "    </tr>\n",
              "    <tr>\n",
              "      <th>337</th>\n",
              "      <td>Where was there a vast swarm of butterflies?</td>\n",
              "      <td>In Kyoto there was a vast swarm of butterflies.</td>\n",
              "      <td>medium</td>\n",
              "      <td>2</td>\n",
              "      <td>Where was there a vast swarm of butterflies? I...</td>\n",
              "      <td>3</td>\n",
              "    </tr>\n",
              "    <tr>\n",
              "      <th>338</th>\n",
              "      <td>What is the most common romanization standard ...</td>\n",
              "      <td>Hanyu Pinyin</td>\n",
              "      <td>medium</td>\n",
              "      <td>2</td>\n",
              "      <td>What is the most common romanization standard ...</td>\n",
              "      <td>3</td>\n",
              "    </tr>\n",
              "    <tr>\n",
              "      <th>339</th>\n",
              "      <td>Is Jakarta the 12th largest city in the world?</td>\n",
              "      <td>yes</td>\n",
              "      <td>medium</td>\n",
              "      <td>2</td>\n",
              "      <td>Is Jakarta the 12th largest city in the world?...</td>\n",
              "      <td>2</td>\n",
              "    </tr>\n",
              "    <tr>\n",
              "      <th>340</th>\n",
              "      <td>What sort of turtles are ectothermic?</td>\n",
              "      <td>all of them</td>\n",
              "      <td>medium</td>\n",
              "      <td>2</td>\n",
              "      <td>What sort of turtles are ectothermic? all of them</td>\n",
              "      <td>2</td>\n",
              "    </tr>\n",
              "    <tr>\n",
              "      <th>341</th>\n",
              "      <td>Was Gellu Naum the leader of the surrealist mo...</td>\n",
              "      <td>Yes</td>\n",
              "      <td>easy</td>\n",
              "      <td>0</td>\n",
              "      <td>Was Gellu Naum the leader of the surrealist mo...</td>\n",
              "      <td>3</td>\n",
              "    </tr>\n",
              "  </tbody>\n",
              "</table>\n",
              "<p>342 rows × 6 columns</p>\n",
              "</div>"
            ],
            "text/plain": [
              "                                              Question  ... skill_label\n",
              "0      How are western-style xylophones characterised?  ...           2\n",
              "1                     Is Nairobi the capital of Kenya?  ...           3\n",
              "2    How many sister cities does the City of Melbou...  ...           3\n",
              "3                      Is the electric eel a true eel?  ...           3\n",
              "4    Does Swedish use the perfect participle to for...  ...           3\n",
              "..                                                 ...  ...         ...\n",
              "337       Where was there a vast swarm of butterflies?  ...           3\n",
              "338  What is the most common romanization standard ...  ...           3\n",
              "339     Is Jakarta the 12th largest city in the world?  ...           2\n",
              "340              What sort of turtles are ectothermic?  ...           2\n",
              "341  Was Gellu Naum the leader of the surrealist mo...  ...           3\n",
              "\n",
              "[342 rows x 6 columns]"
            ]
          },
          "metadata": {},
          "execution_count": 13
        }
      ]
    },
    {
      "cell_type": "code",
      "metadata": {
        "id": "FIrS5sxE3kgk",
        "colab": {
          "base_uri": "https://localhost:8080/"
        },
        "outputId": "9e138290-b7af-434f-95c7-cd1823b17c9d"
      },
      "source": [
        "from transformers import BertTokenizer\n",
        "\n",
        "# Load the BERT tokenizer.\n",
        "print('Loading BERT tokenizer...')\n",
        "tokenizer = BertTokenizer.from_pretrained('model_bert_skill_prediction_data_2', do_lower_case=True)"
      ],
      "execution_count": null,
      "outputs": [
        {
          "output_type": "stream",
          "text": [
            "file model_bert_skill_prediction_data_2/config.json not found\n"
          ],
          "name": "stderr"
        },
        {
          "output_type": "stream",
          "text": [
            "Loading BERT tokenizer...\n"
          ],
          "name": "stdout"
        }
      ]
    },
    {
      "cell_type": "code",
      "metadata": {
        "id": "wp64MkNB3kg1"
      },
      "source": [
        "def get_labels(prediction):\n",
        "    predicted_label =  LE.inverse_transform([prediction])\n",
        "    return predicted_label[0]"
      ],
      "execution_count": null,
      "outputs": []
    },
    {
      "cell_type": "code",
      "metadata": {
        "id": "I_UpqLMG3kg9",
        "colab": {
          "base_uri": "https://localhost:8080/",
          "height": 580
        },
        "outputId": "1c33a31e-58a0-4f11-b07d-76ae95deccda"
      },
      "source": [
        "final_data"
      ],
      "execution_count": null,
      "outputs": [
        {
          "output_type": "execute_result",
          "data": {
            "text/html": [
              "<div>\n",
              "<style scoped>\n",
              "    .dataframe tbody tr th:only-of-type {\n",
              "        vertical-align: middle;\n",
              "    }\n",
              "\n",
              "    .dataframe tbody tr th {\n",
              "        vertical-align: top;\n",
              "    }\n",
              "\n",
              "    .dataframe thead th {\n",
              "        text-align: right;\n",
              "    }\n",
              "</style>\n",
              "<table border=\"1\" class=\"dataframe\">\n",
              "  <thead>\n",
              "    <tr style=\"text-align: right;\">\n",
              "      <th></th>\n",
              "      <th>Question</th>\n",
              "      <th>Answer</th>\n",
              "      <th>DifficultyFromAnswerer</th>\n",
              "      <th>question_answer</th>\n",
              "      <th>difficulty_label</th>\n",
              "      <th>skill_label</th>\n",
              "    </tr>\n",
              "  </thead>\n",
              "  <tbody>\n",
              "    <tr>\n",
              "      <th>0</th>\n",
              "      <td>Is the dialect spoken in Jeju located in fact ...</td>\n",
              "      <td>The dialect spoken in Jeju is in fact classifi...</td>\n",
              "      <td>hard</td>\n",
              "      <td>Is the dialect spoken in Jeju located in fact ...</td>\n",
              "      <td>1</td>\n",
              "      <td>3</td>\n",
              "    </tr>\n",
              "    <tr>\n",
              "      <th>1</th>\n",
              "      <td>What cello manufacturer should I buy from if I...</td>\n",
              "      <td>Luis &amp; Clark</td>\n",
              "      <td>hard</td>\n",
              "      <td>What cello manufacturer should I buy from if I...</td>\n",
              "      <td>1</td>\n",
              "      <td>3</td>\n",
              "    </tr>\n",
              "    <tr>\n",
              "      <th>2</th>\n",
              "      <td>Does it have a border with Norway?</td>\n",
              "      <td>yes</td>\n",
              "      <td>medium</td>\n",
              "      <td>Does it have a border with Norway? yes</td>\n",
              "      <td>2</td>\n",
              "      <td>2</td>\n",
              "    </tr>\n",
              "    <tr>\n",
              "      <th>3</th>\n",
              "      <td>How many people use the bus network daily?</td>\n",
              "      <td>More than 2.78 million people.</td>\n",
              "      <td>easy</td>\n",
              "      <td>How many people use the bus network daily? Mor...</td>\n",
              "      <td>0</td>\n",
              "      <td>2</td>\n",
              "    </tr>\n",
              "    <tr>\n",
              "      <th>4</th>\n",
              "      <td>Who founded Montevideo?</td>\n",
              "      <td>The Spanish.</td>\n",
              "      <td>medium</td>\n",
              "      <td>Who founded Montevideo? The Spanish.</td>\n",
              "      <td>2</td>\n",
              "      <td>2</td>\n",
              "    </tr>\n",
              "    <tr>\n",
              "      <th>...</th>\n",
              "      <td>...</td>\n",
              "      <td>...</td>\n",
              "      <td>...</td>\n",
              "      <td>...</td>\n",
              "      <td>...</td>\n",
              "      <td>...</td>\n",
              "    </tr>\n",
              "    <tr>\n",
              "      <th>2763</th>\n",
              "      <td>Did he become a professor before the revolutio...</td>\n",
              "      <td>yes</td>\n",
              "      <td>hard</td>\n",
              "      <td>Did he become a professor before the revolutio...</td>\n",
              "      <td>1</td>\n",
              "      <td>3</td>\n",
              "    </tr>\n",
              "    <tr>\n",
              "      <th>2764</th>\n",
              "      <td>Does Vietnamese borrow from Latin and Greek?</td>\n",
              "      <td>No, Vietnamese does not borrow from Latin and ...</td>\n",
              "      <td>medium</td>\n",
              "      <td>Does Vietnamese borrow from Latin and Greek? N...</td>\n",
              "      <td>2</td>\n",
              "      <td>3</td>\n",
              "    </tr>\n",
              "    <tr>\n",
              "      <th>2765</th>\n",
              "      <td>Where is San Francisco?</td>\n",
              "      <td>San Francisco is in California.</td>\n",
              "      <td>medium</td>\n",
              "      <td>Where is San Francisco? San Francisco is in Ca...</td>\n",
              "      <td>2</td>\n",
              "      <td>3</td>\n",
              "    </tr>\n",
              "    <tr>\n",
              "      <th>2766</th>\n",
              "      <td>What is the primary item in an otter's diet?</td>\n",
              "      <td>fish</td>\n",
              "      <td>medium</td>\n",
              "      <td>What is the primary item in an otter's diet? fish</td>\n",
              "      <td>2</td>\n",
              "      <td>2</td>\n",
              "    </tr>\n",
              "    <tr>\n",
              "      <th>2767</th>\n",
              "      <td>Where are turtle eggs layed?</td>\n",
              "      <td>Turtles lay eggs on land.</td>\n",
              "      <td>hard</td>\n",
              "      <td>Where are turtle eggs layed? Turtles lay eggs ...</td>\n",
              "      <td>1</td>\n",
              "      <td>3</td>\n",
              "    </tr>\n",
              "  </tbody>\n",
              "</table>\n",
              "<p>2768 rows × 6 columns</p>\n",
              "</div>"
            ],
            "text/plain": [
              "                                               Question  ... skill_label\n",
              "0     Is the dialect spoken in Jeju located in fact ...  ...           3\n",
              "1     What cello manufacturer should I buy from if I...  ...           3\n",
              "2                    Does it have a border with Norway?  ...           2\n",
              "3            How many people use the bus network daily?  ...           2\n",
              "4                               Who founded Montevideo?  ...           2\n",
              "...                                                 ...  ...         ...\n",
              "2763  Did he become a professor before the revolutio...  ...           3\n",
              "2764       Does Vietnamese borrow from Latin and Greek?  ...           3\n",
              "2765                            Where is San Francisco?  ...           3\n",
              "2766       What is the primary item in an otter's diet?  ...           2\n",
              "2767                       Where are turtle eggs layed?  ...           3\n",
              "\n",
              "[2768 rows x 6 columns]"
            ]
          },
          "metadata": {},
          "execution_count": 16
        }
      ]
    },
    {
      "cell_type": "code",
      "metadata": {
        "id": "MHdVe13Fr3vt"
      },
      "source": [
        "new_data = final_data"
      ],
      "execution_count": null,
      "outputs": []
    },
    {
      "cell_type": "code",
      "metadata": {
        "id": "AkyM7gqv3khI"
      },
      "source": [
        "question_answer = new_data[\"question_answer\"].values\n",
        "categories = new_data[\"difficulty_label\"].values"
      ],
      "execution_count": null,
      "outputs": []
    },
    {
      "cell_type": "code",
      "metadata": {
        "id": "Ndpw0p1SBUoZ",
        "colab": {
          "base_uri": "https://localhost:8080/"
        },
        "outputId": "64617b84-446a-47d2-d424-426bd7f7cffc"
      },
      "source": [
        "question_answer"
      ],
      "execution_count": null,
      "outputs": [
        {
          "output_type": "execute_result",
          "data": {
            "text/plain": [
              "array(['Is the dialect spoken in Jeju located in fact classified as a different language by all Korean linguists? The dialect spoken in Jeju is in fact classified as a different language by some Korean linguists.',\n",
              "       'What cello manufacturer should I buy from if I want to play outside? Luis & Clark',\n",
              "       'Does it have a border with Norway? yes', ...,\n",
              "       'Where is San Francisco? San Francisco is in California.',\n",
              "       \"What is the primary item in an otter's diet? fish\",\n",
              "       'Where are turtle eggs layed? Turtles lay eggs on land.'],\n",
              "      dtype=object)"
            ]
          },
          "metadata": {},
          "execution_count": 19
        }
      ]
    },
    {
      "cell_type": "code",
      "metadata": {
        "id": "tFkS_H_83khL",
        "colab": {
          "base_uri": "https://localhost:8080/",
          "height": 54
        },
        "outputId": "b75c5cd3-711d-40c8-cbaf-cb38fa4fb6fc"
      },
      "source": [
        "question_answer[0]"
      ],
      "execution_count": null,
      "outputs": [
        {
          "output_type": "execute_result",
          "data": {
            "application/vnd.google.colaboratory.intrinsic+json": {
              "type": "string"
            },
            "text/plain": [
              "'Is the dialect spoken in Jeju located in fact classified as a different language by all Korean linguists? The dialect spoken in Jeju is in fact classified as a different language by some Korean linguists.'"
            ]
          },
          "metadata": {},
          "execution_count": 20
        }
      ]
    },
    {
      "cell_type": "code",
      "metadata": {
        "id": "ian7gSDE3khR",
        "colab": {
          "base_uri": "https://localhost:8080/"
        },
        "outputId": "baa81e95-bae0-488e-8ec1-32a096060805"
      },
      "source": [
        "len(categories)"
      ],
      "execution_count": null,
      "outputs": [
        {
          "output_type": "execute_result",
          "data": {
            "text/plain": [
              "2768"
            ]
          },
          "metadata": {},
          "execution_count": 21
        }
      ]
    },
    {
      "cell_type": "code",
      "metadata": {
        "id": "Y_ZeuHc63khU",
        "colab": {
          "base_uri": "https://localhost:8080/"
        },
        "outputId": "992d401e-aa78-4d12-ba40-f513d839063a"
      },
      "source": [
        "input_ids = []\n",
        "attention_masks = []\n",
        "\n",
        "for sent in question_answer:\n",
        "    # `encode_plus` will:\n",
        "    #   (1) Tokenize the sentence.\n",
        "    #   (2) Prepend the `[CLS]` token to the start.\n",
        "    #   (3) Append the `[SEP]` token to the end.\n",
        "    #   (4) Map tokens to their IDs.\n",
        "    #   (5) Pad or truncate the sentence to `max_length`\n",
        "    #   (6) Create attention masks for [PAD] tokens.\n",
        "    encoded_dict = tokenizer.encode_plus(\n",
        "                        sent,                      # Sentence to encode.\n",
        "                        add_special_tokens = True, # Add '[CLS]' and '[SEP]'\n",
        "                        max_length = 128,           # Pad & truncate all sentences.\n",
        "                        pad_to_max_length = True,\n",
        "                        truncation=True,\n",
        "                        return_attention_mask = True,   # Construct attn. masks.\n",
        "                        return_tensors = 'pt',     # Return pytorch tensors.\n",
        "                   )\n",
        "    \n",
        "    # Add the encoded sentence to the list.    \n",
        "    input_ids.append(encoded_dict['input_ids'])\n",
        "    \n",
        "    # And its attention mask (simply differentiates padding from non-padding).\n",
        "    attention_masks.append(encoded_dict['attention_mask'])\n",
        "# Convert the lists into tensors.\n",
        "input_ids = torch.cat(input_ids, dim=0)\n",
        "attention_masks = torch.cat(attention_masks, dim=0)\n",
        "\n",
        "\n",
        "# Print sentence 0, now as a list of IDs.\n",
        "print('Original: ', question_answer[0])\n",
        "print('Token IDs:', input_ids[0])"
      ],
      "execution_count": null,
      "outputs": [
        {
          "output_type": "stream",
          "text": [
            "/usr/local/lib/python3.7/dist-packages/transformers/tokenization_utils_base.py:2190: FutureWarning: The `pad_to_max_length` argument is deprecated and will be removed in a future version, use `padding=True` or `padding='longest'` to pad to the longest sequence in the batch, or use `padding='max_length'` to pad to a max length. In this case, you can give a specific length with `max_length` (e.g. `max_length=45`) or leave max_length to None to pad to the maximal input size of the model (e.g. 512 for Bert).\n",
            "  FutureWarning,\n"
          ],
          "name": "stderr"
        },
        {
          "output_type": "stream",
          "text": [
            "Original:  Is the dialect spoken in Jeju located in fact classified as a different language by all Korean linguists? The dialect spoken in Jeju is in fact classified as a different language by some Korean linguists.\n",
            "Token IDs: tensor([  101,  2003,  1996,  9329,  5287,  1999, 15333,  9103,  2284,  1999,\n",
            "         2755,  6219,  2004,  1037,  2367,  2653,  2011,  2035,  4759, 22978,\n",
            "         2015,  1029,  1996,  9329,  5287,  1999, 15333,  9103,  2003,  1999,\n",
            "         2755,  6219,  2004,  1037,  2367,  2653,  2011,  2070,  4759, 22978,\n",
            "         2015,  1012,   102,     0,     0,     0,     0,     0,     0,     0,\n",
            "            0,     0,     0,     0,     0,     0,     0,     0,     0,     0,\n",
            "            0,     0,     0,     0,     0,     0,     0,     0,     0,     0,\n",
            "            0,     0,     0,     0,     0,     0,     0,     0,     0,     0,\n",
            "            0,     0,     0,     0,     0,     0,     0,     0,     0,     0,\n",
            "            0,     0,     0,     0,     0,     0,     0,     0,     0,     0,\n",
            "            0,     0,     0,     0,     0,     0,     0,     0,     0,     0,\n",
            "            0,     0,     0,     0,     0,     0,     0,     0,     0,     0,\n",
            "            0,     0,     0,     0,     0,     0,     0,     0])\n"
          ],
          "name": "stdout"
        }
      ]
    },
    {
      "cell_type": "code",
      "metadata": {
        "id": "iVGvVZb13kha",
        "colab": {
          "base_uri": "https://localhost:8080/"
        },
        "outputId": "14184c68-d859-4eec-e514-b422726d177b"
      },
      "source": [
        "print('Original: ', len(question_answer[1]))\n",
        "print('Token IDs:', len(input_ids[1]))"
      ],
      "execution_count": null,
      "outputs": [
        {
          "output_type": "stream",
          "text": [
            "Original:  81\n",
            "Token IDs: 128\n"
          ],
          "name": "stdout"
        }
      ]
    },
    {
      "cell_type": "code",
      "metadata": {
        "id": "qDqt_xO6_8Qh"
      },
      "source": [
        "val = val.dropna(subset=[\"question_answer\"])"
      ],
      "execution_count": null,
      "outputs": []
    },
    {
      "cell_type": "code",
      "metadata": {
        "id": "5nmRiaBbA9OH"
      },
      "source": [
        "val_text = val[\"question_answer\"].values\n",
        "val_labels = val[\"difficulty_label\"].values\n",
        "test_text = test[\"question_answer\"].values\n",
        "test_labels = test[\"difficulty_label\"].values"
      ],
      "execution_count": null,
      "outputs": []
    },
    {
      "cell_type": "code",
      "metadata": {
        "id": "E-s_H1WdyvCw",
        "colab": {
          "base_uri": "https://localhost:8080/"
        },
        "outputId": "42090c62-554d-4740-97ad-325d616ef9d7"
      },
      "source": [
        "test_labels"
      ],
      "execution_count": null,
      "outputs": [
        {
          "output_type": "execute_result",
          "data": {
            "text/plain": [
              "array([2, 0, 2, 0, 0, 0, 1, 2, 1, 2, 2, 1, 0, 0, 1, 1, 1, 0, 2, 2, 0, 2,\n",
              "       1, 1, 1, 2, 0, 0, 0, 0, 2, 2, 2, 0, 0, 2, 1, 0, 1, 2, 1, 2, 2, 0,\n",
              "       2, 0, 2, 2, 0, 2, 2, 1, 0, 2, 2, 1, 0, 0, 2, 0, 1, 0, 0, 2, 0, 2,\n",
              "       0, 0, 2, 2, 2, 2, 0, 0, 2, 2, 0, 2, 0, 2, 2, 2, 2, 0, 0, 0, 0, 2,\n",
              "       0, 1, 0, 0, 0, 2, 2, 0, 1, 0, 0, 0, 0, 1, 1, 2, 2, 0, 2, 2, 0, 2,\n",
              "       0, 0, 0, 1, 0, 2, 2, 1, 1, 1, 1, 2, 1, 0, 0, 0, 1, 1, 0, 0, 1, 0,\n",
              "       0, 1, 1, 0, 0, 0, 0, 2, 0, 0, 0, 0, 2, 0, 2, 0, 0, 1, 0, 2, 2, 2,\n",
              "       2, 2, 0, 1, 2, 2, 0, 2, 2, 2, 1, 1, 2, 2, 1, 0, 0, 0, 2, 1, 1, 0,\n",
              "       0, 0, 0, 0, 1, 2, 0, 2, 2, 2, 1, 0, 0, 0, 2, 0, 0, 0, 1, 0, 0, 0,\n",
              "       2, 0, 0, 2, 1, 0, 2, 1, 1, 0, 0, 2, 2, 0, 2, 2, 0, 0, 2, 2, 2, 1,\n",
              "       2, 2, 0, 1, 2, 1, 2, 1, 2, 1, 2, 1, 0, 0, 1, 2, 2, 1, 0, 0, 0, 1,\n",
              "       2, 0, 0, 2, 0, 2, 0, 0, 2, 1, 1, 2, 2, 0, 2, 0, 2, 2, 1, 2, 2, 2,\n",
              "       0, 1, 2, 0, 1, 1, 2, 2, 0, 2, 1, 0, 2, 1, 0, 1, 1, 2, 0, 1, 1, 1,\n",
              "       1, 2, 1, 0, 2, 0, 0, 2, 0, 1, 0, 1, 1, 0, 2, 0, 1, 2, 0, 0, 1, 0,\n",
              "       1, 2, 1, 1, 1, 2, 2, 1, 2, 0, 2, 1, 0, 1, 1, 0, 0, 1, 0, 0, 1, 2,\n",
              "       2, 2, 1, 0, 1, 1, 2, 2, 2, 2, 2, 0])"
            ]
          },
          "metadata": {},
          "execution_count": 26
        }
      ]
    },
    {
      "cell_type": "code",
      "metadata": {
        "id": "YF-mKCC1CUjD",
        "colab": {
          "base_uri": "https://localhost:8080/"
        },
        "outputId": "470f12e8-bdcf-4f89-e653-c1226950b594"
      },
      "source": [
        "val_labels"
      ],
      "execution_count": null,
      "outputs": [
        {
          "output_type": "execute_result",
          "data": {
            "text/plain": [
              "array([1, 1, 0, 2, 0, 0, 1, 2, 2, 0, 2, 0, 1, 0, 0, 0, 0, 2, 2, 2, 0, 0,\n",
              "       2, 1, 1, 0, 1, 2, 2, 1, 1, 0, 1, 2, 1, 1, 0, 0, 0, 1, 1, 2, 2, 0,\n",
              "       1, 0, 1, 2, 0, 0, 0, 2, 0, 2, 0, 2, 0, 1, 0, 1, 0, 0, 2, 2, 1, 1,\n",
              "       2, 1, 0, 1, 2, 0, 2, 2, 2, 1, 2, 2, 1, 2, 1, 1, 0, 2, 0, 1, 0, 0,\n",
              "       1, 2, 2, 0, 0, 0, 2, 2, 1, 1, 0, 0, 1, 0, 2, 0, 1, 0, 2, 0, 0, 2,\n",
              "       2, 1, 2, 2, 0, 1, 0, 0, 2, 0, 0, 0, 0, 2, 0, 2, 0, 2, 0, 2, 0, 0,\n",
              "       0, 1, 0, 2, 0, 1, 2, 1, 0, 1, 2, 2, 2, 2, 1, 2, 1, 0, 1, 2, 0, 0,\n",
              "       1, 0, 2, 0, 2, 2, 0, 0, 1, 1, 2, 1, 1, 0, 2, 2, 0, 1, 1, 2, 0, 0,\n",
              "       0, 1, 2, 2, 2, 1, 0, 1, 2, 2, 0, 0, 1, 0, 2, 2, 1, 0, 0, 0, 1, 2,\n",
              "       1, 2, 1, 1, 2, 0, 1, 2, 0, 1, 1, 2, 1, 2, 0, 0, 1, 0, 0, 2, 1, 0,\n",
              "       0, 0, 0, 0, 0, 2, 0, 1, 0, 2, 2, 2, 1, 2, 1, 1, 0, 1, 0, 2, 1, 1,\n",
              "       0, 2, 0, 0, 0, 1, 2, 0, 1, 0, 0, 2, 1, 2, 0, 1, 2, 0, 0, 0, 0, 0,\n",
              "       0, 2, 0, 0, 2, 1, 1, 0, 2, 0, 0, 2, 0, 2, 2, 2, 2, 2, 0, 2, 0, 0,\n",
              "       0, 0, 2, 2, 0, 0, 1, 1, 2, 1, 1, 2, 1, 2, 0, 0, 0, 2, 1, 0, 1])"
            ]
          },
          "metadata": {},
          "execution_count": 27
        }
      ]
    },
    {
      "cell_type": "code",
      "metadata": {
        "id": "sOQuDahhAzOO",
        "colab": {
          "base_uri": "https://localhost:8080/"
        },
        "outputId": "43121fc6-facf-4048-869d-5f3b324bfb79"
      },
      "source": [
        "val_input_ids = []\n",
        "val_attention_masks = []\n",
        "\n",
        "for sent in val_text:\n",
        "    # `encode_plus` will:\n",
        "    #   (1) Tokenize the sentence.\n",
        "    #   (2) Prepend the `[CLS]` token to the start.\n",
        "    #   (3) Append the `[SEP]` token to the end.\n",
        "    #   (4) Map tokens to their IDs.\n",
        "    #   (5) Pad or truncate the sentence to `max_length`\n",
        "    #   (6) Create attention masks for [PAD] tokens.\n",
        "    encoded_dict = tokenizer.encode_plus(\n",
        "                        sent,                      # Sentence to encode.\n",
        "                        add_special_tokens = True, # Add '[CLS]' and '[SEP]'\n",
        "                        max_length = 128,           # Pad & truncate all sentences.\n",
        "                        pad_to_max_length = True,\n",
        "                        truncation=True,\n",
        "                        return_attention_mask = True,   # Construct attn. masks.\n",
        "                        return_tensors = 'pt',     # Return pytorch tensors.\n",
        "                   )\n",
        "    \n",
        "    # Add the encoded sentence to the list.    \n",
        "    val_input_ids.append(encoded_dict['input_ids'])\n",
        "    \n",
        "    # And its attention mask (simply differentiates padding from non-padding).\n",
        "    val_attention_masks.append(encoded_dict['attention_mask'])\n",
        "# Convert the lists into tensors.\n",
        "val_input_ids = torch.cat(val_input_ids, dim=0)\n",
        "val_attention_masks = torch.cat(val_attention_masks, dim=0)\n",
        "\n",
        "\n",
        "# Print sentence 0, now as a list of IDs.\n",
        "print('Original: ', val_text[0])\n",
        "print('Token IDs:', val_attention_masks[0])"
      ],
      "execution_count": null,
      "outputs": [
        {
          "output_type": "stream",
          "text": [
            "Original:  What are turtle eggs covered in when they incubate? mud or sand\n",
            "Token IDs: tensor([1, 1, 1, 1, 1, 1, 1, 1, 1, 1, 1, 1, 1, 1, 1, 1, 1, 0, 0, 0, 0, 0, 0, 0,\n",
            "        0, 0, 0, 0, 0, 0, 0, 0, 0, 0, 0, 0, 0, 0, 0, 0, 0, 0, 0, 0, 0, 0, 0, 0,\n",
            "        0, 0, 0, 0, 0, 0, 0, 0, 0, 0, 0, 0, 0, 0, 0, 0, 0, 0, 0, 0, 0, 0, 0, 0,\n",
            "        0, 0, 0, 0, 0, 0, 0, 0, 0, 0, 0, 0, 0, 0, 0, 0, 0, 0, 0, 0, 0, 0, 0, 0,\n",
            "        0, 0, 0, 0, 0, 0, 0, 0, 0, 0, 0, 0, 0, 0, 0, 0, 0, 0, 0, 0, 0, 0, 0, 0,\n",
            "        0, 0, 0, 0, 0, 0, 0, 0])\n"
          ],
          "name": "stdout"
        },
        {
          "output_type": "stream",
          "text": [
            "/usr/local/lib/python3.7/dist-packages/transformers/tokenization_utils_base.py:2190: FutureWarning: The `pad_to_max_length` argument is deprecated and will be removed in a future version, use `padding=True` or `padding='longest'` to pad to the longest sequence in the batch, or use `padding='max_length'` to pad to a max length. In this case, you can give a specific length with `max_length` (e.g. `max_length=45`) or leave max_length to None to pad to the maximal input size of the model (e.g. 512 for Bert).\n",
            "  FutureWarning,\n"
          ],
          "name": "stderr"
        }
      ]
    },
    {
      "cell_type": "code",
      "metadata": {
        "id": "Siskea7qDLUG",
        "colab": {
          "base_uri": "https://localhost:8080/"
        },
        "outputId": "af8f93e8-1e33-415f-ce45-0f9c85f5289a"
      },
      "source": [
        "print('Original: ', val_text[1])\n",
        "print('Token IDs:', val_input_ids[1])"
      ],
      "execution_count": null,
      "outputs": [
        {
          "output_type": "stream",
          "text": [
            "Original:  What is given for the number of native speakers? No figure is given for the number of native speakers.\n",
            "Token IDs: tensor([ 101, 2054, 2003, 2445, 2005, 1996, 2193, 1997, 3128, 7492, 1029, 2053,\n",
            "        3275, 2003, 2445, 2005, 1996, 2193, 1997, 3128, 7492, 1012,  102,    0,\n",
            "           0,    0,    0,    0,    0,    0,    0,    0,    0,    0,    0,    0,\n",
            "           0,    0,    0,    0,    0,    0,    0,    0,    0,    0,    0,    0,\n",
            "           0,    0,    0,    0,    0,    0,    0,    0,    0,    0,    0,    0,\n",
            "           0,    0,    0,    0,    0,    0,    0,    0,    0,    0,    0,    0,\n",
            "           0,    0,    0,    0,    0,    0,    0,    0,    0,    0,    0,    0,\n",
            "           0,    0,    0,    0,    0,    0,    0,    0,    0,    0,    0,    0,\n",
            "           0,    0,    0,    0,    0,    0,    0,    0,    0,    0,    0,    0,\n",
            "           0,    0,    0,    0,    0,    0,    0,    0,    0,    0,    0,    0,\n",
            "           0,    0,    0,    0,    0,    0,    0,    0])\n"
          ],
          "name": "stdout"
        }
      ]
    },
    {
      "cell_type": "code",
      "metadata": {
        "id": "irMTimjf3khd"
      },
      "source": [
        "labels = torch.tensor(categories)\n",
        "val_labels = torch.tensor(val_labels)"
      ],
      "execution_count": null,
      "outputs": []
    },
    {
      "cell_type": "code",
      "metadata": {
        "id": "PdOgWP_LKTHi",
        "colab": {
          "base_uri": "https://localhost:8080/"
        },
        "outputId": "5fa983ae-b4cc-49f6-8d97-e37d279c4316"
      },
      "source": [
        "val_labels"
      ],
      "execution_count": null,
      "outputs": [
        {
          "output_type": "execute_result",
          "data": {
            "text/plain": [
              "tensor([1, 1, 0, 2, 0, 0, 1, 2, 2, 0, 2, 0, 1, 0, 0, 0, 0, 2, 2, 2, 0, 0, 2, 1,\n",
              "        1, 0, 1, 2, 2, 1, 1, 0, 1, 2, 1, 1, 0, 0, 0, 1, 1, 2, 2, 0, 1, 0, 1, 2,\n",
              "        0, 0, 0, 2, 0, 2, 0, 2, 0, 1, 0, 1, 0, 0, 2, 2, 1, 1, 2, 1, 0, 1, 2, 0,\n",
              "        2, 2, 2, 1, 2, 2, 1, 2, 1, 1, 0, 2, 0, 1, 0, 0, 1, 2, 2, 0, 0, 0, 2, 2,\n",
              "        1, 1, 0, 0, 1, 0, 2, 0, 1, 0, 2, 0, 0, 2, 2, 1, 2, 2, 0, 1, 0, 0, 2, 0,\n",
              "        0, 0, 0, 2, 0, 2, 0, 2, 0, 2, 0, 0, 0, 1, 0, 2, 0, 1, 2, 1, 0, 1, 2, 2,\n",
              "        2, 2, 1, 2, 1, 0, 1, 2, 0, 0, 1, 0, 2, 0, 2, 2, 0, 0, 1, 1, 2, 1, 1, 0,\n",
              "        2, 2, 0, 1, 1, 2, 0, 0, 0, 1, 2, 2, 2, 1, 0, 1, 2, 2, 0, 0, 1, 0, 2, 2,\n",
              "        1, 0, 0, 0, 1, 2, 1, 2, 1, 1, 2, 0, 1, 2, 0, 1, 1, 2, 1, 2, 0, 0, 1, 0,\n",
              "        0, 2, 1, 0, 0, 0, 0, 0, 0, 2, 0, 1, 0, 2, 2, 2, 1, 2, 1, 1, 0, 1, 0, 2,\n",
              "        1, 1, 0, 2, 0, 0, 0, 1, 2, 0, 1, 0, 0, 2, 1, 2, 0, 1, 2, 0, 0, 0, 0, 0,\n",
              "        0, 2, 0, 0, 2, 1, 1, 0, 2, 0, 0, 2, 0, 2, 2, 2, 2, 2, 0, 2, 0, 0, 0, 0,\n",
              "        2, 2, 0, 0, 1, 1, 2, 1, 1, 2, 1, 2, 0, 0, 0, 2, 1, 0, 1])"
            ]
          },
          "metadata": {},
          "execution_count": 31
        }
      ]
    },
    {
      "cell_type": "code",
      "metadata": {
        "id": "OJJ0I8Ud3khf",
        "colab": {
          "base_uri": "https://localhost:8080/",
          "height": 35
        },
        "outputId": "4cad22bf-e160-47e3-8316-3cc626cea4f1"
      },
      "source": [
        "get_labels(1)"
      ],
      "execution_count": null,
      "outputs": [
        {
          "output_type": "execute_result",
          "data": {
            "application/vnd.google.colaboratory.intrinsic+json": {
              "type": "string"
            },
            "text/plain": [
              "'hard'"
            ]
          },
          "metadata": {},
          "execution_count": 32
        }
      ]
    },
    {
      "cell_type": "code",
      "metadata": {
        "colab": {
          "base_uri": "https://localhost:8080/"
        },
        "id": "Z1ZAbQRfiG63",
        "outputId": "b9e0db6b-6ec1-411d-d508-34c284758de8"
      },
      "source": [
        "len(set(final_data[\"question_answer\"].values).intersection(val[\"question_answer\"].values))"
      ],
      "execution_count": null,
      "outputs": [
        {
          "output_type": "execute_result",
          "data": {
            "text/plain": [
              "46"
            ]
          },
          "metadata": {},
          "execution_count": 33
        }
      ]
    },
    {
      "cell_type": "code",
      "metadata": {
        "id": "BNDW74Ny3khj",
        "colab": {
          "base_uri": "https://localhost:8080/"
        },
        "outputId": "42b32ff6-f43c-43bc-bd58-01007df93899"
      },
      "source": [
        "num_classes = len(list(set(categories)))\n",
        "list(set(categories))"
      ],
      "execution_count": null,
      "outputs": [
        {
          "output_type": "execute_result",
          "data": {
            "text/plain": [
              "[0, 1, 2]"
            ]
          },
          "metadata": {},
          "execution_count": 34
        }
      ]
    },
    {
      "cell_type": "code",
      "metadata": {
        "colab": {
          "base_uri": "https://localhost:8080/"
        },
        "id": "eBmPg08ZJppn",
        "outputId": "389478a3-0268-491c-eb39-b1eb9fb4ea80"
      },
      "source": [
        "num_classes"
      ],
      "execution_count": null,
      "outputs": [
        {
          "output_type": "execute_result",
          "data": {
            "text/plain": [
              "3"
            ]
          },
          "metadata": {},
          "execution_count": 35
        }
      ]
    },
    {
      "cell_type": "code",
      "metadata": {
        "id": "ZmaLk5Ab3khl"
      },
      "source": [
        "from torch.utils.data import TensorDataset, random_split\n",
        "# train_poincare_tensor = torch.tensor(poincare_embeddings_final,dtype=torch.float)\n",
        "# difficulty_tensor = torch.tensor(difficulty_level_vectors,dtype=torch.float)\n",
        "# Combine the training inputs into a TensorDataset.\n",
        "dataset = TensorDataset(input_ids, attention_masks, labels)\n",
        "val_dataset = TensorDataset(val_input_ids, val_attention_masks,val_labels) \n",
        "# Create a 90-10train-validation split.\n",
        "\n",
        "# Calculate the number of samples to include in each set.\n",
        "# train_size = int(0.90 * len(dataset))\n",
        "# val_size = len(dataset) - train_size\n",
        "\n",
        "# # Divide the dataset by randomly selecting samples.\n",
        "# train_dataset, val_dataset = random_split(dataset, [train_size, val_size])\n",
        "\n",
        "# print('{:>5,} training samples'.format(train_size))\n",
        "# # print('{:>5,} validation samples'.format(val_size))"
      ],
      "execution_count": null,
      "outputs": []
    },
    {
      "cell_type": "code",
      "metadata": {
        "id": "D_lTinod3kho"
      },
      "source": [
        "from torch.utils.data import DataLoader, RandomSampler, SequentialSampler\n",
        "batch_size = 32\n",
        "train_dataloader = DataLoader(\n",
        "            dataset,  # The training samples.\n",
        "            sampler = RandomSampler(dataset), # Select batches randomly\n",
        "            batch_size = batch_size # Trains with this batch size.\n",
        "        )\n",
        "\n",
        "validation_dataloader = DataLoader(\n",
        "            val_dataset, # The validation samples.\n",
        "            sampler = SequentialSampler(val_dataset), \n",
        "            batch_size = batch_size \n",
        "        )"
      ],
      "execution_count": null,
      "outputs": []
    },
    {
      "cell_type": "code",
      "metadata": {
        "id": "_2tmAMlw3khr"
      },
      "source": [
        "from transformers import BertModel, AdamW, BertConfig\n",
        "\n",
        "# # Loads BertForSequenceClassification, the pretrained BERT model with a single \n",
        "# model = BertModel.from_pretrained(\n",
        "#     \"bert-base-uncased\", # Use the 12-layer BERT model, with an uncased vocab.\n",
        "# )\n",
        "\n",
        "# # Tell pytorch to run this model on the GPU.\n",
        "# model.cuda()"
      ],
      "execution_count": null,
      "outputs": []
    },
    {
      "cell_type": "code",
      "metadata": {
        "id": "aHmQK0OP9mv-"
      },
      "source": [
        "from torch import nn\n",
        "class MultiClassClassifier(nn.Module):\n",
        "    def __init__(self, bert_model_path, labels_count, hidden_dim=768, mlp_dim=500, extras_dim=140, dropout=0.1, freeze_bert=False):\n",
        "        super().__init__()\n",
        "\n",
        "        self.bert = BertModel.from_pretrained(bert_model_path,output_hidden_states=False,output_attentions=False)\n",
        "\n",
        "        self.dropout = nn.Dropout(dropout)\n",
        "        self.mlp = nn.Sequential(\n",
        "            nn.Linear(hidden_dim , mlp_dim),\n",
        "            nn.ReLU(),\n",
        "            # nn.Linear(mlp_dim, mlp_dim),\n",
        "            # nn.ReLU(),\n",
        "            # nn.Linear(mlp_dim, mlp_dim),\n",
        "            # nn.ReLU(),            \n",
        "            nn.Linear(mlp_dim, labels_count)\n",
        "        )\n",
        "        # self.softmax = nn.LogSoftmax(dim=1)\n",
        "        if freeze_bert:\n",
        "            print(\"Freezing layers\")\n",
        "            for param in self.bert.parameters():\n",
        "                param.requires_grad = False\n",
        "\n",
        "    def forward(self, tokens, masks):\n",
        "        output = self.bert(tokens, attention_mask=masks)\n",
        "        dropout_output = self.dropout(output['pooler_output'])\n",
        "        concat_output = dropout_output\n",
        "        mlp_output = self.mlp(concat_output)\n",
        "        # proba = self.sigmoid(mlp_output)\n",
        "        # proba = self.softmax(mlp_output)\n",
        "\n",
        "        return mlp_output"
      ],
      "execution_count": null,
      "outputs": []
    },
    {
      "cell_type": "code",
      "metadata": {
        "id": "aGU0MvlQ97pt",
        "colab": {
          "base_uri": "https://localhost:8080/"
        },
        "outputId": "e5fa0014-c284-46b1-b4fe-b1154e836ae6"
      },
      "source": [
        "model = MultiClassClassifier('bert-base-uncased',num_classes, 768,500,140,dropout=0.1,freeze_bert=False)\n",
        "pretrained_dict = torch.load('model_bert_skill_prediction_data_2/model_weights')\n",
        "model_dict = model.state_dict()\n",
        "pretrained_dict = {k: v for k, v in pretrained_dict.items() if 'mlp' not in k}\n",
        "model_dict.update(pretrained_dict) \n",
        "model.load_state_dict(pretrained_dict,strict=False)\n",
        "\n",
        "model.cuda()"
      ],
      "execution_count": null,
      "outputs": [
        {
          "output_type": "stream",
          "text": [
            "Some weights of the model checkpoint at bert-base-uncased were not used when initializing BertModel: ['cls.seq_relationship.weight', 'cls.predictions.transform.LayerNorm.bias', 'cls.predictions.transform.dense.bias', 'cls.seq_relationship.bias', 'cls.predictions.bias', 'cls.predictions.decoder.weight', 'cls.predictions.transform.LayerNorm.weight', 'cls.predictions.transform.dense.weight']\n",
            "- This IS expected if you are initializing BertModel from the checkpoint of a model trained on another task or with another architecture (e.g. initializing a BertForSequenceClassification model from a BertForPreTraining model).\n",
            "- This IS NOT expected if you are initializing BertModel from the checkpoint of a model that you expect to be exactly identical (initializing a BertForSequenceClassification model from a BertForSequenceClassification model).\n"
          ],
          "name": "stderr"
        },
        {
          "output_type": "execute_result",
          "data": {
            "text/plain": [
              "MultiClassClassifier(\n",
              "  (bert): BertModel(\n",
              "    (embeddings): BertEmbeddings(\n",
              "      (word_embeddings): Embedding(30522, 768, padding_idx=0)\n",
              "      (position_embeddings): Embedding(512, 768)\n",
              "      (token_type_embeddings): Embedding(2, 768)\n",
              "      (LayerNorm): LayerNorm((768,), eps=1e-12, elementwise_affine=True)\n",
              "      (dropout): Dropout(p=0.1, inplace=False)\n",
              "    )\n",
              "    (encoder): BertEncoder(\n",
              "      (layer): ModuleList(\n",
              "        (0): BertLayer(\n",
              "          (attention): BertAttention(\n",
              "            (self): BertSelfAttention(\n",
              "              (query): Linear(in_features=768, out_features=768, bias=True)\n",
              "              (key): Linear(in_features=768, out_features=768, bias=True)\n",
              "              (value): Linear(in_features=768, out_features=768, bias=True)\n",
              "              (dropout): Dropout(p=0.1, inplace=False)\n",
              "            )\n",
              "            (output): BertSelfOutput(\n",
              "              (dense): Linear(in_features=768, out_features=768, bias=True)\n",
              "              (LayerNorm): LayerNorm((768,), eps=1e-12, elementwise_affine=True)\n",
              "              (dropout): Dropout(p=0.1, inplace=False)\n",
              "            )\n",
              "          )\n",
              "          (intermediate): BertIntermediate(\n",
              "            (dense): Linear(in_features=768, out_features=3072, bias=True)\n",
              "          )\n",
              "          (output): BertOutput(\n",
              "            (dense): Linear(in_features=3072, out_features=768, bias=True)\n",
              "            (LayerNorm): LayerNorm((768,), eps=1e-12, elementwise_affine=True)\n",
              "            (dropout): Dropout(p=0.1, inplace=False)\n",
              "          )\n",
              "        )\n",
              "        (1): BertLayer(\n",
              "          (attention): BertAttention(\n",
              "            (self): BertSelfAttention(\n",
              "              (query): Linear(in_features=768, out_features=768, bias=True)\n",
              "              (key): Linear(in_features=768, out_features=768, bias=True)\n",
              "              (value): Linear(in_features=768, out_features=768, bias=True)\n",
              "              (dropout): Dropout(p=0.1, inplace=False)\n",
              "            )\n",
              "            (output): BertSelfOutput(\n",
              "              (dense): Linear(in_features=768, out_features=768, bias=True)\n",
              "              (LayerNorm): LayerNorm((768,), eps=1e-12, elementwise_affine=True)\n",
              "              (dropout): Dropout(p=0.1, inplace=False)\n",
              "            )\n",
              "          )\n",
              "          (intermediate): BertIntermediate(\n",
              "            (dense): Linear(in_features=768, out_features=3072, bias=True)\n",
              "          )\n",
              "          (output): BertOutput(\n",
              "            (dense): Linear(in_features=3072, out_features=768, bias=True)\n",
              "            (LayerNorm): LayerNorm((768,), eps=1e-12, elementwise_affine=True)\n",
              "            (dropout): Dropout(p=0.1, inplace=False)\n",
              "          )\n",
              "        )\n",
              "        (2): BertLayer(\n",
              "          (attention): BertAttention(\n",
              "            (self): BertSelfAttention(\n",
              "              (query): Linear(in_features=768, out_features=768, bias=True)\n",
              "              (key): Linear(in_features=768, out_features=768, bias=True)\n",
              "              (value): Linear(in_features=768, out_features=768, bias=True)\n",
              "              (dropout): Dropout(p=0.1, inplace=False)\n",
              "            )\n",
              "            (output): BertSelfOutput(\n",
              "              (dense): Linear(in_features=768, out_features=768, bias=True)\n",
              "              (LayerNorm): LayerNorm((768,), eps=1e-12, elementwise_affine=True)\n",
              "              (dropout): Dropout(p=0.1, inplace=False)\n",
              "            )\n",
              "          )\n",
              "          (intermediate): BertIntermediate(\n",
              "            (dense): Linear(in_features=768, out_features=3072, bias=True)\n",
              "          )\n",
              "          (output): BertOutput(\n",
              "            (dense): Linear(in_features=3072, out_features=768, bias=True)\n",
              "            (LayerNorm): LayerNorm((768,), eps=1e-12, elementwise_affine=True)\n",
              "            (dropout): Dropout(p=0.1, inplace=False)\n",
              "          )\n",
              "        )\n",
              "        (3): BertLayer(\n",
              "          (attention): BertAttention(\n",
              "            (self): BertSelfAttention(\n",
              "              (query): Linear(in_features=768, out_features=768, bias=True)\n",
              "              (key): Linear(in_features=768, out_features=768, bias=True)\n",
              "              (value): Linear(in_features=768, out_features=768, bias=True)\n",
              "              (dropout): Dropout(p=0.1, inplace=False)\n",
              "            )\n",
              "            (output): BertSelfOutput(\n",
              "              (dense): Linear(in_features=768, out_features=768, bias=True)\n",
              "              (LayerNorm): LayerNorm((768,), eps=1e-12, elementwise_affine=True)\n",
              "              (dropout): Dropout(p=0.1, inplace=False)\n",
              "            )\n",
              "          )\n",
              "          (intermediate): BertIntermediate(\n",
              "            (dense): Linear(in_features=768, out_features=3072, bias=True)\n",
              "          )\n",
              "          (output): BertOutput(\n",
              "            (dense): Linear(in_features=3072, out_features=768, bias=True)\n",
              "            (LayerNorm): LayerNorm((768,), eps=1e-12, elementwise_affine=True)\n",
              "            (dropout): Dropout(p=0.1, inplace=False)\n",
              "          )\n",
              "        )\n",
              "        (4): BertLayer(\n",
              "          (attention): BertAttention(\n",
              "            (self): BertSelfAttention(\n",
              "              (query): Linear(in_features=768, out_features=768, bias=True)\n",
              "              (key): Linear(in_features=768, out_features=768, bias=True)\n",
              "              (value): Linear(in_features=768, out_features=768, bias=True)\n",
              "              (dropout): Dropout(p=0.1, inplace=False)\n",
              "            )\n",
              "            (output): BertSelfOutput(\n",
              "              (dense): Linear(in_features=768, out_features=768, bias=True)\n",
              "              (LayerNorm): LayerNorm((768,), eps=1e-12, elementwise_affine=True)\n",
              "              (dropout): Dropout(p=0.1, inplace=False)\n",
              "            )\n",
              "          )\n",
              "          (intermediate): BertIntermediate(\n",
              "            (dense): Linear(in_features=768, out_features=3072, bias=True)\n",
              "          )\n",
              "          (output): BertOutput(\n",
              "            (dense): Linear(in_features=3072, out_features=768, bias=True)\n",
              "            (LayerNorm): LayerNorm((768,), eps=1e-12, elementwise_affine=True)\n",
              "            (dropout): Dropout(p=0.1, inplace=False)\n",
              "          )\n",
              "        )\n",
              "        (5): BertLayer(\n",
              "          (attention): BertAttention(\n",
              "            (self): BertSelfAttention(\n",
              "              (query): Linear(in_features=768, out_features=768, bias=True)\n",
              "              (key): Linear(in_features=768, out_features=768, bias=True)\n",
              "              (value): Linear(in_features=768, out_features=768, bias=True)\n",
              "              (dropout): Dropout(p=0.1, inplace=False)\n",
              "            )\n",
              "            (output): BertSelfOutput(\n",
              "              (dense): Linear(in_features=768, out_features=768, bias=True)\n",
              "              (LayerNorm): LayerNorm((768,), eps=1e-12, elementwise_affine=True)\n",
              "              (dropout): Dropout(p=0.1, inplace=False)\n",
              "            )\n",
              "          )\n",
              "          (intermediate): BertIntermediate(\n",
              "            (dense): Linear(in_features=768, out_features=3072, bias=True)\n",
              "          )\n",
              "          (output): BertOutput(\n",
              "            (dense): Linear(in_features=3072, out_features=768, bias=True)\n",
              "            (LayerNorm): LayerNorm((768,), eps=1e-12, elementwise_affine=True)\n",
              "            (dropout): Dropout(p=0.1, inplace=False)\n",
              "          )\n",
              "        )\n",
              "        (6): BertLayer(\n",
              "          (attention): BertAttention(\n",
              "            (self): BertSelfAttention(\n",
              "              (query): Linear(in_features=768, out_features=768, bias=True)\n",
              "              (key): Linear(in_features=768, out_features=768, bias=True)\n",
              "              (value): Linear(in_features=768, out_features=768, bias=True)\n",
              "              (dropout): Dropout(p=0.1, inplace=False)\n",
              "            )\n",
              "            (output): BertSelfOutput(\n",
              "              (dense): Linear(in_features=768, out_features=768, bias=True)\n",
              "              (LayerNorm): LayerNorm((768,), eps=1e-12, elementwise_affine=True)\n",
              "              (dropout): Dropout(p=0.1, inplace=False)\n",
              "            )\n",
              "          )\n",
              "          (intermediate): BertIntermediate(\n",
              "            (dense): Linear(in_features=768, out_features=3072, bias=True)\n",
              "          )\n",
              "          (output): BertOutput(\n",
              "            (dense): Linear(in_features=3072, out_features=768, bias=True)\n",
              "            (LayerNorm): LayerNorm((768,), eps=1e-12, elementwise_affine=True)\n",
              "            (dropout): Dropout(p=0.1, inplace=False)\n",
              "          )\n",
              "        )\n",
              "        (7): BertLayer(\n",
              "          (attention): BertAttention(\n",
              "            (self): BertSelfAttention(\n",
              "              (query): Linear(in_features=768, out_features=768, bias=True)\n",
              "              (key): Linear(in_features=768, out_features=768, bias=True)\n",
              "              (value): Linear(in_features=768, out_features=768, bias=True)\n",
              "              (dropout): Dropout(p=0.1, inplace=False)\n",
              "            )\n",
              "            (output): BertSelfOutput(\n",
              "              (dense): Linear(in_features=768, out_features=768, bias=True)\n",
              "              (LayerNorm): LayerNorm((768,), eps=1e-12, elementwise_affine=True)\n",
              "              (dropout): Dropout(p=0.1, inplace=False)\n",
              "            )\n",
              "          )\n",
              "          (intermediate): BertIntermediate(\n",
              "            (dense): Linear(in_features=768, out_features=3072, bias=True)\n",
              "          )\n",
              "          (output): BertOutput(\n",
              "            (dense): Linear(in_features=3072, out_features=768, bias=True)\n",
              "            (LayerNorm): LayerNorm((768,), eps=1e-12, elementwise_affine=True)\n",
              "            (dropout): Dropout(p=0.1, inplace=False)\n",
              "          )\n",
              "        )\n",
              "        (8): BertLayer(\n",
              "          (attention): BertAttention(\n",
              "            (self): BertSelfAttention(\n",
              "              (query): Linear(in_features=768, out_features=768, bias=True)\n",
              "              (key): Linear(in_features=768, out_features=768, bias=True)\n",
              "              (value): Linear(in_features=768, out_features=768, bias=True)\n",
              "              (dropout): Dropout(p=0.1, inplace=False)\n",
              "            )\n",
              "            (output): BertSelfOutput(\n",
              "              (dense): Linear(in_features=768, out_features=768, bias=True)\n",
              "              (LayerNorm): LayerNorm((768,), eps=1e-12, elementwise_affine=True)\n",
              "              (dropout): Dropout(p=0.1, inplace=False)\n",
              "            )\n",
              "          )\n",
              "          (intermediate): BertIntermediate(\n",
              "            (dense): Linear(in_features=768, out_features=3072, bias=True)\n",
              "          )\n",
              "          (output): BertOutput(\n",
              "            (dense): Linear(in_features=3072, out_features=768, bias=True)\n",
              "            (LayerNorm): LayerNorm((768,), eps=1e-12, elementwise_affine=True)\n",
              "            (dropout): Dropout(p=0.1, inplace=False)\n",
              "          )\n",
              "        )\n",
              "        (9): BertLayer(\n",
              "          (attention): BertAttention(\n",
              "            (self): BertSelfAttention(\n",
              "              (query): Linear(in_features=768, out_features=768, bias=True)\n",
              "              (key): Linear(in_features=768, out_features=768, bias=True)\n",
              "              (value): Linear(in_features=768, out_features=768, bias=True)\n",
              "              (dropout): Dropout(p=0.1, inplace=False)\n",
              "            )\n",
              "            (output): BertSelfOutput(\n",
              "              (dense): Linear(in_features=768, out_features=768, bias=True)\n",
              "              (LayerNorm): LayerNorm((768,), eps=1e-12, elementwise_affine=True)\n",
              "              (dropout): Dropout(p=0.1, inplace=False)\n",
              "            )\n",
              "          )\n",
              "          (intermediate): BertIntermediate(\n",
              "            (dense): Linear(in_features=768, out_features=3072, bias=True)\n",
              "          )\n",
              "          (output): BertOutput(\n",
              "            (dense): Linear(in_features=3072, out_features=768, bias=True)\n",
              "            (LayerNorm): LayerNorm((768,), eps=1e-12, elementwise_affine=True)\n",
              "            (dropout): Dropout(p=0.1, inplace=False)\n",
              "          )\n",
              "        )\n",
              "        (10): BertLayer(\n",
              "          (attention): BertAttention(\n",
              "            (self): BertSelfAttention(\n",
              "              (query): Linear(in_features=768, out_features=768, bias=True)\n",
              "              (key): Linear(in_features=768, out_features=768, bias=True)\n",
              "              (value): Linear(in_features=768, out_features=768, bias=True)\n",
              "              (dropout): Dropout(p=0.1, inplace=False)\n",
              "            )\n",
              "            (output): BertSelfOutput(\n",
              "              (dense): Linear(in_features=768, out_features=768, bias=True)\n",
              "              (LayerNorm): LayerNorm((768,), eps=1e-12, elementwise_affine=True)\n",
              "              (dropout): Dropout(p=0.1, inplace=False)\n",
              "            )\n",
              "          )\n",
              "          (intermediate): BertIntermediate(\n",
              "            (dense): Linear(in_features=768, out_features=3072, bias=True)\n",
              "          )\n",
              "          (output): BertOutput(\n",
              "            (dense): Linear(in_features=3072, out_features=768, bias=True)\n",
              "            (LayerNorm): LayerNorm((768,), eps=1e-12, elementwise_affine=True)\n",
              "            (dropout): Dropout(p=0.1, inplace=False)\n",
              "          )\n",
              "        )\n",
              "        (11): BertLayer(\n",
              "          (attention): BertAttention(\n",
              "            (self): BertSelfAttention(\n",
              "              (query): Linear(in_features=768, out_features=768, bias=True)\n",
              "              (key): Linear(in_features=768, out_features=768, bias=True)\n",
              "              (value): Linear(in_features=768, out_features=768, bias=True)\n",
              "              (dropout): Dropout(p=0.1, inplace=False)\n",
              "            )\n",
              "            (output): BertSelfOutput(\n",
              "              (dense): Linear(in_features=768, out_features=768, bias=True)\n",
              "              (LayerNorm): LayerNorm((768,), eps=1e-12, elementwise_affine=True)\n",
              "              (dropout): Dropout(p=0.1, inplace=False)\n",
              "            )\n",
              "          )\n",
              "          (intermediate): BertIntermediate(\n",
              "            (dense): Linear(in_features=768, out_features=3072, bias=True)\n",
              "          )\n",
              "          (output): BertOutput(\n",
              "            (dense): Linear(in_features=3072, out_features=768, bias=True)\n",
              "            (LayerNorm): LayerNorm((768,), eps=1e-12, elementwise_affine=True)\n",
              "            (dropout): Dropout(p=0.1, inplace=False)\n",
              "          )\n",
              "        )\n",
              "      )\n",
              "    )\n",
              "    (pooler): BertPooler(\n",
              "      (dense): Linear(in_features=768, out_features=768, bias=True)\n",
              "      (activation): Tanh()\n",
              "    )\n",
              "  )\n",
              "  (dropout): Dropout(p=0.1, inplace=False)\n",
              "  (mlp): Sequential(\n",
              "    (0): Linear(in_features=768, out_features=500, bias=True)\n",
              "    (1): ReLU()\n",
              "    (2): Linear(in_features=500, out_features=3, bias=True)\n",
              "  )\n",
              ")"
            ]
          },
          "metadata": {},
          "execution_count": 40
        }
      ]
    },
    {
      "cell_type": "code",
      "metadata": {
        "id": "awQ2Y9Jb3kht"
      },
      "source": [
        "optimizer = AdamW(model.parameters(),\n",
        "                  lr = 2e-5, # args.learning_rate - default is 5e-5, our notebook had 2e-5\n",
        "                  eps = 1e-8 # args.adam_epsilon  - default is 1e-8.\n",
        "                )"
      ],
      "execution_count": null,
      "outputs": []
    },
    {
      "cell_type": "code",
      "metadata": {
        "id": "2Ys-M4-e3khv"
      },
      "source": [
        "from transformers import get_linear_schedule_with_warmup\n",
        "\n",
        "\n",
        "epochs = 20\n",
        "\n",
        "# Total number of training steps is [number of batches] x [number of epochs]. \n",
        "total_steps = len(train_dataloader) * epochs\n",
        "\n"
      ],
      "execution_count": null,
      "outputs": []
    },
    {
      "cell_type": "code",
      "metadata": {
        "id": "EenVUl0iDyc1"
      },
      "source": [
        ""
      ],
      "execution_count": null,
      "outputs": []
    },
    {
      "cell_type": "code",
      "metadata": {
        "id": "QrYqErOD3khx",
        "colab": {
          "base_uri": "https://localhost:8080/"
        },
        "outputId": "52c0756f-7b0d-4b2a-aef6-fffdedf11104"
      },
      "source": [
        "len(train_dataloader) "
      ],
      "execution_count": null,
      "outputs": [
        {
          "output_type": "execute_result",
          "data": {
            "text/plain": [
              "87"
            ]
          },
          "metadata": {},
          "execution_count": 43
        }
      ]
    },
    {
      "cell_type": "code",
      "metadata": {
        "id": "EWVSE9LM3kh0",
        "colab": {
          "base_uri": "https://localhost:8080/"
        },
        "outputId": "9539a4ab-7905-4b36-ddf4-bb7fc9719f5c"
      },
      "source": [
        "1935 * 32"
      ],
      "execution_count": null,
      "outputs": [
        {
          "output_type": "execute_result",
          "data": {
            "text/plain": [
              "61920"
            ]
          },
          "metadata": {},
          "execution_count": 44
        }
      ]
    },
    {
      "cell_type": "code",
      "metadata": {
        "id": "rcvxVVi63kh3"
      },
      "source": [
        "scheduler = get_linear_schedule_with_warmup(optimizer, \n",
        "                                            num_warmup_steps = 0, # Default value in run_glue.py\n",
        "                                            num_training_steps = total_steps)"
      ],
      "execution_count": null,
      "outputs": []
    },
    {
      "cell_type": "code",
      "metadata": {
        "id": "GUw3zm6g3kh5"
      },
      "source": [
        "import numpy as np\n",
        "\n",
        "# Function to calculate the accuracy of our predictions vs labels\n",
        "def flat_accuracy(preds, labels):\n",
        "    pred_flat = np.argmax(preds, axis=1).flatten()\n",
        "    labels_flat = labels.flatten()\n",
        "    return np.sum(pred_flat == labels_flat) / len(labels_flat)"
      ],
      "execution_count": null,
      "outputs": []
    },
    {
      "cell_type": "code",
      "metadata": {
        "id": "ta6zfUTa3kh7"
      },
      "source": [
        "import time\n",
        "import datetime\n",
        "\n",
        "def format_time(elapsed):\n",
        "    '''\n",
        "    Takes a time in seconds and returns a string hh:mm:ss\n",
        "    '''\n",
        "    # Round to the nearest second.\n",
        "    elapsed_rounded = int(round((elapsed)))\n",
        "    \n",
        "    # Format as hh:mm:ss\n",
        "    return str(datetime.timedelta(seconds=elapsed_rounded))"
      ],
      "execution_count": null,
      "outputs": []
    },
    {
      "cell_type": "code",
      "metadata": {
        "id": "GFq9gd5kQSHb"
      },
      "source": [
        "import os\n",
        "os.environ['CUDA_LAUNCH_BLOCKING'] = \"1\"\n"
      ],
      "execution_count": null,
      "outputs": []
    },
    {
      "cell_type": "code",
      "metadata": {
        "id": "1NuM6yRptFtS"
      },
      "source": [
        "for param in model.bert.encoder.layer[0:6].parameters():\n",
        "    param.requires_grad=False\n",
        "for param in model.bert.embeddings.parameters():\n",
        "    param.requires_grad=False\n"
      ],
      "execution_count": null,
      "outputs": []
    },
    {
      "cell_type": "code",
      "metadata": {
        "id": "a_nmuoSgQ5t3"
      },
      "source": [
        "class EarlyStopping:\n",
        "    \"\"\"Early stops the training if validation loss doesn't improve after a given patience.\"\"\"\n",
        "    def __init__(self, patience=7, verbose=False, delta=0, path='checkpoint.pt', trace_func=print):\n",
        "        \"\"\"\n",
        "        Args:\n",
        "            patience (int): How long to wait after last time validation loss improved.\n",
        "                            Default: 7\n",
        "            verbose (bool): If True, prints a message for each validation loss improvement. \n",
        "                            Default: False\n",
        "            delta (float): Minimum change in the monitored quantity to qualify as an improvement.\n",
        "                            Default: 0\n",
        "            path (str): Path for the checkpoint to be saved to.\n",
        "                            Default: 'checkpoint.pt'\n",
        "            trace_func (function): trace print function.\n",
        "                            Default: print            \n",
        "        \"\"\"\n",
        "        self.patience = patience\n",
        "        self.verbose = verbose\n",
        "        self.counter = 0\n",
        "        self.best_score = None\n",
        "        self.early_stop = False\n",
        "        self.val_loss_min = np.Inf\n",
        "        self.delta = delta\n",
        "        self.path = path\n",
        "        self.trace_func = trace_func\n",
        "    def __call__(self, val_loss, model):\n",
        "\n",
        "        score = -val_loss\n",
        "\n",
        "        if self.best_score is None:\n",
        "            self.best_score = score\n",
        "            self.save_checkpoint(val_loss, model)\n",
        "        elif score < self.best_score + self.delta:\n",
        "            self.counter += 1\n",
        "            self.trace_func(f'EarlyStopping counter: {self.counter} out of {self.patience}')\n",
        "            if self.counter >= self.patience:\n",
        "                self.early_stop = True\n",
        "        else:\n",
        "            self.best_score = score\n",
        "            self.save_checkpoint(val_loss, model)\n",
        "            self.counter = 0\n",
        "\n",
        "    def save_checkpoint(self, val_loss, model):\n",
        "        '''Saves model when validation loss decrease.'''\n",
        "        if self.verbose:\n",
        "            self.trace_func(f'Validation loss decreased ({self.val_loss_min:.6f} --> {val_loss:.6f}).  Saving model ...')\n",
        "        torch.save(model.state_dict(), self.path)\n",
        "        self.val_loss_min = val_loss"
      ],
      "execution_count": null,
      "outputs": []
    },
    {
      "cell_type": "code",
      "metadata": {
        "id": "E1rDO58zMfc8"
      },
      "source": [
        "loss_func = nn.CrossEntropyLoss()\n"
      ],
      "execution_count": null,
      "outputs": []
    },
    {
      "cell_type": "markdown",
      "metadata": {
        "id": "JNFL0393HQZc"
      },
      "source": [
        ""
      ]
    },
    {
      "cell_type": "code",
      "metadata": {
        "id": "6LhAy2hZ3kh9",
        "colab": {
          "base_uri": "https://localhost:8080/"
        },
        "outputId": "e5a400f4-08ab-4c30-a152-196522dd8da3"
      },
      "source": [
        "import random\n",
        "import numpy as np\n",
        "\n",
        "# This training code is based on the `run_glue.py` script here:\n",
        "# https://github.com/huggingface/transformers/blob/5bfcd0485ece086ebcbed2d008813037968a9e58/examples/run_glue.py#L128\n",
        "\n",
        "# Set the seed value all over the place to make this reproducible.\n",
        "seed_val = 42\n",
        "\n",
        "random.seed(seed_val)\n",
        "np.random.seed(seed_val)\n",
        "torch.manual_seed(seed_val)\n",
        "torch.cuda.manual_seed_all(seed_val)\n",
        "\n",
        "# We'll store a number of quantities such as training and validation loss, \n",
        "# validation accuracy, and timings.\n",
        "training_stats = []\n",
        "\n",
        "# Measure the total training time for the whole run.\n",
        "total_t0 = time.time()\n",
        "early_stopping = EarlyStopping(patience=2, verbose=True)\n",
        "# For each epoch...\n",
        "for epoch_i in range(0, epochs):\n",
        "    \n",
        "    # ========================================\n",
        "    #               Training\n",
        "    # ========================================\n",
        "    \n",
        "    # Perform one full pass over the training set.\n",
        "\n",
        "    print(\"\")\n",
        "    print('======== Epoch {:} / {:} ========'.format(epoch_i + 1, epochs))\n",
        "    print('Training...')\n",
        "\n",
        "    # Measure how long the training epoch takes.\n",
        "    t0 = time.time()\n",
        "\n",
        "    # Reset the total loss for this epoch.\n",
        "    total_train_accuracy = 0\n",
        "    total_train_loss = 0\n",
        "\n",
        "    # Put the model into training mode. Don't be mislead--the call to \n",
        "    # `train` just changes the *mode*, it doesn't *perform* the training.\n",
        "    # `dropout` and `batchnorm` layers behave differently during training\n",
        "    # vs. test (source: https://stackoverflow.com/questimport gensim.downloader as api\n",
        "    model.train()\n",
        "\n",
        "    # For each batch of training data...\n",
        "    for step, batch in enumerate(train_dataloader):\n",
        "\n",
        "        # Progress update every 40 batches.\n",
        "        if step % 40 == 0 and not step == 0:\n",
        "            # Calculate elapsed time in minutes.\n",
        "            elapsed = format_time(time.time() - t0)\n",
        "            \n",
        "            # Report progress.\n",
        "            print('  Batch {:>5,}  of  {:>5,}.    Elapsed: {:}.'.format(step, len(train_dataloader), elapsed))\n",
        "\n",
        "        # Unpack this training batch from our dataloader. \n",
        "        #\n",
        "        # As we unpack the batch, we'll also copy each tensor to the GPU using the \n",
        "        # `to` method.\n",
        "        #\n",
        "        # `batch` contains three pytorch tensors:\n",
        "        #   [0]: input ids \n",
        "        #   [1]: attention masks\n",
        "        #   [2]: labels\n",
        "         \n",
        "        b_input_ids = batch[0].to(device)\n",
        "        b_input_mask = batch[1].to(device)\n",
        "        # b_poincare = batch[2].to(device)\n",
        "        # b_difficulty = batch[3].to(device)\n",
        "        b_labels = batch[2].to(device)\n",
        "\n",
        "        # Always clear any previously calculated gradients before performing a\n",
        "        # backward pass. PyTorch doesn't do this automatically because \n",
        "        # accumulating the gradients is \"convenient while training RNNs\". \n",
        "        # (source: https://stackoverflow.com/questions/48001598/why-do-we-need-to-call-zero-grad-in-pytorch)\n",
        "        model.zero_grad()        \n",
        "        # Perform a forward pass (evaluate the model on this training batch).\n",
        "        probas = model(b_input_ids,b_input_mask)\n",
        "\n",
        "        # Accumulate the training loss over all of the batches so that we can\n",
        "        # calculate the average loss at the end. `loss` is a Tensor containing a\n",
        "        # single value; the `.item()` function just returns the Python value \n",
        "        # from the tensor.\n",
        "        loss = loss_func(probas, b_labels)\n",
        "        total_train_loss += loss.item()\n",
        "\n",
        "        # Perform a backward pass to calculate the gradients.\n",
        "        loss.backward()\n",
        "\n",
        "        # Clip the norm of the gradients to 1.0.\n",
        "        # This is to help prevent the \"exploding gradients\" problem.\n",
        "        # torch.nn.utils.clip_grad_norm_(model.parameters(), 1.0)\n",
        "\n",
        "        # Update parameters and take a step using the computed gradient.\n",
        "        # The optimizer dictates the \"update rule\"--how the parameters are\n",
        "        # modified based on their gradients, the learning rate, etc.\n",
        "        optimizer.step()\n",
        "\n",
        "        # Update the learning rate.\n",
        "        # scheduler.step()\n",
        "        logits = probas.detach().cpu().numpy()\n",
        "        label_ids = b_labels.to('cpu').numpy()\n",
        "        total_train_accuracy += flat_accuracy(logits, label_ids)\n",
        "    avg_train_accuracy = total_train_accuracy / len(train_dataloader)\n",
        "    print(\" Train Accuracy: {0:.2f}\".format(avg_train_accuracy))\n",
        "\n",
        "    # Calculate the average loss over all of the batches.\n",
        "    avg_train_loss = total_train_loss / len(train_dataloader) \n",
        "\n",
        "            \n",
        "    \n",
        "    # Measure how long this epoch took.\n",
        "    training_time = format_time(time.time() - t0)\n",
        "\n",
        "    print(\"\")\n",
        "    print(\"  Average training loss: {0:.2f}\".format(avg_train_loss))\n",
        "    print(\"  Training epcoh took: {:}\".format(training_time))\n",
        "        \n",
        "    # ========================================\n",
        "    #               Validation\n",
        "    # ========================================\n",
        "    # After the completion of each training epoch, measure our performance on\n",
        "    # our validation set.\n",
        "\n",
        "    print(\"\")\n",
        "    print(\"Running Validation...\")\n",
        "\n",
        "    t0 = time.time()\n",
        "\n",
        "    # Put the model in evaluation mode--the dropout layers behave differently\n",
        "    # during evaluation.\n",
        "    model.eval()\n",
        "\n",
        "    # Tracking variables \n",
        "    total_eval_accuracy = 0\n",
        "    total_eval_loss = 0\n",
        "    nb_eval_steps = 0\n",
        "\n",
        "    # Evaluate data for one epoch\n",
        "    for batch in validation_dataloader:\n",
        "        \n",
        "        # Unpack this training batch from our dataloader. \n",
        "        #\n",
        "        # As we unpack the batch, we'll also copy each tensor to the GPU using \n",
        "        # the `to` method.\n",
        "        #\n",
        "        # `batch` contains three pytorch tensors:\n",
        "        #   [0]: input ids \n",
        "        #   [1]: attention masks\n",
        "        #   [2]: labels \n",
        "        b_input_ids = batch[0].to(device)\n",
        "        b_input_mask = batch[1].to(device)\n",
        "        # b_poincare = batch[2].to(device)\n",
        "        # b_difficulty = batch[3].to(device)\n",
        "        b_labels = batch[2].to(device)\n",
        "        \n",
        "        # Tell pytorch not to bother with constructing the compute graph during\n",
        "        # the forward pass, since this is only needed for backprop (training).\n",
        "        with torch.no_grad():        \n",
        "\n",
        "            # Forward pass, calculate logit predictions.\n",
        "\n",
        "          logits = model(b_input_ids,b_input_mask)\n",
        "            \n",
        "        # Accumulate the validation loss.\n",
        "        loss = loss_func(logits, b_labels)\n",
        "        total_eval_loss += loss.item()\n",
        "\n",
        "        # Move logits and labels to CPU\n",
        "        logits = logits.detach().cpu().numpy()\n",
        "        label_ids = b_labels.to('cpu').numpy()\n",
        "\n",
        "        # Calculate the accuracy for this batch of test sentences, and\n",
        "        # accumulate it over all batches.\n",
        "        total_eval_accuracy += flat_accuracy(logits, label_ids)\n",
        "        \n",
        "\n",
        "    # Report the final accuracy for this validation run.\n",
        "    avg_val_accuracy = total_eval_accuracy / len(validation_dataloader)\n",
        "    print(\"  Accuracy: {0:.2f}\".format(avg_val_accuracy))\n",
        "\n",
        "    # Calculate the average loss over all of the batches.\n",
        "    avg_val_loss = total_eval_loss / len(validation_dataloader)\n",
        "    early_stopping(avg_val_loss, model)\n",
        "    if early_stopping.early_stop:\n",
        "      print(\"Early stopping\")\n",
        "      break    \n",
        "    # Measure how long the validation run took.\n",
        "    validation_time = format_time(time.time() - t0)\n",
        "    \n",
        "    print(\"  Validation Loss: {0:.2f}\".format(avg_val_loss))\n",
        "    print(\"  Validation took: {:}\".format(validation_time))\n",
        "    output_dir = 'model_bert_difficulty_cascade_data_2/'\n",
        "    if not os.path.exists(output_dir):\n",
        "        os.makedirs(output_dir)\n",
        "\n",
        "    print(\"Saving model to %s\" % output_dir)\n",
        "    tokenizer.save_pretrained(output_dir)\n",
        "    torch.save(model.state_dict(), os.path.join(output_dir, 'model_weights'))\n",
        "\n",
        "    !rm -rf \"/content/drive/My Drive/research_skill_name_prediction/model_bert_difficulty_cascade_data_2\"\n",
        "    !mv model_bert_difficulty_cascade_data_2 \"/content/drive/My Drive/research_skill_name_prediction/\"\n",
        "    # Record all statistics from this epoch.\n",
        "    training_stats.append(\n",
        "        {\n",
        "            'epoch': epoch_i + 1,\n",
        "            'Training Loss': avg_train_loss,\n",
        "            'Valid. Loss': avg_val_loss,\n",
        "            'Valid. Accur.': avg_val_accuracy,\n",
        "            'Training Time': training_time,\n",
        "            'Validation Time': validation_time\n",
        "        }\n",
        "    )\n",
        "\n",
        "print(\"\")\n",
        "print(\"Training complete!\")\n",
        "\n",
        "print(\"Total training took {:} (h:mm:ss)\".format(format_time(time.time()-total_t0)))"
      ],
      "execution_count": null,
      "outputs": [
        {
          "output_type": "stream",
          "text": [
            "\n",
            "======== Epoch 1 / 20 ========\n",
            "Training...\n",
            "  Batch    40  of     87.    Elapsed: 0:00:17.\n",
            "  Batch    80  of     87.    Elapsed: 0:00:34.\n",
            " Train Accuracy: 0.57\n",
            "\n",
            "  Average training loss: 0.94\n",
            "  Training epcoh took: 0:00:37\n",
            "\n",
            "Running Validation...\n",
            "  Accuracy: 0.64\n",
            "Validation loss decreased (inf --> 0.817960).  Saving model ...\n",
            "  Validation Loss: 0.82\n",
            "  Validation took: 0:00:03\n",
            "Saving model to model_bert_difficulty_cascade_data_2/\n",
            "\n",
            "======== Epoch 2 / 20 ========\n",
            "Training...\n",
            "  Batch    40  of     87.    Elapsed: 0:00:17.\n",
            "  Batch    80  of     87.    Elapsed: 0:00:35.\n",
            " Train Accuracy: 0.66\n",
            "\n",
            "  Average training loss: 0.80\n",
            "  Training epcoh took: 0:00:38\n",
            "\n",
            "Running Validation...\n",
            "  Accuracy: 0.63\n",
            "Validation loss decreased (0.817960 --> 0.807413).  Saving model ...\n",
            "  Validation Loss: 0.81\n",
            "  Validation took: 0:00:04\n",
            "Saving model to model_bert_difficulty_cascade_data_2/\n",
            "\n",
            "======== Epoch 3 / 20 ========\n",
            "Training...\n",
            "  Batch    40  of     87.    Elapsed: 0:00:18.\n",
            "  Batch    80  of     87.    Elapsed: 0:00:36.\n",
            " Train Accuracy: 0.68\n",
            "\n",
            "  Average training loss: 0.75\n",
            "  Training epcoh took: 0:00:38\n",
            "\n",
            "Running Validation...\n",
            "  Accuracy: 0.65\n",
            "Validation loss decreased (0.807413 --> 0.791446).  Saving model ...\n",
            "  Validation Loss: 0.79\n",
            "  Validation took: 0:00:04\n",
            "Saving model to model_bert_difficulty_cascade_data_2/\n",
            "\n",
            "======== Epoch 4 / 20 ========\n",
            "Training...\n",
            "  Batch    40  of     87.    Elapsed: 0:00:18.\n",
            "  Batch    80  of     87.    Elapsed: 0:00:36.\n",
            " Train Accuracy: 0.73\n",
            "\n",
            "  Average training loss: 0.69\n",
            "  Training epcoh took: 0:00:39\n",
            "\n",
            "Running Validation...\n",
            "  Accuracy: 0.71\n",
            "Validation loss decreased (0.791446 --> 0.732198).  Saving model ...\n",
            "  Validation Loss: 0.73\n",
            "  Validation took: 0:00:03\n",
            "Saving model to model_bert_difficulty_cascade_data_2/\n",
            "\n",
            "======== Epoch 5 / 20 ========\n",
            "Training...\n",
            "  Batch    40  of     87.    Elapsed: 0:00:18.\n",
            "  Batch    80  of     87.    Elapsed: 0:00:36.\n",
            " Train Accuracy: 0.76\n",
            "\n",
            "  Average training loss: 0.61\n",
            "  Training epcoh took: 0:00:39\n",
            "\n",
            "Running Validation...\n",
            "  Accuracy: 0.71\n",
            "EarlyStopping counter: 1 out of 2\n",
            "  Validation Loss: 0.75\n",
            "  Validation took: 0:00:02\n",
            "Saving model to model_bert_difficulty_cascade_data_2/\n",
            "\n",
            "======== Epoch 6 / 20 ========\n",
            "Training...\n",
            "  Batch    40  of     87.    Elapsed: 0:00:18.\n",
            "  Batch    80  of     87.    Elapsed: 0:00:37.\n",
            " Train Accuracy: 0.80\n",
            "\n",
            "  Average training loss: 0.53\n",
            "  Training epcoh took: 0:00:40\n",
            "\n",
            "Running Validation...\n",
            "  Accuracy: 0.70\n",
            "EarlyStopping counter: 2 out of 2\n",
            "Early stopping\n",
            "\n",
            "Training complete!\n",
            "Total training took 0:04:29 (h:mm:ss)\n"
          ],
          "name": "stdout"
        }
      ]
    },
    {
      "cell_type": "code",
      "metadata": {
        "id": "6RACcsko3kh_",
        "colab": {
          "base_uri": "https://localhost:8080/",
          "height": 228
        },
        "outputId": "2da65e0e-7a57-4198-80c4-8df92410b0f3"
      },
      "source": [
        "import pandas as pd\n",
        "\n",
        "# Display floats with two decimal places.\n",
        "pd.set_option('precision', 2)\n",
        "\n",
        "# Create a DataFrame from our training statistics.\n",
        "df_stats = pd.DataFrame(data=training_stats)\n",
        "\n",
        "# Use the 'epoch' as the row index.\n",
        "df_stats = df_stats.set_index('epoch')\n",
        "\n",
        "# A hack to force the column headers to wrap.\n",
        "#df = df.style.set_table_styles([dict(selector=\"th\",props=[('max-width', '70px')])])\n",
        "\n",
        "# Display the table.\n",
        "df_stats"
      ],
      "execution_count": null,
      "outputs": [
        {
          "output_type": "execute_result",
          "data": {
            "text/html": [
              "<div>\n",
              "<style scoped>\n",
              "    .dataframe tbody tr th:only-of-type {\n",
              "        vertical-align: middle;\n",
              "    }\n",
              "\n",
              "    .dataframe tbody tr th {\n",
              "        vertical-align: top;\n",
              "    }\n",
              "\n",
              "    .dataframe thead th {\n",
              "        text-align: right;\n",
              "    }\n",
              "</style>\n",
              "<table border=\"1\" class=\"dataframe\">\n",
              "  <thead>\n",
              "    <tr style=\"text-align: right;\">\n",
              "      <th></th>\n",
              "      <th>Training Loss</th>\n",
              "      <th>Valid. Loss</th>\n",
              "      <th>Valid. Accur.</th>\n",
              "      <th>Training Time</th>\n",
              "      <th>Validation Time</th>\n",
              "    </tr>\n",
              "    <tr>\n",
              "      <th>epoch</th>\n",
              "      <th></th>\n",
              "      <th></th>\n",
              "      <th></th>\n",
              "      <th></th>\n",
              "      <th></th>\n",
              "    </tr>\n",
              "  </thead>\n",
              "  <tbody>\n",
              "    <tr>\n",
              "      <th>1</th>\n",
              "      <td>0.90</td>\n",
              "      <td>0.81</td>\n",
              "      <td>0.64</td>\n",
              "      <td>0:00:40</td>\n",
              "      <td>0:00:03</td>\n",
              "    </tr>\n",
              "    <tr>\n",
              "      <th>2</th>\n",
              "      <td>0.79</td>\n",
              "      <td>0.81</td>\n",
              "      <td>0.64</td>\n",
              "      <td>0:00:41</td>\n",
              "      <td>0:00:02</td>\n",
              "    </tr>\n",
              "    <tr>\n",
              "      <th>3</th>\n",
              "      <td>0.74</td>\n",
              "      <td>0.76</td>\n",
              "      <td>0.64</td>\n",
              "      <td>0:00:42</td>\n",
              "      <td>0:00:03</td>\n",
              "    </tr>\n",
              "    <tr>\n",
              "      <th>4</th>\n",
              "      <td>0.66</td>\n",
              "      <td>0.71</td>\n",
              "      <td>0.70</td>\n",
              "      <td>0:00:42</td>\n",
              "      <td>0:00:04</td>\n",
              "    </tr>\n",
              "    <tr>\n",
              "      <th>5</th>\n",
              "      <td>0.56</td>\n",
              "      <td>0.78</td>\n",
              "      <td>0.69</td>\n",
              "      <td>0:00:43</td>\n",
              "      <td>0:00:02</td>\n",
              "    </tr>\n",
              "  </tbody>\n",
              "</table>\n",
              "</div>"
            ],
            "text/plain": [
              "       Training Loss  Valid. Loss  Valid. Accur. Training Time Validation Time\n",
              "epoch                                                                         \n",
              "1               0.90         0.81           0.64       0:00:40         0:00:03\n",
              "2               0.79         0.81           0.64       0:00:41         0:00:02\n",
              "3               0.74         0.76           0.64       0:00:42         0:00:03\n",
              "4               0.66         0.71           0.70       0:00:42         0:00:04\n",
              "5               0.56         0.78           0.69       0:00:43         0:00:02"
            ]
          },
          "metadata": {},
          "execution_count": 53
        }
      ]
    },
    {
      "cell_type": "code",
      "metadata": {
        "id": "o5TicdiP3kiC",
        "colab": {
          "base_uri": "https://localhost:8080/",
          "height": 427
        },
        "outputId": "8e531516-e8ae-4bad-f9ba-e6360c11fd73"
      },
      "source": [
        "import matplotlib.pyplot as plt\n",
        "% matplotlib inline\n",
        "\n",
        "import seaborn as sns\n",
        "\n",
        "# Use plot styling from seaborn.\n",
        "sns.set(style='darkgrid')\n",
        "\n",
        "# Increase the plot size and font size.\n",
        "sns.set(font_scale=1.5)\n",
        "plt.rcParams[\"figure.figsize\"] = (12,6)\n",
        "\n",
        "# Plot the learning curve.\n",
        "plt.plot(df_stats['Training Loss'], 'b-o', label=\"Training\")\n",
        "plt.plot(df_stats['Valid. Loss'], 'g-o', label=\"Validation\")\n",
        "\n",
        "# Label the plot.\n",
        "plt.title(\"Training & Validation Loss\")\n",
        "plt.xlabel(\"Epoch\")\n",
        "plt.ylabel(\"Loss\")\n",
        "plt.legend()\n",
        "plt.xticks([1, 2, 3, 4,5,6,7,8,9,10,11,12,13,14,15,16,17,18,19,20])\n",
        "\n",
        "plt.show()"
      ],
      "execution_count": null,
      "outputs": [
        {
          "output_type": "display_data",
          "data": {
            "image/png": "[encoded data removed]",
            "text/plain": [
              "<Figure size 864x432 with 1 Axes>"
            ]
          },
          "metadata": {}
        }
      ]
    },
    {
      "cell_type": "code",
      "metadata": {
        "id": "DbiTDpVv3kiF",
        "colab": {
          "base_uri": "https://localhost:8080/"
        },
        "outputId": "d57b842b-5862-4c97-d707-62fce7bfbd48"
      },
      "source": [
        "import os\n",
        "\n",
        "\n",
        "output_dir = 'model_bert_difficulty_cascade_data_2/'\n",
        "\n",
        "# Create output directory if needed\n",
        "if not os.path.exists(output_dir):\n",
        "    os.makedirs(output_dir)\n",
        "\n",
        "print(\"Saving model to %s\" % output_dir)\n",
        "\n",
        "\n",
        "# model_to_save = model.module if hasattr(model, 'module') else model  # Take care of distributed/parallel training\n",
        "# model_to_save.save_pretrained(output_dir)\n",
        "tokenizer.save_pretrained(output_dir)"
      ],
      "execution_count": null,
      "outputs": [
        {
          "output_type": "stream",
          "text": [
            "Saving model to model_bert_difficulty_cascade_data_2/\n"
          ],
          "name": "stdout"
        },
        {
          "output_type": "execute_result",
          "data": {
            "text/plain": [
              "('model_bert_difficulty_cascade_data_2/tokenizer_config.json',\n",
              " 'model_bert_difficulty_cascade_data_2/special_tokens_map.json',\n",
              " 'model_bert_difficulty_cascade_data_2/vocab.txt',\n",
              " 'model_bert_difficulty_cascade_data_2/added_tokens.json')"
            ]
          },
          "metadata": {},
          "execution_count": 86
        }
      ]
    },
    {
      "cell_type": "code",
      "metadata": {
        "id": "Kq9ByBbSjJlx"
      },
      "source": [
        "  import json\n",
        "  torch.save(model.state_dict(), os.path.join(output_dir, 'model_weights'))\n",
        "  # with open(os.path.join(output_dir, 'model_config.json'), 'w') as f:\n",
        "  #     json.dump(model.config, f)"
      ],
      "execution_count": null,
      "outputs": []
    },
    {
      "cell_type": "code",
      "metadata": {
        "id": "1U2UQ29a3kiI"
      },
      "source": [
        "# !pip install joblib\n",
        "# import joblib\n",
        "# joblib.dump(LE, \"label_encoder_BLOOM_LATEST\")\n"
      ],
      "execution_count": null,
      "outputs": []
    },
    {
      "cell_type": "code",
      "metadata": {
        "id": "4GFnEkPP3kiP"
      },
      "source": [
        "from google.colab import files\n"
      ],
      "execution_count": null,
      "outputs": []
    },
    {
      "cell_type": "code",
      "metadata": {
        "id": "dpGY8vSDI6u4",
        "colab": {
          "base_uri": "https://localhost:8080/"
        },
        "outputId": "2aac102a-41c1-47cf-fa43-5a5dcc123ae3"
      },
      "source": [
        "!zip -r model_bert_difficulty_cascade_data_2.zip model_bert_difficulty_cascade_data_2\n",
        "# files.download('model_bert_difficulty_prediction.zip')"
      ],
      "execution_count": null,
      "outputs": [
        {
          "output_type": "stream",
          "text": [
            "  adding: model_bert_difficulty_cascade_data_2/ (stored 0%)\n",
            "  adding: model_bert_difficulty_cascade_data_2/vocab.txt (deflated 53%)\n",
            "  adding: model_bert_difficulty_cascade_data_2/tokenizer_config.json (deflated 50%)\n",
            "  adding: model_bert_difficulty_cascade_data_2/special_tokens_map.json (deflated 40%)\n",
            "  adding: model_bert_difficulty_cascade_data_2/model_weights (deflated 7%)\n"
          ],
          "name": "stdout"
        }
      ]
    },
    {
      "cell_type": "code",
      "metadata": {
        "id": "-sy2AiZU8GdR"
      },
      "source": [
        ""
      ],
      "execution_count": null,
      "outputs": []
    },
    {
      "cell_type": "code",
      "metadata": {
        "id": "HvFDCDIxKDOf"
      },
      "source": [
        "# !zip -r label_encoder_BLOOM_LATEST.zip label_encoder_BLOOM_LATEST\n",
        "# files.download('label_encoder_BLOOM_LATEST.zip')"
      ],
      "execution_count": null,
      "outputs": []
    },
    {
      "cell_type": "code",
      "metadata": {
        "id": "FcSwwzAFyE7S",
        "colab": {
          "base_uri": "https://localhost:8080/",
          "height": 545
        },
        "outputId": "4fbab6ff-c11a-400c-cead-4cd815f60ec8"
      },
      "source": [
        "test"
      ],
      "execution_count": null,
      "outputs": [
        {
          "output_type": "execute_result",
          "data": {
            "text/html": [
              "<div>\n",
              "<style scoped>\n",
              "    .dataframe tbody tr th:only-of-type {\n",
              "        vertical-align: middle;\n",
              "    }\n",
              "\n",
              "    .dataframe tbody tr th {\n",
              "        vertical-align: top;\n",
              "    }\n",
              "\n",
              "    .dataframe thead th {\n",
              "        text-align: right;\n",
              "    }\n",
              "</style>\n",
              "<table border=\"1\" class=\"dataframe\">\n",
              "  <thead>\n",
              "    <tr style=\"text-align: right;\">\n",
              "      <th></th>\n",
              "      <th>Question</th>\n",
              "      <th>Answer</th>\n",
              "      <th>DifficultyFromAnswerer</th>\n",
              "      <th>difficulty_label</th>\n",
              "      <th>question_answer</th>\n",
              "      <th>skill_label</th>\n",
              "    </tr>\n",
              "  </thead>\n",
              "  <tbody>\n",
              "    <tr>\n",
              "      <th>0</th>\n",
              "      <td>How are western-style xylophones characterised?</td>\n",
              "      <td>by a bright, sharp tone and high register</td>\n",
              "      <td>medium</td>\n",
              "      <td>2</td>\n",
              "      <td>How are western-style xylophones characterised...</td>\n",
              "      <td>2</td>\n",
              "    </tr>\n",
              "    <tr>\n",
              "      <th>1</th>\n",
              "      <td>Is Nairobi the capital of Kenya?</td>\n",
              "      <td>Yes</td>\n",
              "      <td>easy</td>\n",
              "      <td>0</td>\n",
              "      <td>Is Nairobi the capital of Kenya? Yes</td>\n",
              "      <td>3</td>\n",
              "    </tr>\n",
              "    <tr>\n",
              "      <th>2</th>\n",
              "      <td>How many sister cities does the City of Melbou...</td>\n",
              "      <td>six</td>\n",
              "      <td>medium</td>\n",
              "      <td>2</td>\n",
              "      <td>How many sister cities does the City of Melbou...</td>\n",
              "      <td>3</td>\n",
              "    </tr>\n",
              "    <tr>\n",
              "      <th>3</th>\n",
              "      <td>Is the electric eel a true eel?</td>\n",
              "      <td>No</td>\n",
              "      <td>easy</td>\n",
              "      <td>0</td>\n",
              "      <td>Is the electric eel a true eel? No</td>\n",
              "      <td>3</td>\n",
              "    </tr>\n",
              "    <tr>\n",
              "      <th>4</th>\n",
              "      <td>Does Swedish use the perfect participle to for...</td>\n",
              "      <td>No.</td>\n",
              "      <td>easy</td>\n",
              "      <td>0</td>\n",
              "      <td>Does Swedish use the perfect participle to for...</td>\n",
              "      <td>3</td>\n",
              "    </tr>\n",
              "    <tr>\n",
              "      <th>...</th>\n",
              "      <td>...</td>\n",
              "      <td>...</td>\n",
              "      <td>...</td>\n",
              "      <td>...</td>\n",
              "      <td>...</td>\n",
              "      <td>...</td>\n",
              "    </tr>\n",
              "    <tr>\n",
              "      <th>337</th>\n",
              "      <td>Where was there a vast swarm of butterflies?</td>\n",
              "      <td>In Kyoto there was a vast swarm of butterflies.</td>\n",
              "      <td>medium</td>\n",
              "      <td>2</td>\n",
              "      <td>Where was there a vast swarm of butterflies? I...</td>\n",
              "      <td>3</td>\n",
              "    </tr>\n",
              "    <tr>\n",
              "      <th>338</th>\n",
              "      <td>What is the most common romanization standard ...</td>\n",
              "      <td>Hanyu Pinyin</td>\n",
              "      <td>medium</td>\n",
              "      <td>2</td>\n",
              "      <td>What is the most common romanization standard ...</td>\n",
              "      <td>3</td>\n",
              "    </tr>\n",
              "    <tr>\n",
              "      <th>339</th>\n",
              "      <td>Is Jakarta the 12th largest city in the world?</td>\n",
              "      <td>yes</td>\n",
              "      <td>medium</td>\n",
              "      <td>2</td>\n",
              "      <td>Is Jakarta the 12th largest city in the world?...</td>\n",
              "      <td>2</td>\n",
              "    </tr>\n",
              "    <tr>\n",
              "      <th>340</th>\n",
              "      <td>What sort of turtles are ectothermic?</td>\n",
              "      <td>all of them</td>\n",
              "      <td>medium</td>\n",
              "      <td>2</td>\n",
              "      <td>What sort of turtles are ectothermic? all of them</td>\n",
              "      <td>2</td>\n",
              "    </tr>\n",
              "    <tr>\n",
              "      <th>341</th>\n",
              "      <td>Was Gellu Naum the leader of the surrealist mo...</td>\n",
              "      <td>Yes</td>\n",
              "      <td>easy</td>\n",
              "      <td>0</td>\n",
              "      <td>Was Gellu Naum the leader of the surrealist mo...</td>\n",
              "      <td>3</td>\n",
              "    </tr>\n",
              "  </tbody>\n",
              "</table>\n",
              "<p>342 rows × 6 columns</p>\n",
              "</div>"
            ],
            "text/plain": [
              "                                              Question  ... skill_label\n",
              "0      How are western-style xylophones characterised?  ...           2\n",
              "1                     Is Nairobi the capital of Kenya?  ...           3\n",
              "2    How many sister cities does the City of Melbou...  ...           3\n",
              "3                      Is the electric eel a true eel?  ...           3\n",
              "4    Does Swedish use the perfect participle to for...  ...           3\n",
              "..                                                 ...  ...         ...\n",
              "337       Where was there a vast swarm of butterflies?  ...           3\n",
              "338  What is the most common romanization standard ...  ...           3\n",
              "339     Is Jakarta the 12th largest city in the world?  ...           2\n",
              "340              What sort of turtles are ectothermic?  ...           2\n",
              "341  Was Gellu Naum the leader of the surrealist mo...  ...           3\n",
              "\n",
              "[342 rows x 6 columns]"
            ]
          },
          "metadata": {},
          "execution_count": 53
        }
      ]
    },
    {
      "cell_type": "code",
      "metadata": {
        "id": "4178_yLFMWmx"
      },
      "source": [
        "test_features = test[\"question_answer\"].values\n",
        "test_labels = test[\"difficulty_label\"].values"
      ],
      "execution_count": null,
      "outputs": []
    },
    {
      "cell_type": "code",
      "metadata": {
        "id": "DggP9Sxdv_-l",
        "colab": {
          "base_uri": "https://localhost:8080/"
        },
        "outputId": "7e090168-2f0f-4df4-b84e-81a3973297d5"
      },
      "source": [
        "test_labels"
      ],
      "execution_count": null,
      "outputs": [
        {
          "output_type": "execute_result",
          "data": {
            "text/plain": [
              "array([2, 0, 2, 0, 0, 0, 1, 2, 1, 2, 2, 1, 0, 0, 1, 1, 1, 0, 2, 2, 0, 2,\n",
              "       1, 1, 1, 2, 0, 0, 0, 0, 2, 2, 2, 0, 0, 2, 1, 0, 1, 2, 1, 2, 2, 0,\n",
              "       2, 0, 2, 2, 0, 2, 2, 1, 0, 2, 2, 1, 0, 0, 2, 0, 1, 0, 0, 2, 0, 2,\n",
              "       0, 0, 2, 2, 2, 2, 0, 0, 2, 2, 0, 2, 0, 2, 2, 2, 2, 0, 0, 0, 0, 2,\n",
              "       0, 1, 0, 0, 0, 2, 2, 0, 1, 0, 0, 0, 0, 1, 1, 2, 2, 0, 2, 2, 0, 2,\n",
              "       0, 0, 0, 1, 0, 2, 2, 1, 1, 1, 1, 2, 1, 0, 0, 0, 1, 1, 0, 0, 1, 0,\n",
              "       0, 1, 1, 0, 0, 0, 0, 2, 0, 0, 0, 0, 2, 0, 2, 0, 0, 1, 0, 2, 2, 2,\n",
              "       2, 2, 0, 1, 2, 2, 0, 2, 2, 2, 1, 1, 2, 2, 1, 0, 0, 0, 2, 1, 1, 0,\n",
              "       0, 0, 0, 0, 1, 2, 0, 2, 2, 2, 1, 0, 0, 0, 2, 0, 0, 0, 1, 0, 0, 0,\n",
              "       2, 0, 0, 2, 1, 0, 2, 1, 1, 0, 0, 2, 2, 0, 2, 2, 0, 0, 2, 2, 2, 1,\n",
              "       2, 2, 0, 1, 2, 1, 2, 1, 2, 1, 2, 1, 0, 0, 1, 2, 2, 1, 0, 0, 0, 1,\n",
              "       2, 0, 0, 2, 0, 2, 0, 0, 2, 1, 1, 2, 2, 0, 2, 0, 2, 2, 1, 2, 2, 2,\n",
              "       0, 1, 2, 0, 1, 1, 2, 2, 0, 2, 1, 0, 2, 1, 0, 1, 1, 2, 0, 1, 1, 1,\n",
              "       1, 2, 1, 0, 2, 0, 0, 2, 0, 1, 0, 1, 1, 0, 2, 0, 1, 2, 0, 0, 1, 0,\n",
              "       1, 2, 1, 1, 1, 2, 2, 1, 2, 0, 2, 1, 0, 1, 1, 0, 0, 1, 0, 0, 1, 2,\n",
              "       2, 2, 1, 0, 1, 1, 2, 2, 2, 2, 2, 0])"
            ]
          },
          "metadata": {},
          "execution_count": 55
        }
      ]
    },
    {
      "cell_type": "code",
      "metadata": {
        "id": "3ZpmBJuIC2nM",
        "colab": {
          "base_uri": "https://localhost:8080/"
        },
        "outputId": "db84c40f-e309-4985-dfdc-84ad88e58706"
      },
      "source": [
        "test_features"
      ],
      "execution_count": null,
      "outputs": [
        {
          "output_type": "execute_result",
          "data": {
            "text/plain": [
              "array(['How are western-style xylophones characterised? by a bright, sharp tone and high register',\n",
              "       'Is Nairobi the capital of Kenya? Yes',\n",
              "       'How many sister cities does the City of Melbourne have? six',\n",
              "       'Is the electric eel a true eel? No',\n",
              "       'Does Swedish use the perfect participle to form the present perfect tense? No.',\n",
              "       'Do the different species of zebras interbreed? no',\n",
              "       'What are the reasons for hunting wild ducks? Meat, eggs, and feathers',\n",
              "       'Does Romania share the same language with Moldova? Practically',\n",
              "       'Which guitars use three single-coil pickups? Fender Stratocaster type guitars.',\n",
              "       'How long does it take for the panda cubs skin to turn gray? One to two weeks',\n",
              "       'Which temperature scale did Celsius propose? Celcius',\n",
              "       'Where is Finland located? Northern Europe',\n",
              "       'Is the capital city Oslo? No',\n",
              "       'How many species of otter are there? 13',\n",
              "       \"What's the timber of ancient cimbals like? disfluent like that of small hand-bells or of the notes of the keyed harmonica\",\n",
              "       'Is University of Dhaka the largest public university in Dhaka? Yes',\n",
              "       'Is the Adephaga suborder larger than the Polyphaga suborder? yes',\n",
              "       'Are Sports in Indonesia generally male-orientated? yes',\n",
              "       \"What company administers Leichtenstein's railways? Austrian Federal Railways\",\n",
              "       'When do African elephants lie down? when they are sick or wounded',\n",
              "       'Does Modern Standard Arabic continue to evolve like other languages? yes',\n",
              "       'When did Roosevelt die? On January 6, 1919, Roosevelt died in his sleep.',\n",
              "       'What does the word duck mean? It is the common name for a number of species in the Anatidae family of birds.',\n",
              "       'Did Lincoln beat John C. Breckinridge in the 1860 election? Yes.',\n",
              "       'Was Lee Kuan Yew a successful leader of Singapore? yes',\n",
              "       'Where was Volta born? Como, Italy',\n",
              "       'Is Singapore located at the southern tip of the Korean Penisula? no',\n",
              "       'Was Coolidge the thirteenth President of the United States? Yes',\n",
              "       'Was Celsius born in Uppsala in Sweden? Yes',\n",
              "       'Are Testudines the crown group of the superorder Chelonia? Yes',\n",
              "       'What is the current estimated population of Nairobi? About 3 million',\n",
              "       'Does Romania border Hungary? Yes.',\n",
              "       'How do eels begin life? As flat and transparent larvae, called leptocephali',\n",
              "       'What is the range of lifespans of the octopus? The octopus has a short lifespan.',\n",
              "       'Is the president elected by popular vote? Yes.',\n",
              "       'What areas can giraffes inhabit? savannas, grasslands, or open woodlands',\n",
              "       'What happened in 1833? blah blah blah',\n",
              "       'Are many words describing the navy , types of ships , and other objects or activities on the water of dutch origin ? yes',\n",
              "       'When did Alessandro Volta improve  and popularize the electrophorus? Alessandro Volta improved and popularized the electrophorus in 1775.',\n",
              "       \"When was Liechtenstein's current constitution adopted? October 1921\",\n",
              "       'Name an animal that is growing in number due to recent conservation efforts Golden Eagle',\n",
              "       'What bordered by Saudi? Qatar',\n",
              "       'What became one of the most important commercial and military centres of the British Empire? Singapore',\n",
              "       'Are penguins astonishingly agile? In the water they are.',\n",
              "       'How many provinces and territories does Canada have? Ten provinces and three territories',\n",
              "       'Are pocket trumpets compact B trumpets? yes',\n",
              "       'What is the smallest species of fox? the Fennec Fox',\n",
              "       'Do all ants build nests? No, not all ants build nests.',\n",
              "       'Did France cede nearly all of its colonies in Europe in 1763? yes',\n",
              "       \"Did Grover Cleveland support women's suffrage? no\",\n",
              "       \"How can a flute's volume be increased? a flute's volume can generally be increased by making its resonator and tone holes larger\",\n",
              "       'Could Malay have originated from Sumatra island? Yes.',\n",
              "       'Is the leopard solitary? Yes',\n",
              "       \"How many Eagle Scouts were involved in Ford's funeral procession? 400\",\n",
              "       'When did Lincoln begin his political career? 1832.',\n",
              "       'How many children did Grover Cleveland have? 5',\n",
              "       'Is a polar bear at high risk of extinction? yes',\n",
              "       'What is Anders Celsius`s last name? Celsius',\n",
              "       'How many strings does a violin usually have? 4',\n",
              "       'The Savings and Loans Bank was founded, as was the first cotton-weaving mill in what year? 1861',\n",
              "       'What is the largest religious group in Canada? According to 2001 census, 77.1% of Canadians identified as being Christians; of this, Catholics make up the largest group (43.6% of Canadians). The largest Protestant denomination is the United Church of Canada; about 16.5% of Canadians declare no religious affiliation, and the remaining 6.3% were affiliated with religions other than Christianity, of which the largest is Islam numbering 1.9%, followed by Judaism: 1.1%. ',\n",
              "       'Does the de Young museum house the Asian Art Museum yes',\n",
              "       'Is romania -LRB- , -RRB- a country in southeastern europe? Yes',\n",
              "       'When do wolves molt? Late Spring or Early Summer',\n",
              "       'Is it not also one of the two official languages of the Yanbian Korean Autonomous Prefecture in China? Yes.',\n",
              "       'How many Swedish speakers were reported in Canada in 2001? There are 16,915 reported Swedish speakers in Canada.',\n",
              "       'Did James Monroe fight in the Continental Army? Yes',\n",
              "       'Is there a way to approximate the age of a turtle? Yes',\n",
              "       \"What is the city's population? 1.6 million\",\n",
              "       'What is another term for Korean adjectives? Adjectives are also known as \"descriptive verbs\" or \"stative verbs\".',\n",
              "       'In what year did the Spanish establish a fort at the Golden Gate and a mission named for Francis of Assisi on the site? In 1776, the Spanish established a fort at the Golden Gate and a mission named for Francis of Assisi on the site.',\n",
              "       'What year did Coolidge open his own law office? 1898',\n",
              "       'Was Calvin Coolidge Republican? Yes',\n",
              "       'Is it true that thermometer had 100 for the freezing point? Yes',\n",
              "       \"When did Charles-Augustin de Coulomb join his father's family in Montpeillier? From 1757 to 1759 he joined his father's family in Montpellier.\",\n",
              "       'Who did Alessandro Volta marry? Alessandro Volta married Teresa Peregrini.',\n",
              "       'Is octopus a common food in Mediterranean cuisine as well as Portuguese cuisine? Yes',\n",
              "       'Where was Isaac Newton born? At Woolsthorpe Manor in Woosthorpe-by-Colsterworth.',\n",
              "       'Does Liechtenstein have an army? No.',\n",
              "       'How many species of zebra are there? Three',\n",
              "       'What is the second main orchestral use of cymbals? The suspended cymbal is the second main orchestral use of symbals.',\n",
              "       \"What is Canada's national unemployment rate? In October 2007, Canada's national unemployment rate is 5.9%.\",\n",
              "       'How many arms does an octopus have? An octopus has four pairs of arms.',\n",
              "       'Is the Giant Panda an endangered species? yes',\n",
              "       'Is it true that the ideas of the Enlightenment shaped the development of the city? Yes.',\n",
              "       \"What is polar bear's skin color? white or cream\",\n",
              "       'Are Indian concert flutes available in standard pitches? Yes',\n",
              "       'Where was the League of Nations created? Paris',\n",
              "       'Were the koalas of South Australia largely exterminated during the early part of the 20th century, but the state has since been repopulated with Victorian stock? The koalas of South Australia were largely exterminated during the early part of the 20th century, but the state has since been repopulated with Victorian stock.',\n",
              "       'Did Volta marry before he became professor of experimental physics at the University of Pavia? No.',\n",
              "       'Do linguists often view Chinese as a language family? Yes, linguists often view Chinese as a language family.',\n",
              "       'In fact, was Avogadro `s  famous  1811  paper written in French . ) Yes',\n",
              "       'Was he a member of the Royal Superior Council on Public Instruction? Yes,  Avogadro was a member of the Royal Superior Council on Public Instruction.',\n",
              "       \"Does Indonesia have the world's hightest level of biodiversity? No\",\n",
              "       'Who discovered benzene? Michael Faraday',\n",
              "       'Is aquatic respiration in Australian freshwater turtles being studied? yes',\n",
              "       'How are Isabelline penguins different from most penguins? Because they are born with brown rather than black plumage.',\n",
              "       'Was Adams an opponent of the Stamp Act? yes',\n",
              "       'Is the main sport in Uruguay football ? Yes',\n",
              "       'Does Vietnamese have a large number of vowels? Yes, Vietnamese has a comparatively large number of vowels.',\n",
              "       'Are trumpets constructed of brass? Yes',\n",
              "       'What sort of cats are solitary? Leopards',\n",
              "       'From what type of Cymbals can a expert player obtain an enormous dynamic range? An expert player can obtain an enormous dynamic range from crash cymbals.',\n",
              "       'How is the climate in the city? The city is hot and humid.',\n",
              "       'What do river otters eat? River otters eat a variety of fish and shellfish, as well as small land mammals and birds.',\n",
              "       'Did Coolidge meet and marry Grace Anna Goodhue? yes',\n",
              "       'Where did Wilson attend law school? Wilson attended law school at University of Virginia',\n",
              "       'What is the MRT? Mass Rapid Transit system',\n",
              "       \"Wasn't Leonardo da Vinci born on April 15? Yes, Leonardo da Vinci was born on April 15.\",\n",
              "       'Where are bullet ants located? Bullet ants are located in Central and South America.',\n",
              "       'Is Romania a secular state? Yes',\n",
              "       'Was Tesla regarded as a mad scientist? yes',\n",
              "       'Does every drumhead make the same sound? no',\n",
              "       'What type of current did Tesla invent? AC',\n",
              "       'Does San Francisco have a high percentage of gay and lesbian individuals? Yes, according to the 2005 American Community Survey, San Francisco has the highest percentage of gay and lesbian individuals of any of the 50 largest U.S. cities, at 15.4%.',\n",
              "       'Where does air pollution in Beijing come from? surrounding cities and provinces',\n",
              "       'Four years after opening his shop , Watt began what? Watt began to experiment with steam after his friend, Professor John Robison, called his attention to it.',\n",
              "       'Why did Cleveland want to hide his cancer surgery from the public? because of the financial depression of the country',\n",
              "       'Which property did James Monroe sell in 1817? Monroe Hill on the grounds of the University of Virginia.',\n",
              "       'How old was Celsius when he died? 42',\n",
              "       'Are cougars larger than jaguars? no',\n",
              "       'What animal attracts the most humor and silliness? the duck',\n",
              "       'What are the three heaviest cats in the world? tiger, lion, and jaguar',\n",
              "       'Did Canadian soldiers win the Battle of Vimy Ridge in 1917? Yes',\n",
              "       'Was Isaac Newton religious? Yes, he was highly religious, though an unorthodox Christian.',\n",
              "       'Do kangaroos have many natural predators? No',\n",
              "       'Who did Ford nominate for Vice President? Bob Dole',\n",
              "       'Hassan Massoudy is a master of what genre? Arabic calligraphy',\n",
              "       'Is it true that he published his invention of the Voltaic pile battery? Yes',\n",
              "       'Does the koala fill the same ecological role as the sloth of South America? The koala fills the same ecological role as the sloth of South America.',\n",
              "       'Why do wolves howl? Howling helps pack members keep in touch, allowing them to communicate effectively in thickly forested areas or over great distances. Howling also helps to call pack members to a specific location. Howling can also serve as a declaration of territory, as shown in a dominant wolf&apos;s tendency to respond to a human imitation of a \"rival\" wolf in an area the wolf considers its own. ',\n",
              "       'Do most Japanese people employ politeness? yes',\n",
              "       'Is fifty percent or more of Korean vocabulary of Chinese origin? Yes',\n",
              "       \"What are the names of a piano's pedals? The names of a piano's pedals are una corda, sostenuto, and damper.\",\n",
              "       'What is the smallest suborder of turtles? Pleurodira',\n",
              "       \"Is Uruguay 's oldest church in San Carlos , Maldonado ? Yes\",\n",
              "       'Is Liechtenstein the smallest German-speaking country in the world? Yes',\n",
              "       'Have managed populations of European honey bees experienced substantial declines? yes',\n",
              "       'Have cymbals been used historically to suggest bacchanal? Yes',\n",
              "       'What is the life expectancy for men in Finland? 75 years',\n",
              "       \"Is Adams' birthplace part of a national park? yes\",\n",
              "       'Are wolves built for stamina? Yes',\n",
              "       'Are the largest turtles aquatic? yes',\n",
              "       'Is the largest living species the emperor penguin -LRB- aptenodytes forsteri -RRB-? Yes',\n",
              "       'How many children did Avogadro have? six',\n",
              "       'Did ants evolve from wasp-like ancestors in the mid-Cretaceous period between 110 and 130 million years ago and diversified after the rise of flowering plants? yes',\n",
              "       'Where do sea otters live? Pacific coast of North America',\n",
              "       'Were trumpet players heavily guarded? yes',\n",
              "       'Copenhagen is the capital of what country? Denmark',\n",
              "       'What was Amedeo Avogadro`s profession? professor of physics',\n",
              "       'Where was Grant born? A log cabin in Point Pleasant, Clermont County, Ohio',\n",
              "       'Does the mother care for the young? No',\n",
              "       'What trumpet was the first to be allowed in the Christian Church? Slide trumpets',\n",
              "       \"The John Adams Library , housed at the Boston Public Library , contains what? Adams's personal collection of more than 3,500 volumes\",\n",
              "       'Is Ford related with the assassination of John F. Kennedy? Yes',\n",
              "       'What principles did Newton explain for mechanics? In mechanics, Newton enunciated the principles of conservation of momentum and angular momentum',\n",
              "       'When was Charles-Augustin de Coulomb permanently stationed in Paris? Yes',\n",
              "       'How tall were the tallest prehistoric penguins? as tall as an adult human',\n",
              "       'What is the mean level of mercury in American lobsters? 0.31 ppm',\n",
              "       'Where does the word \"violin\" come from? the Middle Latin word vitula, meaning \"stringed instrument\"',\n",
              "       'Did he suffer from anxiety and increasingly frequent bouts of mental illness throughout his life, and died largely unknown, at the age of 37, from a self-inflicted gunshot wound? Yes.',\n",
              "       \"What is now part of Adams National Historical Park? John Adams' birthplace\",\n",
              "       \"What is the earliest historical reference in Europe? Arnold Schlick's Spiegel der Orgelmacher und Organisten\",\n",
              "       'What religions are found in Uruguay? Roman Catholic, Protestant, Jewish',\n",
              "       'Who appointed Harlan Fiske Stone to the Supreme Court? Coolidge',\n",
              "       'What is responsible for converting the hydrogen byproduct of fermentation into acetate? The digestive system of a kangaroo',\n",
              "       'Are Immature sea turtles not cared for by the adults ? yes',\n",
              "       \"Who is the mayor of Ottawa? Larry O'Brien\",\n",
              "       'What are the names of the two zoos in Berlin? The two zoos in Berlin are the Zoologischer Garten Berlin and the Tierpark Friedrichsfelde.',\n",
              "       'Had Monroe racked up many debts during his years of public life ? yes',\n",
              "       'Was Abraham Lincoln the first President of the United States? No',\n",
              "       'Was The SI  unit  of charge , the  coulomb , named after him? yes',\n",
              "       'Did the Dutch build the Elmina Castle? No',\n",
              "       \"Who helped to fund Roosevelt's African safari? Financed by Andrew Carnegie and his own proposed writings\",\n",
              "       \"What are the elephant's ears important for? temperature regulation\",\n",
              "       'Are hutongs disappearing? yes',\n",
              "       'Did John Adams support the Stamp Act of 1765? No',\n",
              "       'Is Vietnamese the mother tongue of the Vietnamese people? Yes',\n",
              "       'Is it the smallest and highest-pitched member of the violin family of string instruments, which also includes the viola and cello? Yes, it is the smallest and highest-pitched member of the violin family of string instruments, which also includes the viola and cello.',\n",
              "       'Are tigers solitary animals? Yes',\n",
              "       'What religion did Isaac Newton follow? he never made a public declaration of his private faith',\n",
              "       'Who frequented the circle of the British-Australian artist John Peter Russell? Van Gogh',\n",
              "       'Do both sexes of giraffe have horns? yes',\n",
              "       'What is the mean level of mercury in American lobsters? 0.31 ppm',\n",
              "       'Does Uruguay have cold summers? no',\n",
              "       'Where was James Monroe born? Westmoreland County, Virginia',\n",
              "       \"Did Monroe' wedding happen at the Trinity Church in New York? Yes\",\n",
              "       'Was Volta made a count in 1810? No.',\n",
              "       'Is the syntax of German different with different rules? yes',\n",
              "       \"Was Isaac Newton educated at The King's Schol, Grantham? yes\",\n",
              "       \"How many Eagle Scouts were involved in Ford's funeral procession? About 400\",\n",
              "       'Are they easily identified by their elbowed antennae and a distinctive node-like structure that forms a slender waist? Yes, they are easily identified by their elbowed antennae and a distinctive node-like structure that forms a slender waist.',\n",
              "       \"Did Cartier not use the word ` Canada ' to refer to not only that village , but the entire area subject to Donnacona , Chief at Stadacona ? yes\",\n",
              "       'Was watt a fellow of the Royal Society of Edinburgh and the Royal Society of London? Yes.',\n",
              "       'Is the violin shaped like an hourglass? Yes.',\n",
              "       'Can polar bears be seen under infrared photography? Polar bears are nearly invisible under infrared photography.',\n",
              "       'Is Jakarta a city Yes',\n",
              "       'Is Finnish a member of the Baltic-Finnic subgroup of the Uralic languages? Yes',\n",
              "       'Where is old Ghana in relation to present Ghana? 500 miles north',\n",
              "       \"Has Indonesia the world 's largest Muslim population ? yes\",\n",
              "       'Does the octopus have a hard beak? Yes, the octopus has a hard beak.',\n",
              "       'Is the study of beetles called coleopterology , and its practitioners are coleopterists ? Yes.',\n",
              "       'What is the bridge used for? The transfer of string vibrations.',\n",
              "       'Is James Monrow the fifth president of US? Yes',\n",
              "       'Where is Charles-Augustin de Coulomb from? France',\n",
              "       \"Are Gray Wolves native to North America? No. Current theory suggests that it's from Eurasia\",\n",
              "       'Are there a large number of Jews living in Egypt today? No',\n",
              "       'Are all dialects of Korean similar to each other? Yes',\n",
              "       'When is the first record of S08_settlement in Singapore? second century AD',\n",
              "       'Where are the Western Arabic numerals used? present-day North Africa',\n",
              "       'When did Charles-Augustin de Coulomb retire to a small estate he possessed at Blois? Charles-Augustin de Coulomb retired to a small estate he possessed at Blois on the outbreak of the revolution in 1789.',\n",
              "       'Was Alessandro Volta a professor of chemistry? Alessandro Volta was not a professor of chemistry.',\n",
              "       'What is the SI unit measuring magnetic flux density or magnetic induction? the tesla',\n",
              "       'Where do sea turtles lay their eggs? Holes Dug into the Mud or Sand',\n",
              "       'Is Liechtenstein heavily urbanized? No',\n",
              "       \"Where was much of Montreal's industry during the late 19th and early-to-mid 20th century? The Sud-Ouest borough was home to much of the city's industry during the late 19th and early-to-mid 20th century. \",\n",
              "       'When was the Six Day War? 1967',\n",
              "       'Who determined the dependence of the boiling of water with atmospheric pressure? Anders Celsius',\n",
              "       'How do the Java and Bali use xylophones? In gamelan ensembles',\n",
              "       'How many civilians died in the 1998 U.S. embassy bombing? Over two hundred',\n",
              "       'What are violins made of? different types of wood',\n",
              "       'When was the An Shi Rebellion launched? in 755 AD',\n",
              "       \"Is the leopard -LRB- panthera pardus -RRB- an old world mammal of the felidae family and the smallest of the four (`` ` big cats ('' ' of the genus panthera , along with the tiger , lion , and jaguar? Yes\",\n",
              "       \"Was Henri Becquerel first in his family to occupy the physics chair at the Museum National d'Histoire Naturelle? No\",\n",
              "       \"Is Indonesia the world's largest archipelagic state? yes\",\n",
              "       'Where does the German President live? The German President lives west of the center, Schloss Bellevue.',\n",
              "       'Where are the Western Arabic numerals used? North Africa',\n",
              "       'What allows a duck to filter water out of the side of their beaks and keep food inside? Tiny rows of plates called lamellae',\n",
              "       \"What would a tiger do when seized by a crocodile? strike at the reptile's eyes with its paws\",\n",
              "       'How many years ago was the Luther Bible by Martin Luther printed? 475',\n",
              "       'What happens when mothers lose a chick? They sometimes attempt to \"steal\" another chick.',\n",
              "       'Who were the Orkhon inscriptions built for? The Orkhon inscriptions were erected in honour of the prince Kul Tigin and his brother Emperor Bilge Khan.',\n",
              "       'Has the terrain in the city been artificially raised? yes',\n",
              "       'What do river otters eat? a variety of fish and shellfish, as well as small land mammals and birds',\n",
              "       'What prompted the city to upgrade its building codes The threat of major earthquakes',\n",
              "       'Why is the giant otter becoming increasingly rare? poaching, habitat loss, and the use of mercury in illegal alluvial gold mining',\n",
              "       \"What have become flippers, useless for flight in the air? Penguins' wings\",\n",
              "       'Why does the cornet have a slightly mellower tone than the trumpet? because it has conical bores',\n",
              "       'Approximately how many species of Testudines are alive today? 300',\n",
              "       'Are otters playful animals? yes',\n",
              "       'Did lincoln have 18 months of schooling? Yes',\n",
              "       'Who heavily influenced the architecture and culture of Montevideo? European immigrants',\n",
              "       'What was the Faraday effect first called? diamagnetism',\n",
              "       'Does it have a border with Norway? Yes',\n",
              "       'Is an official language of Canada German? No.',\n",
              "       'What is also the distance that Antarctic tourists are told to keep from penguins? 3 meters',\n",
              "       'Did Lincoln ever represent Alton & Sangamon Railroad? Yes',\n",
              "       \"What are some of the cougar's primary food sources? ungulates such as deer, elk, and bighorn sheep, as well as domestic cattle, horses, and sheep\",\n",
              "       \"Is Melbourne home to Australia's busiest seaport? Yes\",\n",
              "       'Did Bartolomeo Cristofori invent the modern piano? Yes',\n",
              "       'Where is the Park of the Reserve located? Near the downtown area.',\n",
              "       'What did Anders Celsius determine about the boiling of water? dependence with atmospheric pressure',\n",
              "       'What city in the UK has been subjected to bouts of terrorism? London has been subjected to bouts of terrorism.',\n",
              "       'What foods do pandas eat? bamboo, honeys, eggs, fish, yams, shrub leaves, oranges, and bananas',\n",
              "       'When did Adams graduate from college? 1755.',\n",
              "       'Can the origins of cymbals be traced back to prehistoric times? yes',\n",
              "       'Which type of beetle is a pest of potato plants? Colorado potato beetle',\n",
              "       'Is there a way to approximate the age of a turtle? yes',\n",
              "       'What trumpet was the first to be allowed in the Christian Church? slide trumpets',\n",
              "       'What is the battery made by Alessandro Volta credited as? the first electrochemical cell',\n",
              "       'Is it a disadvantage for something to be unsafe to handle? yes',\n",
              "       'The ideas of the Enlightenment shaped the development of what? the city, Lima',\n",
              "       'Has the terrain in the city been artificially raised? Yes.',\n",
              "       'Is the SI unit for radioactivity named after him? Yes',\n",
              "       'Was the Italian 10.000 lira banknote created before the euro? yes',\n",
              "       'How many times has Uruguay won the World Cup? Twice. ',\n",
              "       'Where was Isaac Newton born? Woolsthorpe Manor in Woolsthorpe-by-Colsterworth',\n",
              "       'Was Gerald Ford the 38th President of the United States? yes',\n",
              "       'When was the pan flute spread to other parts of Europe? After the 7th century BC',\n",
              "       'Who was President when Wilson finished Congressional Government? Grover Cleveland',\n",
              "       'Is the ant a marsupial? no',\n",
              "       'What happened in 1860? Vincent van Gogh attended the Zundert village school from 1860.',\n",
              "       'Was Grover Cleveland the twenty-seventh president of the United States? No.',\n",
              "       'With what party did Adams run for presidency? The Federalist Party',\n",
              "       'What are the differences between English and Swedish pronouns? Swedish pronouns are basically the same as those of English but distinguish two genders and have an additional object form, derived from the old dative form, as well as a distinct genitive case.',\n",
              "       'Was John Calvin Coolidge Jr. was born in Las Vegas? No',\n",
              "       'When did Isaac Newton discover the generalized binomial theorem? In 1665.',\n",
              "       'What field did Woodrow Wilson leave law practice to study? history and political science',\n",
              "       'Is the standard of living in San Franciscio high? Yes',\n",
              "       \"What is the name of the largest church in Montreal? Saint Joseph's Oratory is the largest church in Montreal.\",\n",
              "       'Are the strings of a classical lyre made of gut? Yes',\n",
              "       'Where did the xylophone originate? Indonesia',\n",
              "       \"Is it advantageous for a grand piano's metal plate to be quite massive? It is advantageous for the plate to be quite massive.\",\n",
              "       'Where is Melbourne situated? boundary of the very hot inland areas and the cold southern ocean',\n",
              "       'How many countries in Europe are bigger than Romania?   eleven',\n",
              "       'Where did he serve two terms? the Church of Scotland',\n",
              "       'What fictional stories include a main character named Santiago? Interview with the Vampire, The Alchemist, and others',\n",
              "       'What is the sustain pedal called? damper pedal',\n",
              "       'What do beetles eat? Some are generalists, eating both plants and animals. Other beetles are highly specialised in their diet.',\n",
              "       'Was Thedore Roosevelt  a member of the Republican Party? Yes',\n",
              "       'Give an example of the ten Beta World Cities.  San Trancisco',\n",
              "       'When was Coolidge born? Plymouth, Windsor County, Vermont',\n",
              "       'Is an acoustic guitar dependent on an external device? No.',\n",
              "       'Is Golden Gate Park the largest city park yes',\n",
              "       'Is a bee an insect? yes',\n",
              "       'What was Michael Faraday`s profession? chemist and physicist',\n",
              "       'Does Qatar rank as the eighth richest country in the world per capita? No.',\n",
              "       'Oxygen is what? One kind of gas obtained via a tracheal system.',\n",
              "       \"Who were the midnight judges? They were a series of judges, so called because most of them were formally appointed days before Adams' presidential term expired\",\n",
              "       'Is polar bear a mammal? Yes',\n",
              "       'What is a hybrid animal resulting from a union between a leopard and a puma? a pumapard',\n",
              "       'Does Theodore Roosevelt have a brother? Yes',\n",
              "       'What food gave Isaac Newton clues to his theory of gravity? apple',\n",
              "       'What is a colectivo? Automobiles that renders express service on some major roads of the Lima Metropolitan Area.',\n",
              "       'Did he experiment with individual cells? Yes',\n",
              "       'Is Malay an agglutinative language? Yes.',\n",
              "       'How old is the oldest known representation of a guitar-like intrument being played? 3,300 years old',\n",
              "       \"Did Johann Josef Loschmidt first calculate the value of Avogadro's number? yes\",\n",
              "       \"How does a Mallard's tongue work? It uses short spikes to push struggling prey and other food down its throat\",\n",
              "       'What is the basic word order in Malay? Subject Object Verb.',\n",
              "       'What is the Faraday effect? The Faraday effect is the phenomenon that the plane of polarisation of linearly polarised light can be rotated by the application of an external magnetic field aligned in the direction the light is moving.',\n",
              "       'What is the official language of Turkey? Turkish.',\n",
              "       \"What was Grant's political affiliation? Republican\",\n",
              "       'Who did Newton see as the master creator? God',\n",
              "       'Around how many recognized octopus species are there? There are around 300 recognized octopus species.',\n",
              "       'What is the caridoid escape reaction? Swimming backwards quickly by curling and uncurling their abdomen.',\n",
              "       'What is the middle pedal called on grand pianos? the sostenuto pedal.',\n",
              "       'Was Malay language written using Pallava? Yes',\n",
              "       'Why are otters vulnerable to prey depletion? Prey-dependence',\n",
              "       'What religions are found in Uruguay? Roman Catholic, Protestant, Jewish, and nonprofessing.',\n",
              "       \"Is English Ghana's official language? yes\",\n",
              "       \"In what language was his 1811 paper published? Avogadro's 1811 paper was published in French.\",\n",
              "       'Does the de Young museum house the Asian Art Museum No',\n",
              "       'Are violas and cellos in the same family of instruments as violins? yes',\n",
              "       'Is a guitar an instrument? yes',\n",
              "       'What are some common predators of ducks? Pike, crocodilians, herons, hawks and eagles.',\n",
              "       'Did Grant & Perkins not sell harnesses , saddles , and other leather goods and purchase hides from farmers in the prosperous Galena area ? they did',\n",
              "       'Was his 1800  paper written in French? Yes',\n",
              "       'When was his last painting for the Post published? 1963',\n",
              "       \"Where did Coolidge's grandfather had government offices? Plymouth\",\n",
              "       'Where is the word \"swan\" derived from? Old English swan.',\n",
              "       'How many legs do lobsters have? 10',\n",
              "       'Are more residents employed by small businesses than in 1977? No',\n",
              "       'Was the SI unit of charge named after Charles-Augustin de Coulomb? Yes, the SI unit of charge, the coulomb, was named after him.',\n",
              "       'Copenhagen is ranked number one worldwide for which things? Most Livable City, Location Ranking Survey',\n",
              "       'What happened in 1810? Volta was made a count by Napoleon.',\n",
              "       'What kind of piano did Irving Berlin play? transposing piano',\n",
              "       'Where was there a vast swarm of butterflies? In Kyoto there was a vast swarm of butterflies.',\n",
              "       'What is the most common romanization standard for Standard Mandarin today? Hanyu Pinyin',\n",
              "       'Is Jakarta the 12th largest city in the world? yes',\n",
              "       'What sort of turtles are ectothermic? all of them',\n",
              "       'Was Gellu Naum the leader of the surrealist movement in Romania ? Yes'],\n",
              "      dtype=object)"
            ]
          },
          "metadata": {},
          "execution_count": 56
        }
      ]
    },
    {
      "cell_type": "code",
      "metadata": {
        "id": "MlOvANUwprAw",
        "colab": {
          "base_uri": "https://localhost:8080/",
          "height": 35
        },
        "outputId": "745a7876-fb9f-455f-dc4f-96409d78f326"
      },
      "source": [
        "test_features[0]"
      ],
      "execution_count": null,
      "outputs": [
        {
          "output_type": "execute_result",
          "data": {
            "application/vnd.google.colaboratory.intrinsic+json": {
              "type": "string"
            },
            "text/plain": [
              "'How are western-style xylophones characterised? by a bright, sharp tone and high register'"
            ]
          },
          "metadata": {},
          "execution_count": 57
        }
      ]
    },
    {
      "cell_type": "code",
      "metadata": {
        "colab": {
          "base_uri": "https://localhost:8080/",
          "height": 35
        },
        "id": "-nCVhlaoXaXM",
        "outputId": "a7782cd6-5230-40b8-80e8-b10df38f3052"
      },
      "source": [
        "test_features[0]"
      ],
      "execution_count": null,
      "outputs": [
        {
          "output_type": "execute_result",
          "data": {
            "application/vnd.google.colaboratory.intrinsic+json": {
              "type": "string"
            },
            "text/plain": [
              "'How are western-style xylophones characterised? by a bright, sharp tone and high register'"
            ]
          },
          "metadata": {},
          "execution_count": 58
        }
      ]
    },
    {
      "cell_type": "code",
      "metadata": {
        "id": "2xncpeEmoGsB"
      },
      "source": [
        "# syllabus = get_syllabus(test_features.values)\n",
        "# poincare_emb_test = get_poincare_embeddings(syllabus)\n",
        "# # for i,oincare in enumerate(poincare_emb_test):\n",
        "# #   for x in oincare:\n",
        "# #     print(i)\n",
        "# #     print(oincare)\n",
        "# #     print(poincare_model.kv.get_vector(str(x)))\n",
        "\n",
        "# poincare_embedding_test =  [exponential_map(np.expand_dims( np.hstack(  [ poincare_model.kv.get_vector(str(x)) for x in taxonomy ] ),axis=0)) for taxonomy in poincare_emb_test ]\n",
        "# max_val = 0\n",
        "# max_emb =None\n",
        "# for embedding in poincare_embedding_test:\n",
        "#   val = embedding.shape[1]\n",
        "#   if val >max_val:\n",
        "#     max_val=val\n",
        "#     max_emb =embedding\n",
        "# max_val\n",
        "# concatenated_embedding = []\n",
        "# for embedding in poincare_embedding_test:\n",
        "#   if embedding.shape[1] < max_val:\n",
        "#     new_embedding = np.append(embedding, np.expand_dims(np.zeros(max_val-embedding.shape[1]),axis=0),axis=1)\n",
        "#   else:\n",
        "#     new_embedding = embedding\n",
        "#   concatenated_embedding.append(np.squeeze(new_embedding,axis=0))\n",
        "# poincare_embeddings_final = np.stack(concatenated_embedding, axis=0)\n",
        "# for feature_set in test_features:\n",
        "#   if feature_set[1]!=feature_set[1]: #to check for nan\n",
        "#     print(\"here\")\n",
        "#     feature_set[1] = \"unk\"\n",
        "#   else:\n",
        "#     feature_set[1]=feature_set[1].lower()\n",
        "# difficulty_level_vectors=[]\n",
        "# for feature_set in test_features:\n",
        "#   words = [word for word in feature_set[1].split(\" \")]\n",
        "#   if len(words) > 1:\n",
        "#     print(\"here\")\n",
        "#     difficulty_level_vectors.append(np.mean(wv[words],axis=0))\n",
        "#   else:\n",
        "#     difficulty_level_vectors.append(wv[words].squeeze(axis=0))\n",
        "# difficulty_level_vectors = np.array(difficulty_level_vectors)"
      ],
      "execution_count": null,
      "outputs": []
    },
    {
      "cell_type": "code",
      "metadata": {
        "id": "Qe4qYkV2C4fX",
        "colab": {
          "base_uri": "https://localhost:8080/"
        },
        "outputId": "b33d3dfe-47a8-4e35-beb0-6cd177766d74"
      },
      "source": [
        "input_ids = []\n",
        "attention_masks = []\n",
        "for sent in test_features:\n",
        "\n",
        "    encoded_dict = tokenizer.encode_plus(\n",
        "                        sent,                      # Sentence to encode.\n",
        "                        add_special_tokens = True, # Add '[CLS]' and '[SEP]'\n",
        "                        max_length = 256,           # Pad & truncate all sentences.\n",
        "                        pad_to_max_length = True,\n",
        "                        truncation=True,\n",
        "                        return_attention_mask = True,   # Construct attn. masks.\n",
        "                        return_tensors = 'pt',     # Return pytorch tensors.\n",
        "                   )\n",
        "    \n",
        "    # Add the encoded sentence to the list.    \n",
        "    input_ids.append(encoded_dict['input_ids'])\n",
        "    \n",
        "    # And its attention mask (simply differentiates padding from non-padding).\n",
        "    attention_masks.append(encoded_dict['attention_mask'])\n",
        "\n",
        "# Convert the lists into tensors.\n",
        "input_ids = torch.cat(input_ids, dim=0)\n",
        "attention_masks = torch.cat(attention_masks, dim=0)\n",
        "test_labels = torch.tensor(test_labels)\n",
        "\n",
        "# Set the batch size.  \n",
        "batch_size = 32  \n",
        "\n",
        "# test_poincare_tensor = torch.tensor(poincare_embeddings_final,dtype=torch.float)\n",
        "# print(test_poincare_tensor.shape)\n",
        "# difficulty_tensor = torch.tensor(difficulty_level_vectors,dtype=torch.float)\n",
        "# print(\"difficulty_tensor\",difficulty_tensor.shape)\n",
        "# Combine the training inputs into a TensorDataset.\n",
        "prediction_data = TensorDataset(input_ids, attention_masks, test_labels)\n",
        "# Create the DataLoader.\n",
        "prediction_sampler = SequentialSampler(prediction_data)\n",
        "prediction_dataloader = DataLoader(prediction_data, sampler=prediction_sampler, batch_size=batch_size)"
      ],
      "execution_count": null,
      "outputs": [
        {
          "output_type": "stream",
          "text": [
            "/usr/local/lib/python3.7/dist-packages/transformers/tokenization_utils_base.py:2190: FutureWarning: The `pad_to_max_length` argument is deprecated and will be removed in a future version, use `padding=True` or `padding='longest'` to pad to the longest sequence in the batch, or use `padding='max_length'` to pad to a max length. In this case, you can give a specific length with `max_length` (e.g. `max_length=45`) or leave max_length to None to pad to the maximal input size of the model (e.g. 512 for Bert).\n",
            "  FutureWarning,\n"
          ],
          "name": "stderr"
        }
      ]
    },
    {
      "cell_type": "code",
      "metadata": {
        "id": "mPCktQT9DVT4",
        "colab": {
          "base_uri": "https://localhost:8080/"
        },
        "outputId": "bc229732-52a3-4b7e-b057-d8512375942e"
      },
      "source": [
        "# Prediction on test set\n",
        "\n",
        "print('Predicting labels for {:,} test sentences...'.format(len(input_ids)))\n",
        "\n",
        "# Put model in evaluation mode\n",
        "model.eval()\n",
        "\n",
        "# Tracking variables \n",
        "predictions , true_labels = [], []\n",
        "\n",
        "# Predict ea\n",
        "for batch in prediction_dataloader:\n",
        "  # Add batch to GPU\n",
        "  batch = tuple(t.to(device) for t in batch)\n",
        "  \n",
        "  # Unpack the inputs from our dataloader\n",
        "  b_input_ids, b_input_mask, b_labels = batch\n",
        "  \n",
        "  # Telling the model not to compute or store gradients, saving memory and \n",
        "  # speeding up prediction\n",
        "  with torch.no_grad():\n",
        "      # Forward pass, calculate logit predictions\n",
        "      outputs = model(b_input_ids,b_input_mask)\n",
        "\n",
        "  logits = outputs\n",
        "\n",
        "  # Move logits and labels to CPU\n",
        "  logits = logits.detach().cpu().numpy()\n",
        "  label_ids = b_labels.to('cpu').numpy()\n",
        "  \n",
        "  # Store predictions and true labels\n",
        "  predictions.append(logits)\n",
        "  true_labels.append(label_ids)\n",
        "\n",
        "print('    DONE.')"
      ],
      "execution_count": null,
      "outputs": [
        {
          "output_type": "stream",
          "text": [
            "Predicting labels for 342 test sentences...\n",
            "    DONE.\n"
          ],
          "name": "stdout"
        }
      ]
    },
    {
      "cell_type": "markdown",
      "metadata": {
        "id": "U_WchmXtDspr"
      },
      "source": [
        "print('Positive samples: %d of %d (%.2f%%)' % (final_data.label.sum(), len(final_data.label), (final_data.label.sum() / len(final_data.label) * 100.0)))"
      ]
    },
    {
      "cell_type": "code",
      "metadata": {
        "id": "7vbdVvUXDxgf",
        "colab": {
          "base_uri": "https://localhost:8080/"
        },
        "outputId": "12eefbeb-6e4a-4132-8ead-3293f924a64c"
      },
      "source": [
        "true_labels[0]"
      ],
      "execution_count": null,
      "outputs": [
        {
          "output_type": "execute_result",
          "data": {
            "text/plain": [
              "array([2, 0, 2, 0, 0, 0, 1, 2, 1, 2, 2, 1, 0, 0, 1, 1, 1, 0, 2, 2, 0, 2,\n",
              "       1, 1, 1, 2, 0, 0, 0, 0, 2, 2])"
            ]
          },
          "metadata": {},
          "execution_count": 62
        }
      ]
    },
    {
      "cell_type": "code",
      "metadata": {
        "id": "s5BoY2hKGb7_",
        "colab": {
          "base_uri": "https://localhost:8080/"
        },
        "outputId": "a76bec6d-8345-418f-a660-26f3c844de14"
      },
      "source": [
        "pred =  np.argmax(predictions[0],axis=1).flatten()\n",
        "pred"
      ],
      "execution_count": null,
      "outputs": [
        {
          "output_type": "execute_result",
          "data": {
            "text/plain": [
              "array([1, 0, 2, 0, 0, 0, 1, 0, 1, 2, 1, 2, 0, 2, 1, 0, 0, 0, 1, 2, 0, 2,\n",
              "       2, 1, 0, 2, 0, 0, 0, 0, 2, 0])"
            ]
          },
          "metadata": {},
          "execution_count": 63
        }
      ]
    },
    {
      "cell_type": "code",
      "metadata": {
        "id": "tPuK0-vzGp3R",
        "colab": {
          "base_uri": "https://localhost:8080/"
        },
        "outputId": "43079754-dc91-40ee-e868-46966197faaa"
      },
      "source": [
        "from sklearn.metrics import matthews_corrcoef\n",
        "\n",
        "matthews_set = []\n",
        "\n",
        "# Evaluate each test batch using Matthew's correlation coefficient\n",
        "print('Calculating Matthews Corr. Coef. for each batch...')\n",
        "\n",
        "# For each input batch...\n",
        "for i in range(len(true_labels)):\n",
        "  \n",
        "  # The predictions for this batch are a 2-column ndarray (one column for \"0\" \n",
        "  # and one column for \"1\"). Pick the label with the highest value and turn this\n",
        "  # in to a list of 0s and 1s.\n",
        "  pred_labels_i = np.argmax(predictions[i], axis=1).flatten()\n",
        "  \n",
        "  # Calculate and store the coef for this batch.  \n",
        "  matthews = matthews_corrcoef(true_labels[i], pred_labels_i)                \n",
        "  matthews_set.append(matthews)"
      ],
      "execution_count": null,
      "outputs": [
        {
          "output_type": "stream",
          "text": [
            "Calculating Matthews Corr. Coef. for each batch...\n"
          ],
          "name": "stdout"
        }
      ]
    },
    {
      "cell_type": "code",
      "metadata": {
        "colab": {
          "base_uri": "https://localhost:8080/"
        },
        "id": "i5MKFS0iXm7l",
        "outputId": "3269f004-dead-4f2e-98d9-f83ac8eebfe9"
      },
      "source": [
        "flat_predictions = np.concatenate(predictions, axis=0)\n",
        "\n",
        "flat_predictions = np.argmax(flat_predictions, axis=1).flatten()\n",
        "\n",
        "# Combine the correct labels for each batch into a single list.\n",
        "flat_true_labels = np.concatenate(true_labels, axis=0)\n",
        "\n",
        "# Calculate the MCC\n",
        "mcc = matthews_corrcoef(flat_true_labels, flat_predictions)\n",
        "\n",
        "print('Total MCC: %.3f' % mcc)"
      ],
      "execution_count": null,
      "outputs": [
        {
          "output_type": "stream",
          "text": [
            "Total MCC: 0.516\n"
          ],
          "name": "stdout"
        }
      ]
    },
    {
      "cell_type": "code",
      "metadata": {
        "id": "FD3aaycBz4DR",
        "colab": {
          "base_uri": "https://localhost:8080/"
        },
        "outputId": "1377f962-6b61-4c65-e043-b9b7e541b8ab"
      },
      "source": [
        "len(flat_true_labels)"
      ],
      "execution_count": null,
      "outputs": [
        {
          "output_type": "execute_result",
          "data": {
            "text/plain": [
              "342"
            ]
          },
          "metadata": {},
          "execution_count": 66
        }
      ]
    },
    {
      "cell_type": "code",
      "metadata": {
        "id": "24s8HZWmz6c3",
        "colab": {
          "base_uri": "https://localhost:8080/"
        },
        "outputId": "ebce8ef8-c7ff-4b0d-c38e-460e4f7c72ca"
      },
      "source": [
        "(set(test_features).intersection(set(question_answer)))"
      ],
      "execution_count": null,
      "outputs": [
        {
          "output_type": "execute_result",
          "data": {
            "text/plain": [
              "{'Approximately how many species of Testudines are alive today? 300',\n",
              " 'Are all dialects of Korean similar to each other? Yes',\n",
              " 'Are pocket trumpets compact B trumpets? yes',\n",
              " 'Are wolves built for stamina? Yes',\n",
              " 'Around how many recognized octopus species are there? There are around 300 recognized octopus species.',\n",
              " 'Copenhagen is the capital of what country? Denmark',\n",
              " 'Did Lincoln ever represent Alton & Sangamon Railroad? Yes',\n",
              " \"Did Monroe' wedding happen at the Trinity Church in New York? Yes\",\n",
              " 'Do linguists often view Chinese as a language family? Yes, linguists often view Chinese as a language family.',\n",
              " 'Does Modern Standard Arabic continue to evolve like other languages? yes',\n",
              " 'Does Theodore Roosevelt have a brother? Yes',\n",
              " 'Does every drumhead make the same sound? no',\n",
              " 'Does the octopus have a hard beak? Yes, the octopus has a hard beak.',\n",
              " 'Have cymbals been used historically to suggest bacchanal? Yes',\n",
              " 'How many children did Avogadro have? six',\n",
              " 'How many species of otter are there? 13',\n",
              " 'How old is the oldest known representation of a guitar-like intrument being played? 3,300 years old',\n",
              " 'How old was Celsius when he died? 42',\n",
              " \"Is English Ghana's official language? yes\",\n",
              " 'Is Liechtenstein heavily urbanized? No',\n",
              " 'Is Liechtenstein the smallest German-speaking country in the world? Yes',\n",
              " 'Is it a disadvantage for something to be unsafe to handle? yes',\n",
              " 'Is polar bear a mammal? Yes',\n",
              " 'Is the SI unit for radioactivity named after him? Yes',\n",
              " 'Was Abraham Lincoln the first President of the United States? No',\n",
              " 'Was Grover Cleveland the twenty-seventh president of the United States? No.',\n",
              " \"Was Henri Becquerel first in his family to occupy the physics chair at the Museum National d'Histoire Naturelle? No\",\n",
              " \"Was Isaac Newton educated at The King's Schol, Grantham? yes\",\n",
              " 'Was Thedore Roosevelt  a member of the Republican Party? Yes',\n",
              " 'Was the Italian 10.000 lira banknote created before the euro? yes',\n",
              " 'Were trumpet players heavily guarded? yes',\n",
              " \"What are the elephant's ears important for? temperature regulation\",\n",
              " \"What company administers Leichtenstein's railways? Austrian Federal Railways\",\n",
              " 'What do river otters eat? a variety of fish and shellfish, as well as small land mammals and birds',\n",
              " 'What is the life expectancy for men in Finland? 75 years',\n",
              " 'What is the most common romanization standard for Standard Mandarin today? Hanyu Pinyin',\n",
              " 'What is the smallest suborder of turtles? Pleurodira',\n",
              " \"What was Grant's political affiliation? Republican\",\n",
              " 'What year did Coolidge open his own law office? 1898',\n",
              " 'When did Isaac Newton discover the generalized binomial theorem? In 1665.',\n",
              " 'When did Roosevelt die? On January 6, 1919, Roosevelt died in his sleep.',\n",
              " 'When was the Six Day War? 1967',\n",
              " 'Where is Finland located? Northern Europe',\n",
              " 'Where was Isaac Newton born? Woolsthorpe Manor in Woolsthorpe-by-Colsterworth',\n",
              " 'Where was James Monroe born? Westmoreland County, Virginia',\n",
              " 'Where was the League of Nations created? Paris',\n",
              " 'Which type of beetle is a pest of potato plants? Colorado potato beetle',\n",
              " 'Who appointed Harlan Fiske Stone to the Supreme Court? Coolidge',\n",
              " \"Who is the mayor of Ottawa? Larry O'Brien\",\n",
              " 'Who was President when Wilson finished Congressional Government? Grover Cleveland',\n",
              " 'With what party did Adams run for presidency? The Federalist Party'}"
            ]
          },
          "metadata": {},
          "execution_count": 67
        }
      ]
    },
    {
      "cell_type": "code",
      "metadata": {
        "id": "D9n3h6N50UFY",
        "colab": {
          "base_uri": "https://localhost:8080/"
        },
        "outputId": "f56c0aca-2970-4288-e995-943c670792c0"
      },
      "source": [
        "test_features"
      ],
      "execution_count": null,
      "outputs": [
        {
          "output_type": "execute_result",
          "data": {
            "text/plain": [
              "array(['How are western-style xylophones characterised? by a bright, sharp tone and high register',\n",
              "       'Is Nairobi the capital of Kenya? Yes',\n",
              "       'How many sister cities does the City of Melbourne have? six',\n",
              "       'Is the electric eel a true eel? No',\n",
              "       'Does Swedish use the perfect participle to form the present perfect tense? No.',\n",
              "       'Do the different species of zebras interbreed? no',\n",
              "       'What are the reasons for hunting wild ducks? Meat, eggs, and feathers',\n",
              "       'Does Romania share the same language with Moldova? Practically',\n",
              "       'Which guitars use three single-coil pickups? Fender Stratocaster type guitars.',\n",
              "       'How long does it take for the panda cubs skin to turn gray? One to two weeks',\n",
              "       'Which temperature scale did Celsius propose? Celcius',\n",
              "       'Where is Finland located? Northern Europe',\n",
              "       'Is the capital city Oslo? No',\n",
              "       'How many species of otter are there? 13',\n",
              "       \"What's the timber of ancient cimbals like? disfluent like that of small hand-bells or of the notes of the keyed harmonica\",\n",
              "       'Is University of Dhaka the largest public university in Dhaka? Yes',\n",
              "       'Is the Adephaga suborder larger than the Polyphaga suborder? yes',\n",
              "       'Are Sports in Indonesia generally male-orientated? yes',\n",
              "       \"What company administers Leichtenstein's railways? Austrian Federal Railways\",\n",
              "       'When do African elephants lie down? when they are sick or wounded',\n",
              "       'Does Modern Standard Arabic continue to evolve like other languages? yes',\n",
              "       'When did Roosevelt die? On January 6, 1919, Roosevelt died in his sleep.',\n",
              "       'What does the word duck mean? It is the common name for a number of species in the Anatidae family of birds.',\n",
              "       'Did Lincoln beat John C. Breckinridge in the 1860 election? Yes.',\n",
              "       'Was Lee Kuan Yew a successful leader of Singapore? yes',\n",
              "       'Where was Volta born? Como, Italy',\n",
              "       'Is Singapore located at the southern tip of the Korean Penisula? no',\n",
              "       'Was Coolidge the thirteenth President of the United States? Yes',\n",
              "       'Was Celsius born in Uppsala in Sweden? Yes',\n",
              "       'Are Testudines the crown group of the superorder Chelonia? Yes',\n",
              "       'What is the current estimated population of Nairobi? About 3 million',\n",
              "       'Does Romania border Hungary? Yes.',\n",
              "       'How do eels begin life? As flat and transparent larvae, called leptocephali',\n",
              "       'What is the range of lifespans of the octopus? The octopus has a short lifespan.',\n",
              "       'Is the president elected by popular vote? Yes.',\n",
              "       'What areas can giraffes inhabit? savannas, grasslands, or open woodlands',\n",
              "       'What happened in 1833? blah blah blah',\n",
              "       'Are many words describing the navy , types of ships , and other objects or activities on the water of dutch origin ? yes',\n",
              "       'When did Alessandro Volta improve  and popularize the electrophorus? Alessandro Volta improved and popularized the electrophorus in 1775.',\n",
              "       \"When was Liechtenstein's current constitution adopted? October 1921\",\n",
              "       'Name an animal that is growing in number due to recent conservation efforts Golden Eagle',\n",
              "       'What bordered by Saudi? Qatar',\n",
              "       'What became one of the most important commercial and military centres of the British Empire? Singapore',\n",
              "       'Are penguins astonishingly agile? In the water they are.',\n",
              "       'How many provinces and territories does Canada have? Ten provinces and three territories',\n",
              "       'Are pocket trumpets compact B trumpets? yes',\n",
              "       'What is the smallest species of fox? the Fennec Fox',\n",
              "       'Do all ants build nests? No, not all ants build nests.',\n",
              "       'Did France cede nearly all of its colonies in Europe in 1763? yes',\n",
              "       \"Did Grover Cleveland support women's suffrage? no\",\n",
              "       \"How can a flute's volume be increased? a flute's volume can generally be increased by making its resonator and tone holes larger\",\n",
              "       'Could Malay have originated from Sumatra island? Yes.',\n",
              "       'Is the leopard solitary? Yes',\n",
              "       \"How many Eagle Scouts were involved in Ford's funeral procession? 400\",\n",
              "       'When did Lincoln begin his political career? 1832.',\n",
              "       'How many children did Grover Cleveland have? 5',\n",
              "       'Is a polar bear at high risk of extinction? yes',\n",
              "       'What is Anders Celsius`s last name? Celsius',\n",
              "       'How many strings does a violin usually have? 4',\n",
              "       'The Savings and Loans Bank was founded, as was the first cotton-weaving mill in what year? 1861',\n",
              "       'What is the largest religious group in Canada? According to 2001 census, 77.1% of Canadians identified as being Christians; of this, Catholics make up the largest group (43.6% of Canadians). The largest Protestant denomination is the United Church of Canada; about 16.5% of Canadians declare no religious affiliation, and the remaining 6.3% were affiliated with religions other than Christianity, of which the largest is Islam numbering 1.9%, followed by Judaism: 1.1%. ',\n",
              "       'Does the de Young museum house the Asian Art Museum yes',\n",
              "       'Is romania -LRB- , -RRB- a country in southeastern europe? Yes',\n",
              "       'When do wolves molt? Late Spring or Early Summer',\n",
              "       'Is it not also one of the two official languages of the Yanbian Korean Autonomous Prefecture in China? Yes.',\n",
              "       'How many Swedish speakers were reported in Canada in 2001? There are 16,915 reported Swedish speakers in Canada.',\n",
              "       'Did James Monroe fight in the Continental Army? Yes',\n",
              "       'Is there a way to approximate the age of a turtle? Yes',\n",
              "       \"What is the city's population? 1.6 million\",\n",
              "       'What is another term for Korean adjectives? Adjectives are also known as \"descriptive verbs\" or \"stative verbs\".',\n",
              "       'In what year did the Spanish establish a fort at the Golden Gate and a mission named for Francis of Assisi on the site? In 1776, the Spanish established a fort at the Golden Gate and a mission named for Francis of Assisi on the site.',\n",
              "       'What year did Coolidge open his own law office? 1898',\n",
              "       'Was Calvin Coolidge Republican? Yes',\n",
              "       'Is it true that thermometer had 100 for the freezing point? Yes',\n",
              "       \"When did Charles-Augustin de Coulomb join his father's family in Montpeillier? From 1757 to 1759 he joined his father's family in Montpellier.\",\n",
              "       'Who did Alessandro Volta marry? Alessandro Volta married Teresa Peregrini.',\n",
              "       'Is octopus a common food in Mediterranean cuisine as well as Portuguese cuisine? Yes',\n",
              "       'Where was Isaac Newton born? At Woolsthorpe Manor in Woosthorpe-by-Colsterworth.',\n",
              "       'Does Liechtenstein have an army? No.',\n",
              "       'How many species of zebra are there? Three',\n",
              "       'What is the second main orchestral use of cymbals? The suspended cymbal is the second main orchestral use of symbals.',\n",
              "       \"What is Canada's national unemployment rate? In October 2007, Canada's national unemployment rate is 5.9%.\",\n",
              "       'How many arms does an octopus have? An octopus has four pairs of arms.',\n",
              "       'Is the Giant Panda an endangered species? yes',\n",
              "       'Is it true that the ideas of the Enlightenment shaped the development of the city? Yes.',\n",
              "       \"What is polar bear's skin color? white or cream\",\n",
              "       'Are Indian concert flutes available in standard pitches? Yes',\n",
              "       'Where was the League of Nations created? Paris',\n",
              "       'Were the koalas of South Australia largely exterminated during the early part of the 20th century, but the state has since been repopulated with Victorian stock? The koalas of South Australia were largely exterminated during the early part of the 20th century, but the state has since been repopulated with Victorian stock.',\n",
              "       'Did Volta marry before he became professor of experimental physics at the University of Pavia? No.',\n",
              "       'Do linguists often view Chinese as a language family? Yes, linguists often view Chinese as a language family.',\n",
              "       'In fact, was Avogadro `s  famous  1811  paper written in French . ) Yes',\n",
              "       'Was he a member of the Royal Superior Council on Public Instruction? Yes,  Avogadro was a member of the Royal Superior Council on Public Instruction.',\n",
              "       \"Does Indonesia have the world's hightest level of biodiversity? No\",\n",
              "       'Who discovered benzene? Michael Faraday',\n",
              "       'Is aquatic respiration in Australian freshwater turtles being studied? yes',\n",
              "       'How are Isabelline penguins different from most penguins? Because they are born with brown rather than black plumage.',\n",
              "       'Was Adams an opponent of the Stamp Act? yes',\n",
              "       'Is the main sport in Uruguay football ? Yes',\n",
              "       'Does Vietnamese have a large number of vowels? Yes, Vietnamese has a comparatively large number of vowels.',\n",
              "       'Are trumpets constructed of brass? Yes',\n",
              "       'What sort of cats are solitary? Leopards',\n",
              "       'From what type of Cymbals can a expert player obtain an enormous dynamic range? An expert player can obtain an enormous dynamic range from crash cymbals.',\n",
              "       'How is the climate in the city? The city is hot and humid.',\n",
              "       'What do river otters eat? River otters eat a variety of fish and shellfish, as well as small land mammals and birds.',\n",
              "       'Did Coolidge meet and marry Grace Anna Goodhue? yes',\n",
              "       'Where did Wilson attend law school? Wilson attended law school at University of Virginia',\n",
              "       'What is the MRT? Mass Rapid Transit system',\n",
              "       \"Wasn't Leonardo da Vinci born on April 15? Yes, Leonardo da Vinci was born on April 15.\",\n",
              "       'Where are bullet ants located? Bullet ants are located in Central and South America.',\n",
              "       'Is Romania a secular state? Yes',\n",
              "       'Was Tesla regarded as a mad scientist? yes',\n",
              "       'Does every drumhead make the same sound? no',\n",
              "       'What type of current did Tesla invent? AC',\n",
              "       'Does San Francisco have a high percentage of gay and lesbian individuals? Yes, according to the 2005 American Community Survey, San Francisco has the highest percentage of gay and lesbian individuals of any of the 50 largest U.S. cities, at 15.4%.',\n",
              "       'Where does air pollution in Beijing come from? surrounding cities and provinces',\n",
              "       'Four years after opening his shop , Watt began what? Watt began to experiment with steam after his friend, Professor John Robison, called his attention to it.',\n",
              "       'Why did Cleveland want to hide his cancer surgery from the public? because of the financial depression of the country',\n",
              "       'Which property did James Monroe sell in 1817? Monroe Hill on the grounds of the University of Virginia.',\n",
              "       'How old was Celsius when he died? 42',\n",
              "       'Are cougars larger than jaguars? no',\n",
              "       'What animal attracts the most humor and silliness? the duck',\n",
              "       'What are the three heaviest cats in the world? tiger, lion, and jaguar',\n",
              "       'Did Canadian soldiers win the Battle of Vimy Ridge in 1917? Yes',\n",
              "       'Was Isaac Newton religious? Yes, he was highly religious, though an unorthodox Christian.',\n",
              "       'Do kangaroos have many natural predators? No',\n",
              "       'Who did Ford nominate for Vice President? Bob Dole',\n",
              "       'Hassan Massoudy is a master of what genre? Arabic calligraphy',\n",
              "       'Is it true that he published his invention of the Voltaic pile battery? Yes',\n",
              "       'Does the koala fill the same ecological role as the sloth of South America? The koala fills the same ecological role as the sloth of South America.',\n",
              "       'Why do wolves howl? Howling helps pack members keep in touch, allowing them to communicate effectively in thickly forested areas or over great distances. Howling also helps to call pack members to a specific location. Howling can also serve as a declaration of territory, as shown in a dominant wolf&apos;s tendency to respond to a human imitation of a \"rival\" wolf in an area the wolf considers its own. ',\n",
              "       'Do most Japanese people employ politeness? yes',\n",
              "       'Is fifty percent or more of Korean vocabulary of Chinese origin? Yes',\n",
              "       \"What are the names of a piano's pedals? The names of a piano's pedals are una corda, sostenuto, and damper.\",\n",
              "       'What is the smallest suborder of turtles? Pleurodira',\n",
              "       \"Is Uruguay 's oldest church in San Carlos , Maldonado ? Yes\",\n",
              "       'Is Liechtenstein the smallest German-speaking country in the world? Yes',\n",
              "       'Have managed populations of European honey bees experienced substantial declines? yes',\n",
              "       'Have cymbals been used historically to suggest bacchanal? Yes',\n",
              "       'What is the life expectancy for men in Finland? 75 years',\n",
              "       \"Is Adams' birthplace part of a national park? yes\",\n",
              "       'Are wolves built for stamina? Yes',\n",
              "       'Are the largest turtles aquatic? yes',\n",
              "       'Is the largest living species the emperor penguin -LRB- aptenodytes forsteri -RRB-? Yes',\n",
              "       'How many children did Avogadro have? six',\n",
              "       'Did ants evolve from wasp-like ancestors in the mid-Cretaceous period between 110 and 130 million years ago and diversified after the rise of flowering plants? yes',\n",
              "       'Where do sea otters live? Pacific coast of North America',\n",
              "       'Were trumpet players heavily guarded? yes',\n",
              "       'Copenhagen is the capital of what country? Denmark',\n",
              "       'What was Amedeo Avogadro`s profession? professor of physics',\n",
              "       'Where was Grant born? A log cabin in Point Pleasant, Clermont County, Ohio',\n",
              "       'Does the mother care for the young? No',\n",
              "       'What trumpet was the first to be allowed in the Christian Church? Slide trumpets',\n",
              "       \"The John Adams Library , housed at the Boston Public Library , contains what? Adams's personal collection of more than 3,500 volumes\",\n",
              "       'Is Ford related with the assassination of John F. Kennedy? Yes',\n",
              "       'What principles did Newton explain for mechanics? In mechanics, Newton enunciated the principles of conservation of momentum and angular momentum',\n",
              "       'When was Charles-Augustin de Coulomb permanently stationed in Paris? Yes',\n",
              "       'How tall were the tallest prehistoric penguins? as tall as an adult human',\n",
              "       'What is the mean level of mercury in American lobsters? 0.31 ppm',\n",
              "       'Where does the word \"violin\" come from? the Middle Latin word vitula, meaning \"stringed instrument\"',\n",
              "       'Did he suffer from anxiety and increasingly frequent bouts of mental illness throughout his life, and died largely unknown, at the age of 37, from a self-inflicted gunshot wound? Yes.',\n",
              "       \"What is now part of Adams National Historical Park? John Adams' birthplace\",\n",
              "       \"What is the earliest historical reference in Europe? Arnold Schlick's Spiegel der Orgelmacher und Organisten\",\n",
              "       'What religions are found in Uruguay? Roman Catholic, Protestant, Jewish',\n",
              "       'Who appointed Harlan Fiske Stone to the Supreme Court? Coolidge',\n",
              "       'What is responsible for converting the hydrogen byproduct of fermentation into acetate? The digestive system of a kangaroo',\n",
              "       'Are Immature sea turtles not cared for by the adults ? yes',\n",
              "       \"Who is the mayor of Ottawa? Larry O'Brien\",\n",
              "       'What are the names of the two zoos in Berlin? The two zoos in Berlin are the Zoologischer Garten Berlin and the Tierpark Friedrichsfelde.',\n",
              "       'Had Monroe racked up many debts during his years of public life ? yes',\n",
              "       'Was Abraham Lincoln the first President of the United States? No',\n",
              "       'Was The SI  unit  of charge , the  coulomb , named after him? yes',\n",
              "       'Did the Dutch build the Elmina Castle? No',\n",
              "       \"Who helped to fund Roosevelt's African safari? Financed by Andrew Carnegie and his own proposed writings\",\n",
              "       \"What are the elephant's ears important for? temperature regulation\",\n",
              "       'Are hutongs disappearing? yes',\n",
              "       'Did John Adams support the Stamp Act of 1765? No',\n",
              "       'Is Vietnamese the mother tongue of the Vietnamese people? Yes',\n",
              "       'Is it the smallest and highest-pitched member of the violin family of string instruments, which also includes the viola and cello? Yes, it is the smallest and highest-pitched member of the violin family of string instruments, which also includes the viola and cello.',\n",
              "       'Are tigers solitary animals? Yes',\n",
              "       'What religion did Isaac Newton follow? he never made a public declaration of his private faith',\n",
              "       'Who frequented the circle of the British-Australian artist John Peter Russell? Van Gogh',\n",
              "       'Do both sexes of giraffe have horns? yes',\n",
              "       'What is the mean level of mercury in American lobsters? 0.31 ppm',\n",
              "       'Does Uruguay have cold summers? no',\n",
              "       'Where was James Monroe born? Westmoreland County, Virginia',\n",
              "       \"Did Monroe' wedding happen at the Trinity Church in New York? Yes\",\n",
              "       'Was Volta made a count in 1810? No.',\n",
              "       'Is the syntax of German different with different rules? yes',\n",
              "       \"Was Isaac Newton educated at The King's Schol, Grantham? yes\",\n",
              "       \"How many Eagle Scouts were involved in Ford's funeral procession? About 400\",\n",
              "       'Are they easily identified by their elbowed antennae and a distinctive node-like structure that forms a slender waist? Yes, they are easily identified by their elbowed antennae and a distinctive node-like structure that forms a slender waist.',\n",
              "       \"Did Cartier not use the word ` Canada ' to refer to not only that village , but the entire area subject to Donnacona , Chief at Stadacona ? yes\",\n",
              "       'Was watt a fellow of the Royal Society of Edinburgh and the Royal Society of London? Yes.',\n",
              "       'Is the violin shaped like an hourglass? Yes.',\n",
              "       'Can polar bears be seen under infrared photography? Polar bears are nearly invisible under infrared photography.',\n",
              "       'Is Jakarta a city Yes',\n",
              "       'Is Finnish a member of the Baltic-Finnic subgroup of the Uralic languages? Yes',\n",
              "       'Where is old Ghana in relation to present Ghana? 500 miles north',\n",
              "       \"Has Indonesia the world 's largest Muslim population ? yes\",\n",
              "       'Does the octopus have a hard beak? Yes, the octopus has a hard beak.',\n",
              "       'Is the study of beetles called coleopterology , and its practitioners are coleopterists ? Yes.',\n",
              "       'What is the bridge used for? The transfer of string vibrations.',\n",
              "       'Is James Monrow the fifth president of US? Yes',\n",
              "       'Where is Charles-Augustin de Coulomb from? France',\n",
              "       \"Are Gray Wolves native to North America? No. Current theory suggests that it's from Eurasia\",\n",
              "       'Are there a large number of Jews living in Egypt today? No',\n",
              "       'Are all dialects of Korean similar to each other? Yes',\n",
              "       'When is the first record of S08_settlement in Singapore? second century AD',\n",
              "       'Where are the Western Arabic numerals used? present-day North Africa',\n",
              "       'When did Charles-Augustin de Coulomb retire to a small estate he possessed at Blois? Charles-Augustin de Coulomb retired to a small estate he possessed at Blois on the outbreak of the revolution in 1789.',\n",
              "       'Was Alessandro Volta a professor of chemistry? Alessandro Volta was not a professor of chemistry.',\n",
              "       'What is the SI unit measuring magnetic flux density or magnetic induction? the tesla',\n",
              "       'Where do sea turtles lay their eggs? Holes Dug into the Mud or Sand',\n",
              "       'Is Liechtenstein heavily urbanized? No',\n",
              "       \"Where was much of Montreal's industry during the late 19th and early-to-mid 20th century? The Sud-Ouest borough was home to much of the city's industry during the late 19th and early-to-mid 20th century. \",\n",
              "       'When was the Six Day War? 1967',\n",
              "       'Who determined the dependence of the boiling of water with atmospheric pressure? Anders Celsius',\n",
              "       'How do the Java and Bali use xylophones? In gamelan ensembles',\n",
              "       'How many civilians died in the 1998 U.S. embassy bombing? Over two hundred',\n",
              "       'What are violins made of? different types of wood',\n",
              "       'When was the An Shi Rebellion launched? in 755 AD',\n",
              "       \"Is the leopard -LRB- panthera pardus -RRB- an old world mammal of the felidae family and the smallest of the four (`` ` big cats ('' ' of the genus panthera , along with the tiger , lion , and jaguar? Yes\",\n",
              "       \"Was Henri Becquerel first in his family to occupy the physics chair at the Museum National d'Histoire Naturelle? No\",\n",
              "       \"Is Indonesia the world's largest archipelagic state? yes\",\n",
              "       'Where does the German President live? The German President lives west of the center, Schloss Bellevue.',\n",
              "       'Where are the Western Arabic numerals used? North Africa',\n",
              "       'What allows a duck to filter water out of the side of their beaks and keep food inside? Tiny rows of plates called lamellae',\n",
              "       \"What would a tiger do when seized by a crocodile? strike at the reptile's eyes with its paws\",\n",
              "       'How many years ago was the Luther Bible by Martin Luther printed? 475',\n",
              "       'What happens when mothers lose a chick? They sometimes attempt to \"steal\" another chick.',\n",
              "       'Who were the Orkhon inscriptions built for? The Orkhon inscriptions were erected in honour of the prince Kul Tigin and his brother Emperor Bilge Khan.',\n",
              "       'Has the terrain in the city been artificially raised? yes',\n",
              "       'What do river otters eat? a variety of fish and shellfish, as well as small land mammals and birds',\n",
              "       'What prompted the city to upgrade its building codes The threat of major earthquakes',\n",
              "       'Why is the giant otter becoming increasingly rare? poaching, habitat loss, and the use of mercury in illegal alluvial gold mining',\n",
              "       \"What have become flippers, useless for flight in the air? Penguins' wings\",\n",
              "       'Why does the cornet have a slightly mellower tone than the trumpet? because it has conical bores',\n",
              "       'Approximately how many species of Testudines are alive today? 300',\n",
              "       'Are otters playful animals? yes',\n",
              "       'Did lincoln have 18 months of schooling? Yes',\n",
              "       'Who heavily influenced the architecture and culture of Montevideo? European immigrants',\n",
              "       'What was the Faraday effect first called? diamagnetism',\n",
              "       'Does it have a border with Norway? Yes',\n",
              "       'Is an official language of Canada German? No.',\n",
              "       'What is also the distance that Antarctic tourists are told to keep from penguins? 3 meters',\n",
              "       'Did Lincoln ever represent Alton & Sangamon Railroad? Yes',\n",
              "       \"What are some of the cougar's primary food sources? ungulates such as deer, elk, and bighorn sheep, as well as domestic cattle, horses, and sheep\",\n",
              "       \"Is Melbourne home to Australia's busiest seaport? Yes\",\n",
              "       'Did Bartolomeo Cristofori invent the modern piano? Yes',\n",
              "       'Where is the Park of the Reserve located? Near the downtown area.',\n",
              "       'What did Anders Celsius determine about the boiling of water? dependence with atmospheric pressure',\n",
              "       'What city in the UK has been subjected to bouts of terrorism? London has been subjected to bouts of terrorism.',\n",
              "       'What foods do pandas eat? bamboo, honeys, eggs, fish, yams, shrub leaves, oranges, and bananas',\n",
              "       'When did Adams graduate from college? 1755.',\n",
              "       'Can the origins of cymbals be traced back to prehistoric times? yes',\n",
              "       'Which type of beetle is a pest of potato plants? Colorado potato beetle',\n",
              "       'Is there a way to approximate the age of a turtle? yes',\n",
              "       'What trumpet was the first to be allowed in the Christian Church? slide trumpets',\n",
              "       'What is the battery made by Alessandro Volta credited as? the first electrochemical cell',\n",
              "       'Is it a disadvantage for something to be unsafe to handle? yes',\n",
              "       'The ideas of the Enlightenment shaped the development of what? the city, Lima',\n",
              "       'Has the terrain in the city been artificially raised? Yes.',\n",
              "       'Is the SI unit for radioactivity named after him? Yes',\n",
              "       'Was the Italian 10.000 lira banknote created before the euro? yes',\n",
              "       'How many times has Uruguay won the World Cup? Twice. ',\n",
              "       'Where was Isaac Newton born? Woolsthorpe Manor in Woolsthorpe-by-Colsterworth',\n",
              "       'Was Gerald Ford the 38th President of the United States? yes',\n",
              "       'When was the pan flute spread to other parts of Europe? After the 7th century BC',\n",
              "       'Who was President when Wilson finished Congressional Government? Grover Cleveland',\n",
              "       'Is the ant a marsupial? no',\n",
              "       'What happened in 1860? Vincent van Gogh attended the Zundert village school from 1860.',\n",
              "       'Was Grover Cleveland the twenty-seventh president of the United States? No.',\n",
              "       'With what party did Adams run for presidency? The Federalist Party',\n",
              "       'What are the differences between English and Swedish pronouns? Swedish pronouns are basically the same as those of English but distinguish two genders and have an additional object form, derived from the old dative form, as well as a distinct genitive case.',\n",
              "       'Was John Calvin Coolidge Jr. was born in Las Vegas? No',\n",
              "       'When did Isaac Newton discover the generalized binomial theorem? In 1665.',\n",
              "       'What field did Woodrow Wilson leave law practice to study? history and political science',\n",
              "       'Is the standard of living in San Franciscio high? Yes',\n",
              "       \"What is the name of the largest church in Montreal? Saint Joseph's Oratory is the largest church in Montreal.\",\n",
              "       'Are the strings of a classical lyre made of gut? Yes',\n",
              "       'Where did the xylophone originate? Indonesia',\n",
              "       \"Is it advantageous for a grand piano's metal plate to be quite massive? It is advantageous for the plate to be quite massive.\",\n",
              "       'Where is Melbourne situated? boundary of the very hot inland areas and the cold southern ocean',\n",
              "       'How many countries in Europe are bigger than Romania?   eleven',\n",
              "       'Where did he serve two terms? the Church of Scotland',\n",
              "       'What fictional stories include a main character named Santiago? Interview with the Vampire, The Alchemist, and others',\n",
              "       'What is the sustain pedal called? damper pedal',\n",
              "       'What do beetles eat? Some are generalists, eating both plants and animals. Other beetles are highly specialised in their diet.',\n",
              "       'Was Thedore Roosevelt  a member of the Republican Party? Yes',\n",
              "       'Give an example of the ten Beta World Cities.  San Trancisco',\n",
              "       'When was Coolidge born? Plymouth, Windsor County, Vermont',\n",
              "       'Is an acoustic guitar dependent on an external device? No.',\n",
              "       'Is Golden Gate Park the largest city park yes',\n",
              "       'Is a bee an insect? yes',\n",
              "       'What was Michael Faraday`s profession? chemist and physicist',\n",
              "       'Does Qatar rank as the eighth richest country in the world per capita? No.',\n",
              "       'Oxygen is what? One kind of gas obtained via a tracheal system.',\n",
              "       \"Who were the midnight judges? They were a series of judges, so called because most of them were formally appointed days before Adams' presidential term expired\",\n",
              "       'Is polar bear a mammal? Yes',\n",
              "       'What is a hybrid animal resulting from a union between a leopard and a puma? a pumapard',\n",
              "       'Does Theodore Roosevelt have a brother? Yes',\n",
              "       'What food gave Isaac Newton clues to his theory of gravity? apple',\n",
              "       'What is a colectivo? Automobiles that renders express service on some major roads of the Lima Metropolitan Area.',\n",
              "       'Did he experiment with individual cells? Yes',\n",
              "       'Is Malay an agglutinative language? Yes.',\n",
              "       'How old is the oldest known representation of a guitar-like intrument being played? 3,300 years old',\n",
              "       \"Did Johann Josef Loschmidt first calculate the value of Avogadro's number? yes\",\n",
              "       \"How does a Mallard's tongue work? It uses short spikes to push struggling prey and other food down its throat\",\n",
              "       'What is the basic word order in Malay? Subject Object Verb.',\n",
              "       'What is the Faraday effect? The Faraday effect is the phenomenon that the plane of polarisation of linearly polarised light can be rotated by the application of an external magnetic field aligned in the direction the light is moving.',\n",
              "       'What is the official language of Turkey? Turkish.',\n",
              "       \"What was Grant's political affiliation? Republican\",\n",
              "       'Who did Newton see as the master creator? God',\n",
              "       'Around how many recognized octopus species are there? There are around 300 recognized octopus species.',\n",
              "       'What is the caridoid escape reaction? Swimming backwards quickly by curling and uncurling their abdomen.',\n",
              "       'What is the middle pedal called on grand pianos? the sostenuto pedal.',\n",
              "       'Was Malay language written using Pallava? Yes',\n",
              "       'Why are otters vulnerable to prey depletion? Prey-dependence',\n",
              "       'What religions are found in Uruguay? Roman Catholic, Protestant, Jewish, and nonprofessing.',\n",
              "       \"Is English Ghana's official language? yes\",\n",
              "       \"In what language was his 1811 paper published? Avogadro's 1811 paper was published in French.\",\n",
              "       'Does the de Young museum house the Asian Art Museum No',\n",
              "       'Are violas and cellos in the same family of instruments as violins? yes',\n",
              "       'Is a guitar an instrument? yes',\n",
              "       'What are some common predators of ducks? Pike, crocodilians, herons, hawks and eagles.',\n",
              "       'Did Grant & Perkins not sell harnesses , saddles , and other leather goods and purchase hides from farmers in the prosperous Galena area ? they did',\n",
              "       'Was his 1800  paper written in French? Yes',\n",
              "       'When was his last painting for the Post published? 1963',\n",
              "       \"Where did Coolidge's grandfather had government offices? Plymouth\",\n",
              "       'Where is the word \"swan\" derived from? Old English swan.',\n",
              "       'How many legs do lobsters have? 10',\n",
              "       'Are more residents employed by small businesses than in 1977? No',\n",
              "       'Was the SI unit of charge named after Charles-Augustin de Coulomb? Yes, the SI unit of charge, the coulomb, was named after him.',\n",
              "       'Copenhagen is ranked number one worldwide for which things? Most Livable City, Location Ranking Survey',\n",
              "       'What happened in 1810? Volta was made a count by Napoleon.',\n",
              "       'What kind of piano did Irving Berlin play? transposing piano',\n",
              "       'Where was there a vast swarm of butterflies? In Kyoto there was a vast swarm of butterflies.',\n",
              "       'What is the most common romanization standard for Standard Mandarin today? Hanyu Pinyin',\n",
              "       'Is Jakarta the 12th largest city in the world? yes',\n",
              "       'What sort of turtles are ectothermic? all of them',\n",
              "       'Was Gellu Naum the leader of the surrealist movement in Romania ? Yes'],\n",
              "      dtype=object)"
            ]
          },
          "metadata": {},
          "execution_count": 68
        }
      ]
    },
    {
      "cell_type": "code",
      "metadata": {
        "id": "zlqpVfk-NW_F"
      },
      "source": [
        "def accuracy_per_class(preds_flat, labels_flat):\n",
        "\n",
        "    for label in np.unique(labels_flat):\n",
        "        y_preds = preds_flat[labels_flat==label]\n",
        "        y_true = labels_flat[labels_flat==label]\n",
        "        print(f'Class: {get_labels(label)}')\n",
        "        print(f'Accuracy: {len(y_preds[y_preds==label])}/{len(y_true)}\\n')"
      ],
      "execution_count": null,
      "outputs": []
    },
    {
      "cell_type": "code",
      "metadata": {
        "id": "ed7_zfiDNaOv",
        "colab": {
          "base_uri": "https://localhost:8080/"
        },
        "outputId": "00ffda38-d49b-456e-bf59-9333f3cf9a87"
      },
      "source": [
        "accuracy_per_class(flat_predictions,flat_true_labels)"
      ],
      "execution_count": null,
      "outputs": [
        {
          "output_type": "stream",
          "text": [
            "Class: easy\n",
            "Accuracy: 112/134\n",
            "\n",
            "Class: hard\n",
            "Accuracy: 49/85\n",
            "\n",
            "Class: medium\n",
            "Accuracy: 72/123\n",
            "\n"
          ],
          "name": "stdout"
        }
      ]
    },
    {
      "cell_type": "code",
      "metadata": {
        "id": "4_vxvq7rHlgr",
        "colab": {
          "base_uri": "https://localhost:8080/",
          "height": 295
        },
        "outputId": "82cbb47b-9edc-4058-a3b8-df0dd475048e"
      },
      "source": [
        "import seaborn as sns\n",
        "import matplotlib.pyplot as plt\n",
        "ax = sns.barplot(x=list(range(len(matthews_set))), y=matthews_set, ci=None)\n",
        "\n",
        "plt.title('MCC Score per Batch')\n",
        "plt.ylabel('MCC Score (-1 to +1)')\n",
        "plt.xlabel('Batch #')\n",
        "\n",
        "plt.show()"
      ],
      "execution_count": null,
      "outputs": [
        {
          "output_type": "display_data",
          "data": {
            "image/png": "[encoded data removed]",
            "text/plain": [
              "<Figure size 432x288 with 1 Axes>"
            ]
          },
          "metadata": {
            "needs_background": "light"
          }
        }
      ]
    },
    {
      "cell_type": "code",
      "metadata": {
        "id": "v48rDl4JHmhv",
        "colab": {
          "base_uri": "https://localhost:8080/"
        },
        "outputId": "b1cfe641-f06e-4b08-dd94-b50e82ebb354"
      },
      "source": [
        "flat_predictions = np.concatenate(predictions, axis=0)\n",
        "\n",
        "flat_predictions = np.argmax(flat_predictions, axis=1).flatten()\n",
        "\n",
        "# Combine the correct labels for each batch into a single list.\n",
        "flat_true_labels = np.concatenate(true_labels, axis=0)\n",
        "\n",
        "# Calculate the MCC\n",
        "mcc = matthews_corrcoef(flat_true_labels, flat_predictions)\n",
        "\n",
        "print('Total MCC: %.3f' % mcc)"
      ],
      "execution_count": null,
      "outputs": [
        {
          "output_type": "stream",
          "text": [
            "Total MCC: 0.516\n"
          ],
          "name": "stdout"
        }
      ]
    },
    {
      "cell_type": "code",
      "metadata": {
        "id": "MI8-HrJ6MSEk",
        "colab": {
          "base_uri": "https://localhost:8080/"
        },
        "outputId": "f0f878f1-2445-4364-c6f3-0d9dd8fbbe61"
      },
      "source": [
        "list_bool = (flat_true_labels==flat_predictions)\n",
        "print(list_bool)\n",
        "print(len([i for i, val in enumerate(list_bool) if val]))\n",
        "len(flat_predictions)"
      ],
      "execution_count": null,
      "outputs": [
        {
          "output_type": "stream",
          "text": [
            "[False  True  True  True  True  True  True False  True  True False False\n",
            "  True False  True False False  True False  True  True  True False  True\n",
            " False  True  True  True  True  True  True False False False  True False\n",
            " False  True  True  True False  True  True  True  True  True  True False\n",
            "  True False False  True  True False  True  True  True False  True False\n",
            "  True  True  True  True  True  True  True  True  True  True  True  True\n",
            "  True  True  True  True  True  True  True  True  True  True False  True\n",
            "  True False  True  True  True  True  True  True  True False  True  True\n",
            "  True  True  True  True  True  True  True False False  True  True  True\n",
            "  True  True  True  True  True  True  True False False  True  True  True\n",
            "  True  True  True  True  True  True False False  True  True  True  True\n",
            "  True  True False  True  True  True False  True  True  True  True  True\n",
            "  True  True  True  True False  True False False False  True False False\n",
            "  True False False False  True  True False False False False False  True\n",
            "  True  True False  True False False False  True False  True  True  True\n",
            "  True  True False False False  True False  True  True  True  True  True\n",
            "  True  True False False  True  True  True  True  True False False  True\n",
            "  True  True  True  True False  True  True False  True  True False False\n",
            "  True  True False False  True  True  True False False False  True  True\n",
            " False  True False False  True False False False  True  True False  True\n",
            "  True False False False  True  True  True  True  True  True  True  True\n",
            "  True False  True  True  True  True False  True False  True False False\n",
            " False  True  True  True False False False False  True  True  True  True\n",
            "  True  True  True  True False  True  True False  True False  True  True\n",
            "  True  True False False  True False  True  True  True False  True  True\n",
            "  True False False  True  True  True  True  True  True  True  True False\n",
            "  True  True  True  True False  True False  True  True  True False  True\n",
            "  True False  True  True False False  True False  True  True  True  True\n",
            "  True False  True False False  True]\n",
            "233\n"
          ],
          "name": "stdout"
        },
        {
          "output_type": "execute_result",
          "data": {
            "text/plain": [
              "342"
            ]
          },
          "metadata": {},
          "execution_count": 73
        }
      ]
    },
    {
      "cell_type": "code",
      "metadata": {
        "id": "drJC0xYkHr_8",
        "colab": {
          "base_uri": "https://localhost:8080/"
        },
        "outputId": "35109d1e-b54e-414d-d55e-675c102f6e72"
      },
      "source": [
        "print('Total MCC: %.3f' % mcc)\n"
      ],
      "execution_count": null,
      "outputs": [
        {
          "output_type": "stream",
          "text": [
            "Total MCC: 0.516\n"
          ],
          "name": "stdout"
        }
      ]
    },
    {
      "cell_type": "code",
      "metadata": {
        "colab": {
          "base_uri": "https://localhost:8080/"
        },
        "id": "TBpMQFrz9Als",
        "outputId": "be1497ff-3f93-4e6d-a3bb-8e7d5b1e1ff7"
      },
      "source": [
        "from sklearn.metrics import precision_recall_fscore_support\n",
        "#difficulty name\n",
        "print(precision_recall_fscore_support(flat_true_labels, flat_predictions, average='micro'))"
      ],
      "execution_count": null,
      "outputs": [
        {
          "output_type": "stream",
          "text": [
            "(0.6812865497076024, 0.6812865497076024, 0.6812865497076024, None)\n"
          ],
          "name": "stdout"
        }
      ]
    },
    {
      "cell_type": "code",
      "metadata": {
        "colab": {
          "base_uri": "https://localhost:8080/"
        },
        "id": "hcaAMXG69Als",
        "outputId": "9c0ac51c-1ff9-4fd0-8304-66d3471e8185"
      },
      "source": [
        "from sklearn.metrics import precision_recall_fscore_support\n",
        "#difficulty name\n",
        "print(precision_recall_fscore_support(flat_true_labels, flat_predictions, average='macro'))"
      ],
      "execution_count": null,
      "outputs": [
        {
          "output_type": "stream",
          "text": [
            "(0.6624720843962287, 0.6658857791387396, 0.6630137321190736, None)\n"
          ],
          "name": "stdout"
        }
      ]
    },
    {
      "cell_type": "code",
      "metadata": {
        "colab": {
          "base_uri": "https://localhost:8080/"
        },
        "id": "zivypLKV9Als",
        "outputId": "141ec3d2-6250-4b18-dbae-d9e24b1e26c8"
      },
      "source": [
        "from sklearn.metrics import precision_recall_fscore_support\n",
        "#difficulty name\n",
        "print(precision_recall_fscore_support(flat_true_labels, flat_predictions, average='weighted'))"
      ],
      "execution_count": null,
      "outputs": [
        {
          "output_type": "stream",
          "text": [
            "(0.6829567974730836, 0.6812865497076024, 0.6810129280924179, None)\n"
          ],
          "name": "stdout"
        }
      ]
    },
    {
      "cell_type": "code",
      "metadata": {
        "id": "zFediYEjlKjX"
      },
      "source": [
        "def get_confusion_matrix(predicted,actual):\n",
        "    conf_matrix = np.zeros((3, 3))\n",
        "    for pred,act in zip(predicted,actual):\n",
        "        conf_matrix[act,pred]+=1\n",
        "    return conf_matrix\n",
        "        \n",
        "def get_TP(confusion_matrix,label):\n",
        "    tp = confusion_matrix[label][label]\n",
        "    return tp\n",
        "\n",
        "def get_FN(confusion_matrix,label):\n",
        "    row = confusion_matrix[label,]\n",
        "    row_truepositives = row[label]\n",
        "    fn = row.sum() - row_truepositives\n",
        "    return fn\n",
        "\n",
        "def get_FP(confusion_matrix,tag):\n",
        "    col = confusion_matrix[:,tag]\n",
        "    col_tp = col[tag]\n",
        "    #  sum of all values in column except tp\n",
        "    fp = col.sum() - col_tp\n",
        "    return fp\n",
        "def Precision(conf_matrix):\n",
        "    precision = 0.0\n",
        "    for label in [0,1,2]:\n",
        "        dividor= get_TP(conf_matrix,label)+get_FP(conf_matrix,label)\n",
        "        if dividor != 0.0:\n",
        "            precision += (get_TP(conf_matrix,label))/dividor\n",
        "    return (precision / 3)\n",
        "\n",
        "def Recall(conf_matrix):\n",
        "    recall = 0.0\n",
        "    for label in [0,1,2]:\n",
        "        dividor=get_TP(conf_matrix,label)+get_FN(conf_matrix,label)\n",
        "        if dividor != 0.0:\n",
        "            recall += (get_TP(conf_matrix,label))/dividor\n",
        "    return (recall / 3)\n",
        "\n",
        "def F1(precision,recall):\n",
        "    return (2*precision*recall)/(precision+recall)\n",
        "def accuracy_per_class(preds_flat, labels_flat):\n",
        "\n",
        "    for label in np.unique(labels_flat):\n",
        "        y_preds = preds_flat[labels_flat==label]\n",
        "        y_true = labels_flat[labels_flat==label]\n",
        "        print(f'Class: {label}')\n",
        "        print(f'Accuracy: {len(y_preds[y_preds==label])}/{len(y_true)}\\n')\n",
        "def print_metrics(predictions,test_labels):\n",
        "    conf_matrix = get_confusion_matrix(predictions,test_labels)\n",
        "    precision = Precision(conf_matrix)\n",
        "    recall = Recall(conf_matrix)\n",
        "    f1_score = F1(precision,recall)\n",
        "    print(\"Macro : Precision:{}, Recall: {}, F1: {}\".format(precision,recall,f1_score))"
      ],
      "execution_count": null,
      "outputs": []
    },
    {
      "cell_type": "code",
      "metadata": {
        "id": "aFEi23ejPfOm"
      },
      "source": [
        "def Precision_macro_weighted(conf_matrix,test_samples):\n",
        "    accum =0\n",
        "    label_wise_precision = dict()\n",
        "    for label in [0,1,2]:\n",
        "        true_sample = [sample for sample in test_samples if sample==label ]\n",
        "        if (get_TP(conf_matrix,label)+get_FP(conf_matrix,label))!=0:\n",
        "            accum+= float(len(true_sample)) *(get_TP(conf_matrix,label)/(get_TP(conf_matrix,label)+get_FP(conf_matrix,label)))\n",
        "            label_wise_precision[label] = get_TP(conf_matrix,label)/(get_TP(conf_matrix,label)+get_FP(conf_matrix,label))\n",
        "\n",
        "    \n",
        "    precision =  accum/len(test_samples)\n",
        "            \n",
        "    return precision\n",
        "\n",
        "\n",
        "def Recall_macro_weighted(conf_matrix,test_samples):\n",
        "    accum =0\n",
        "    label_wise_recall = dict()\n",
        "    for label in [0,1,2]:\n",
        "        true_sample = [sample for sample in test_samples if sample==label ]\n",
        "\n",
        "        if (get_TP(conf_matrix,label)+get_FN(conf_matrix,label))!=0:\n",
        "            accum+= float(len(true_sample)) * (get_TP(conf_matrix,label)/(get_TP(conf_matrix,label)+get_FN(conf_matrix,label)))\n",
        "            label_wise_recall[label] = get_TP(conf_matrix,label)/(get_TP(conf_matrix,label)+get_FN(conf_matrix,label))\n",
        "\n",
        "    \n",
        "    recall =  accum/len(test_samples)\n",
        "    return recall\n",
        "def print_weighted_metrics(predictions,test_labels):\n",
        "    conf_matrix = get_confusion_matrix(predictions,test_labels)\n",
        "    precision = Precision_macro_weighted(conf_matrix,test_labels)\n",
        "    recall = Recall_macro_weighted(conf_matrix,test_labels)\n",
        "    f1_score = F1(precision,recall)\n",
        "    print(\"Macro : Precision:{}, Recall: {}, F1: {}\".format(precision,recall,f1_score))"
      ],
      "execution_count": null,
      "outputs": []
    },
    {
      "cell_type": "code",
      "metadata": {
        "colab": {
          "base_uri": "https://localhost:8080/"
        },
        "id": "1hNCTTaiK9NU",
        "outputId": "fb69a262-b726-4b4a-f1e7-d53b657b383a"
      },
      "source": [
        "#difficulty name\n",
        "print_metrics(flat_predictions,flat_true_labels)"
      ],
      "execution_count": null,
      "outputs": [
        {
          "output_type": "stream",
          "text": [
            "Macro : Precision:0.6624720843962287, Recall: 0.6658857791387396, F1: 0.6641745454074094\n"
          ],
          "name": "stdout"
        }
      ]
    },
    {
      "cell_type": "code",
      "metadata": {
        "colab": {
          "base_uri": "https://localhost:8080/"
        },
        "id": "PN7dldMoEMq0",
        "outputId": "8c502a0e-5834-43e4-c33b-b1d11f03ffa6"
      },
      "source": [
        "#difficulty name\n",
        "print_weighted_metrics(flat_predictions,flat_true_labels)"
      ],
      "execution_count": null,
      "outputs": [
        {
          "output_type": "stream",
          "text": [
            "Macro : Precision:0.6829567974730836, Recall: 0.6812865497076024, F1: 0.6821206511453356\n"
          ],
          "name": "stdout"
        }
      ]
    },
    {
      "cell_type": "code",
      "metadata": {
        "id": "lbxR7mbxBCBP"
      },
      "source": [
        "def accuracy_per_class(preds_flat, labels_flat):\n",
        "\n",
        "    for label in np.unique(labels_flat):\n",
        "        y_preds = preds_flat[labels_flat==label]\n",
        "        y_true = labels_flat[labels_flat==label]\n",
        "        print(f'Class: {get_labels(label)}')\n",
        "        print(f'Accuracy: {len(y_preds[y_preds==label])}/{len(y_true)}\\n')"
      ],
      "execution_count": null,
      "outputs": []
    },
    {
      "cell_type": "code",
      "metadata": {
        "colab": {
          "base_uri": "https://localhost:8080/"
        },
        "id": "0DaR_83RQ9Fp",
        "outputId": "54ac85c2-bc90-42ee-c4a6-c743bafb1efb"
      },
      "source": [
        "accuracy_per_class(flat_predictions,flat_true_labels)"
      ],
      "execution_count": null,
      "outputs": [
        {
          "output_type": "stream",
          "text": [
            "Class: easy\n",
            "Accuracy: 112/134\n",
            "\n",
            "Class: hard\n",
            "Accuracy: 49/85\n",
            "\n",
            "Class: medium\n",
            "Accuracy: 72/123\n",
            "\n"
          ],
          "name": "stdout"
        }
      ]
    },
    {
      "cell_type": "code",
      "metadata": {
        "id": "vu6lbpuxxbxk"
      },
      "source": [
        "!cp -r /content/model_bert_difficulty_cascade_data_2.zip \"/content/drive/My Drive/research_skill_name_prediction/\" "
      ],
      "execution_count": null,
      "outputs": []
    },
    {
      "cell_type": "code",
      "metadata": {
        "id": "J2x-6JL3cNPz"
      },
      "source": [
        "\n",
        "!cp -r /content/model_bert_difficulty_cascade_data_2 \"/content/drive/My Drive/research_skill_name_prediction/\" \n",
        "\n",
        "\n",
        "\n",
        "\n",
        "\n",
        "\n",
        "\n",
        "\n",
        "\n",
        "\n",
        "\n",
        "\n",
        "\n"
      ],
      "execution_count": null,
      "outputs": []
    },
    {
      "cell_type": "code",
      "metadata": {
        "id": "UV4-0Wdzc0-L"
      },
      "source": [
        ""
      ],
      "execution_count": null,
      "outputs": []
    }
  ]
}