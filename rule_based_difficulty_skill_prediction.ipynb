{
  "nbformat": 4,
  "nbformat_minor": 0,
  "metadata": {
    "colab": {
      "name": "rule_based_difficulty_skill_prediction.ipynb",
      "provenance": [],
      "collapsed_sections": []
    },
    "kernelspec": {
      "name": "python3",
      "display_name": "Python 3"
    },
    "language_info": {
      "name": "python"
    }
  },
  "cells": [
    {
      "cell_type": "code",
      "execution_count": null,
      "metadata": {
        "colab": {
          "base_uri": "https://localhost:8080/",
          "height": 424
        },
        "id": "F271l2E3jUZ6",
        "outputId": "773d6a7d-0975-486f-edbb-f97003131fb8"
      },
      "outputs": [
        {
          "output_type": "execute_result",
          "data": {
            "text/html": [
              "\n",
              "  <div id=\"df-b9d78762-70e4-4965-ab55-65aa16b569da\">\n",
              "    <div class=\"colab-df-container\">\n",
              "      <div>\n",
              "<style scoped>\n",
              "    .dataframe tbody tr th:only-of-type {\n",
              "        vertical-align: middle;\n",
              "    }\n",
              "\n",
              "    .dataframe tbody tr th {\n",
              "        vertical-align: top;\n",
              "    }\n",
              "\n",
              "    .dataframe thead th {\n",
              "        text-align: right;\n",
              "    }\n",
              "</style>\n",
              "<table border=\"1\" class=\"dataframe\">\n",
              "  <thead>\n",
              "    <tr style=\"text-align: right;\">\n",
              "      <th></th>\n",
              "      <th>board_syllabus</th>\n",
              "      <th>question_answer</th>\n",
              "      <th>skill_label</th>\n",
              "      <th>difficulty_label</th>\n",
              "    </tr>\n",
              "  </thead>\n",
              "  <tbody>\n",
              "    <tr>\n",
              "      <th>0</th>\n",
              "      <td>Raj English&gt;&gt;XII&gt;&gt;Biology&gt;&gt;Domestication, Cult...</td>\n",
              "      <td>Among the following, freshwater fish is rohu ...</td>\n",
              "      <td>3</td>\n",
              "      <td>0</td>\n",
              "    </tr>\n",
              "    <tr>\n",
              "      <th>1</th>\n",
              "      <td>Maharashtra New&gt;&gt;VI&gt;&gt;General Science&gt;&gt;Sound&gt;&gt;P...</td>\n",
              "      <td>Which of the following statement is true? Sou...</td>\n",
              "      <td>3</td>\n",
              "      <td>2</td>\n",
              "    </tr>\n",
              "    <tr>\n",
              "      <th>2</th>\n",
              "      <td>ICSE OLD&gt;&gt;XI&gt;&gt;Computer Science&gt;&gt;Functions&gt;&gt;Con...</td>\n",
              "      <td>The process of using multiple constructors wi...</td>\n",
              "      <td>3</td>\n",
              "      <td>0</td>\n",
              "    </tr>\n",
              "    <tr>\n",
              "      <th>3</th>\n",
              "      <td>CBSE&gt;&gt;VI&gt;&gt;Science&gt;&gt;Separation of Substances&gt;&gt;S...</td>\n",
              "      <td>Sieving is based on the difference in the siz...</td>\n",
              "      <td>3</td>\n",
              "      <td>1</td>\n",
              "    </tr>\n",
              "    <tr>\n",
              "      <th>4</th>\n",
              "      <td>AP&gt;&gt;X&gt;&gt;Biology&gt;&gt;Excretion - The Wastage Dispos...</td>\n",
              "      <td>The removal of toxic and unwanted waste subst...</td>\n",
              "      <td>3</td>\n",
              "      <td>1</td>\n",
              "    </tr>\n",
              "    <tr>\n",
              "      <th>...</th>\n",
              "      <td>...</td>\n",
              "      <td>...</td>\n",
              "      <td>...</td>\n",
              "      <td>...</td>\n",
              "    </tr>\n",
              "    <tr>\n",
              "      <th>39124</th>\n",
              "      <td>CAPS(South Africa)&gt;&gt;Grade 7&gt;&gt;Natural Sciences&gt;...</td>\n",
              "      <td>How heat loss problems are prevented by birds...</td>\n",
              "      <td>2</td>\n",
              "      <td>1</td>\n",
              "    </tr>\n",
              "    <tr>\n",
              "      <th>39125</th>\n",
              "      <td>CBSE&gt;&gt;X&gt;&gt;Science&gt;&gt;Metals and Non-Metal</td>\n",
              "      <td>Give reasons why copper is used to make hot w...</td>\n",
              "      <td>3</td>\n",
              "      <td>2</td>\n",
              "    </tr>\n",
              "    <tr>\n",
              "      <th>39126</th>\n",
              "      <td>CBSE&gt;&gt;VII&gt;&gt;Science&gt;&gt;Motion and Time</td>\n",
              "      <td>The horizontal line in the graph is denoted as...</td>\n",
              "      <td>2</td>\n",
              "      <td>1</td>\n",
              "    </tr>\n",
              "    <tr>\n",
              "      <th>39127</th>\n",
              "      <td>Tamil Nadu&gt;&gt;VI&gt;&gt;Science&gt;&gt;Term 1&gt;&gt;Physics&gt;&gt;Forc...</td>\n",
              "      <td>SI unit of force is newton The SI unit of for...</td>\n",
              "      <td>3</td>\n",
              "      <td>2</td>\n",
              "    </tr>\n",
              "    <tr>\n",
              "      <th>39128</th>\n",
              "      <td>Tamil Nadu&gt;&gt;VIII&gt;&gt;Science&gt;&gt;Term 1&gt;&gt;Physics&gt;&gt;Fo...</td>\n",
              "      <td>In machines sliding frictions is replaced to ...</td>\n",
              "      <td>1</td>\n",
              "      <td>1</td>\n",
              "    </tr>\n",
              "  </tbody>\n",
              "</table>\n",
              "<p>39129 rows × 4 columns</p>\n",
              "</div>\n",
              "      <button class=\"colab-df-convert\" onclick=\"convertToInteractive('df-b9d78762-70e4-4965-ab55-65aa16b569da')\"\n",
              "              title=\"Convert this dataframe to an interactive table.\"\n",
              "              style=\"display:none;\">\n",
              "        \n",
              "  <svg xmlns=\"http://www.w3.org/2000/svg\" height=\"24px\"viewBox=\"0 0 24 24\"\n",
              "       width=\"24px\">\n",
              "    <path d=\"M0 0h24v24H0V0z\" fill=\"none\"/>\n",
              "    <path d=\"M18.56 5.44l.94 2.06.94-2.06 2.06-.94-2.06-.94-.94-2.06-.94 2.06-2.06.94zm-11 1L8.5 8.5l.94-2.06 2.06-.94-2.06-.94L8.5 2.5l-.94 2.06-2.06.94zm10 10l.94 2.06.94-2.06 2.06-.94-2.06-.94-.94-2.06-.94 2.06-2.06.94z\"/><path d=\"M17.41 7.96l-1.37-1.37c-.4-.4-.92-.59-1.43-.59-.52 0-1.04.2-1.43.59L10.3 9.45l-7.72 7.72c-.78.78-.78 2.05 0 2.83L4 21.41c.39.39.9.59 1.41.59.51 0 1.02-.2 1.41-.59l7.78-7.78 2.81-2.81c.8-.78.8-2.07 0-2.86zM5.41 20L4 18.59l7.72-7.72 1.47 1.35L5.41 20z\"/>\n",
              "  </svg>\n",
              "      </button>\n",
              "      \n",
              "  <style>\n",
              "    .colab-df-container {\n",
              "      display:flex;\n",
              "      flex-wrap:wrap;\n",
              "      gap: 12px;\n",
              "    }\n",
              "\n",
              "    .colab-df-convert {\n",
              "      background-color: #E8F0FE;\n",
              "      border: none;\n",
              "      border-radius: 50%;\n",
              "      cursor: pointer;\n",
              "      display: none;\n",
              "      fill: #1967D2;\n",
              "      height: 32px;\n",
              "      padding: 0 0 0 0;\n",
              "      width: 32px;\n",
              "    }\n",
              "\n",
              "    .colab-df-convert:hover {\n",
              "      background-color: #E2EBFA;\n",
              "      box-shadow: 0px 1px 2px rgba(60, 64, 67, 0.3), 0px 1px 3px 1px rgba(60, 64, 67, 0.15);\n",
              "      fill: #174EA6;\n",
              "    }\n",
              "\n",
              "    [theme=dark] .colab-df-convert {\n",
              "      background-color: #3B4455;\n",
              "      fill: #D2E3FC;\n",
              "    }\n",
              "\n",
              "    [theme=dark] .colab-df-convert:hover {\n",
              "      background-color: #434B5C;\n",
              "      box-shadow: 0px 1px 3px 1px rgba(0, 0, 0, 0.15);\n",
              "      filter: drop-shadow(0px 1px 2px rgba(0, 0, 0, 0.3));\n",
              "      fill: #FFFFFF;\n",
              "    }\n",
              "  </style>\n",
              "\n",
              "      <script>\n",
              "        const buttonEl =\n",
              "          document.querySelector('#df-b9d78762-70e4-4965-ab55-65aa16b569da button.colab-df-convert');\n",
              "        buttonEl.style.display =\n",
              "          google.colab.kernel.accessAllowed ? 'block' : 'none';\n",
              "\n",
              "        async function convertToInteractive(key) {\n",
              "          const element = document.querySelector('#df-b9d78762-70e4-4965-ab55-65aa16b569da');\n",
              "          const dataTable =\n",
              "            await google.colab.kernel.invokeFunction('convertToInteractive',\n",
              "                                                     [key], {});\n",
              "          if (!dataTable) return;\n",
              "\n",
              "          const docLinkHtml = 'Like what you see? Visit the ' +\n",
              "            '<a target=\"_blank\" href=https://colab.research.google.com/notebooks/data_table.ipynb>data table notebook</a>'\n",
              "            + ' to learn more about interactive tables.';\n",
              "          element.innerHTML = '';\n",
              "          dataTable['output_type'] = 'display_data';\n",
              "          await google.colab.output.renderOutput(dataTable, element);\n",
              "          const docLink = document.createElement('div');\n",
              "          docLink.innerHTML = docLinkHtml;\n",
              "          element.appendChild(docLink);\n",
              "        }\n",
              "      </script>\n",
              "    </div>\n",
              "  </div>\n",
              "  "
            ],
            "text/plain": [
              "                                          board_syllabus  ... difficulty_label\n",
              "0      Raj English>>XII>>Biology>>Domestication, Cult...  ...                0\n",
              "1      Maharashtra New>>VI>>General Science>>Sound>>P...  ...                2\n",
              "2      ICSE OLD>>XI>>Computer Science>>Functions>>Con...  ...                0\n",
              "3      CBSE>>VI>>Science>>Separation of Substances>>S...  ...                1\n",
              "4      AP>>X>>Biology>>Excretion - The Wastage Dispos...  ...                1\n",
              "...                                                  ...  ...              ...\n",
              "39124  CAPS(South Africa)>>Grade 7>>Natural Sciences>...  ...                1\n",
              "39125             CBSE>>X>>Science>>Metals and Non-Metal  ...                2\n",
              "39126                CBSE>>VII>>Science>>Motion and Time  ...                1\n",
              "39127  Tamil Nadu>>VI>>Science>>Term 1>>Physics>>Forc...  ...                2\n",
              "39128  Tamil Nadu>>VIII>>Science>>Term 1>>Physics>>Fo...  ...                1\n",
              "\n",
              "[39129 rows x 4 columns]"
            ]
          },
          "metadata": {},
          "execution_count": 1
        }
      ],
      "source": [
        "import pandas as pd\n",
        "data = pd.read_csv(\"train_skill_name_difficulty.csv\")\n",
        "data"
      ]
    },
    {
      "cell_type": "code",
      "source": [
        ""
      ],
      "metadata": {
        "id": "ENlWBg16lDuT"
      },
      "execution_count": null,
      "outputs": []
    },
    {
      "cell_type": "code",
      "metadata": {
        "id": "9exlBELH5oq9"
      },
      "source": [
        "!cp \"/content/drive/My Drive/research_skill_name_prediction/label_encoder_difficulty_Lstm\"  /content"
      ],
      "execution_count": null,
      "outputs": []
    },
    {
      "cell_type": "code",
      "metadata": {
        "id": "pUqcGtXwBIyl"
      },
      "source": [
        "!cp \"/content/drive/MyDrive/research_skill_name_prediction/label_encoder_skill_lstm\" /content"
      ],
      "execution_count": null,
      "outputs": []
    },
    {
      "cell_type": "code",
      "metadata": {
        "id": "-OBarOLBz2nO"
      },
      "source": [
        "def get_labels(LE, prediction):\n",
        "    predicted_label =  LE.inverse_transform([prediction])\n",
        "    return predicted_label[0]"
      ],
      "execution_count": null,
      "outputs": []
    },
    {
      "cell_type": "code",
      "source": [
        "import joblib\n",
        "from sklearn.preprocessing import LabelEncoder\n",
        "\n",
        "LE = LabelEncoder()\n",
        "LE = joblib.load('label_encoder_difficulty_Lstm')\n",
        "\n",
        "get_labels(LE, 0)"
      ],
      "metadata": {
        "colab": {
          "base_uri": "https://localhost:8080/",
          "height": 107
        },
        "id": "p1Q1k-VolOZJ",
        "outputId": "e338ce80-14d3-4830-f23f-2ade9737930f"
      },
      "execution_count": null,
      "outputs": [
        {
          "output_type": "stream",
          "name": "stderr",
          "text": [
            "/usr/local/lib/python3.7/dist-packages/sklearn/base.py:338: UserWarning: Trying to unpickle estimator LabelEncoder from version 0.22.2.post1 when using version 1.0.2. This might lead to breaking code or invalid results. Use at your own risk. For more info please refer to:\n",
            "https://scikit-learn.org/stable/modules/model_persistence.html#security-maintainability-limitations\n",
            "  UserWarning,\n"
          ]
        },
        {
          "output_type": "execute_result",
          "data": {
            "application/vnd.google.colaboratory.intrinsic+json": {
              "type": "string"
            },
            "text/plain": [
              "'Difficult'"
            ]
          },
          "metadata": {},
          "execution_count": 6
        }
      ]
    },
    {
      "cell_type": "code",
      "source": [
        "LE_skill = LabelEncoder()\n",
        "LE_skill = joblib.load('label_encoder_skill_lstm')\n",
        "\n",
        "get_labels(LE_skill, 0)"
      ],
      "metadata": {
        "colab": {
          "base_uri": "https://localhost:8080/",
          "height": 107
        },
        "id": "Z4cGpAnqlVQC",
        "outputId": "cc35a36e-9505-4dcd-9fae-f9b5d703e4a9"
      },
      "execution_count": null,
      "outputs": [
        {
          "output_type": "stream",
          "name": "stderr",
          "text": [
            "/usr/local/lib/python3.7/dist-packages/sklearn/base.py:338: UserWarning: Trying to unpickle estimator LabelEncoder from version 0.22.2.post1 when using version 1.0.2. This might lead to breaking code or invalid results. Use at your own risk. For more info please refer to:\n",
            "https://scikit-learn.org/stable/modules/model_persistence.html#security-maintainability-limitations\n",
            "  UserWarning,\n"
          ]
        },
        {
          "output_type": "execute_result",
          "data": {
            "application/vnd.google.colaboratory.intrinsic+json": {
              "type": "string"
            },
            "text/plain": [
              "'Analysing'"
            ]
          },
          "metadata": {},
          "execution_count": 7
        }
      ]
    },
    {
      "cell_type": "code",
      "source": [
        "LE.classes_"
      ],
      "metadata": {
        "colab": {
          "base_uri": "https://localhost:8080/"
        },
        "id": "rhxjcnIulgCh",
        "outputId": "2c85ede0-dc51-4009-b2e3-b1bb09940e45"
      },
      "execution_count": null,
      "outputs": [
        {
          "output_type": "execute_result",
          "data": {
            "text/plain": [
              "array(['Difficult', 'Easy', 'Medium'], dtype=object)"
            ]
          },
          "metadata": {},
          "execution_count": 8
        }
      ]
    },
    {
      "cell_type": "code",
      "source": [
        "LE_skill.classes_"
      ],
      "metadata": {
        "colab": {
          "base_uri": "https://localhost:8080/"
        },
        "id": "JpHUBQqvlj2X",
        "outputId": "b8376c5b-031c-4de5-d3ca-a88c58ed573a"
      },
      "execution_count": null,
      "outputs": [
        {
          "output_type": "execute_result",
          "data": {
            "text/plain": [
              "array(['Analysing', 'Applying', 'Knowledge & understanding',\n",
              "       'Remembering', 'Understanding'], dtype=object)"
            ]
          },
          "metadata": {},
          "execution_count": 9
        }
      ]
    },
    {
      "cell_type": "code",
      "source": [
        "data[data[\"difficulty_label\"]==0][\"skill_label\"].value_counts()"
      ],
      "metadata": {
        "colab": {
          "base_uri": "https://localhost:8080/"
        },
        "id": "MZKtAG6OllI1",
        "outputId": "13735436-3cbb-4da8-f872-33e885587431"
      },
      "execution_count": null,
      "outputs": [
        {
          "output_type": "execute_result",
          "data": {
            "text/plain": [
              "4    3960\n",
              "2    3050\n",
              "1    2529\n",
              "3    2518\n",
              "0    2089\n",
              "Name: skill_label, dtype: int64"
            ]
          },
          "metadata": {},
          "execution_count": 16
        }
      ]
    },
    {
      "cell_type": "code",
      "source": [
        "data[data[\"difficulty_label\"]==1][\"skill_label\"].value_counts()"
      ],
      "metadata": {
        "colab": {
          "base_uri": "https://localhost:8080/"
        },
        "id": "G_QSNi2Jmico",
        "outputId": "3b17572d-9e26-4304-c14c-8a8d886c983a"
      },
      "execution_count": null,
      "outputs": [
        {
          "output_type": "execute_result",
          "data": {
            "text/plain": [
              "3    7146\n",
              "2    5417\n",
              "4    4505\n",
              "1    1488\n",
              "0     756\n",
              "Name: skill_label, dtype: int64"
            ]
          },
          "metadata": {},
          "execution_count": 17
        }
      ]
    },
    {
      "cell_type": "code",
      "source": [
        "data[data[\"difficulty_label\"]==2][\"skill_label\"].value_counts()"
      ],
      "metadata": {
        "colab": {
          "base_uri": "https://localhost:8080/"
        },
        "id": "4yIaUu_lmkZQ",
        "outputId": "b6e80e08-a896-4d8f-b7de-f893143cf42d"
      },
      "execution_count": null,
      "outputs": [
        {
          "output_type": "execute_result",
          "data": {
            "text/plain": [
              "4    2242\n",
              "3    1712\n",
              "1     980\n",
              "0     585\n",
              "2     152\n",
              "Name: skill_label, dtype: int64"
            ]
          },
          "metadata": {},
          "execution_count": 18
        }
      ]
    },
    {
      "cell_type": "code",
      "source": [
        "skill_list = data[data[\"difficulty_label\"]==0][\"skill_label\"].value_counts().values.tolist()\n",
        "understanding_count = skill_list[0]+skill_list[1]"
      ],
      "metadata": {
        "id": "vcbtccnjoxqf"
      },
      "execution_count": null,
      "outputs": []
    },
    {
      "cell_type": "code",
      "source": [
        ""
      ],
      "metadata": {
        "id": "zZC9XXE7mkry"
      },
      "execution_count": null,
      "outputs": []
    },
    {
      "cell_type": "code",
      "source": [
        "diff_dict = {}\n",
        "diff_dict[\"Difficult\"] = {\n",
        "    \"4\": skill_list[0],\n",
        "    \"2\": skill_list[1],\n",
        "    \"1\": skill_list[2],\n",
        "    \"3\": skill_list[3],\n",
        "    \"0\":skill_list[4]\n",
        "}"
      ],
      "metadata": {
        "id": "HkKDRisfl7h6"
      },
      "execution_count": null,
      "outputs": []
    },
    {
      "cell_type": "code",
      "source": [
        "skill_list = data[data[\"difficulty_label\"]==1][\"skill_label\"].value_counts().values.tolist()\n",
        "skill_list"
      ],
      "metadata": {
        "colab": {
          "base_uri": "https://localhost:8080/"
        },
        "id": "u14NBRH7p9_E",
        "outputId": "6187bc44-777d-405d-a28b-f593f5c7ee9c"
      },
      "execution_count": null,
      "outputs": [
        {
          "output_type": "execute_result",
          "data": {
            "text/plain": [
              "[7146, 5417, 4505, 1488, 756]"
            ]
          },
          "metadata": {},
          "execution_count": 120
        }
      ]
    },
    {
      "cell_type": "code",
      "source": [
        "diff_dict[\"Easy\"] = {\n",
        "    \"3\": skill_list[0],\n",
        "    \"2\": skill_list[1],\n",
        "    \"4\": skill_list[2],\n",
        "    \"1\": skill_list[3],\n",
        "    \"0\":skill_list[4]\n",
        "}"
      ],
      "metadata": {
        "id": "B6EePNy_p7at"
      },
      "execution_count": null,
      "outputs": []
    },
    {
      "cell_type": "code",
      "source": [
        "skill_list = data[data[\"difficulty_label\"]==2][\"skill_label\"].value_counts().values.tolist()\n",
        "skill_list"
      ],
      "metadata": {
        "colab": {
          "base_uri": "https://localhost:8080/"
        },
        "outputId": "04bd89f0-4131-4a80-edfb-bbddd7c9ae24",
        "id": "dj8hN1v4qKYy"
      },
      "execution_count": null,
      "outputs": [
        {
          "output_type": "execute_result",
          "data": {
            "text/plain": [
              "[2242, 1712, 980, 585, 152]"
            ]
          },
          "metadata": {},
          "execution_count": 122
        }
      ]
    },
    {
      "cell_type": "code",
      "source": [
        "diff_dict[\"Medium\"] = {\n",
        "    \"4\": skill_list[0],\n",
        "    \"3\": skill_list[1],\n",
        "    \"1\": skill_list[2],\n",
        "    \"0\": skill_list[3],\n",
        "    \"2\":skill_list[4]\n",
        "}"
      ],
      "metadata": {
        "id": "UIOeifMAqKY0"
      },
      "execution_count": null,
      "outputs": []
    },
    {
      "cell_type": "code",
      "source": [
        "diff_dict"
      ],
      "metadata": {
        "colab": {
          "base_uri": "https://localhost:8080/"
        },
        "id": "B3wO4gB_qd9s",
        "outputId": "5cfaef5d-717b-43da-8e8d-82affce668f6"
      },
      "execution_count": null,
      "outputs": [
        {
          "output_type": "execute_result",
          "data": {
            "text/plain": [
              "{'Difficult': {'0': 2089, '1': 2529, '2': 3050, '3': 2518, '4': 3960},\n",
              " 'Easy': {'0': 756, '1': 1488, '2': 5417, '3': 7146, '4': 4505},\n",
              " 'Medium': {'0': 585, '1': 980, '2': 152, '3': 1712, '4': 2242}}"
            ]
          },
          "metadata": {},
          "execution_count": 124
        }
      ]
    },
    {
      "cell_type": "code",
      "source": [
        "data[data[\"skill_label\"]==0][\"difficulty_label\"].value_counts()"
      ],
      "metadata": {
        "colab": {
          "base_uri": "https://localhost:8080/"
        },
        "outputId": "d2d0f4c5-817f-458a-cf13-c831688f64b2",
        "id": "TbMqvHFerKng"
      },
      "execution_count": null,
      "outputs": [
        {
          "output_type": "execute_result",
          "data": {
            "text/plain": [
              "0    2089\n",
              "1     756\n",
              "2     585\n",
              "Name: difficulty_label, dtype: int64"
            ]
          },
          "metadata": {},
          "execution_count": 32
        }
      ]
    },
    {
      "cell_type": "code",
      "source": [
        "data[data[\"skill_label\"]==1][\"difficulty_label\"].value_counts()"
      ],
      "metadata": {
        "colab": {
          "base_uri": "https://localhost:8080/"
        },
        "outputId": "289e62c8-d16a-4650-cbca-ad9e3bfeed95",
        "id": "_qXwxx78rKnj"
      },
      "execution_count": null,
      "outputs": [
        {
          "output_type": "execute_result",
          "data": {
            "text/plain": [
              "0    2529\n",
              "1    1488\n",
              "2     980\n",
              "Name: difficulty_label, dtype: int64"
            ]
          },
          "metadata": {},
          "execution_count": 33
        }
      ]
    },
    {
      "cell_type": "code",
      "source": [
        "data[data[\"skill_label\"]==2][\"difficulty_label\"].value_counts()"
      ],
      "metadata": {
        "colab": {
          "base_uri": "https://localhost:8080/"
        },
        "outputId": "5593efe1-dd08-4999-971f-950e47caea9a",
        "id": "lQHawroorKnk"
      },
      "execution_count": null,
      "outputs": [
        {
          "output_type": "execute_result",
          "data": {
            "text/plain": [
              "1    5417\n",
              "0    3050\n",
              "2     152\n",
              "Name: difficulty_label, dtype: int64"
            ]
          },
          "metadata": {},
          "execution_count": 34
        }
      ]
    },
    {
      "cell_type": "code",
      "source": [
        "data[data[\"skill_label\"]==3][\"difficulty_label\"].value_counts()"
      ],
      "metadata": {
        "colab": {
          "base_uri": "https://localhost:8080/"
        },
        "id": "EvqNZCCBrXZZ",
        "outputId": "3b7e1b1f-9b3e-474e-d03c-e1c3a9ab1b2a"
      },
      "execution_count": null,
      "outputs": [
        {
          "output_type": "execute_result",
          "data": {
            "text/plain": [
              "1    7146\n",
              "0    2518\n",
              "2    1712\n",
              "Name: difficulty_label, dtype: int64"
            ]
          },
          "metadata": {},
          "execution_count": 35
        }
      ]
    },
    {
      "cell_type": "code",
      "source": [
        "data[data[\"skill_label\"]==4][\"difficulty_label\"].value_counts()"
      ],
      "metadata": {
        "colab": {
          "base_uri": "https://localhost:8080/"
        },
        "id": "7CTzFRfXrcwp",
        "outputId": "0c1f1777-a1e3-4488-ab9a-f3590a604094"
      },
      "execution_count": null,
      "outputs": [
        {
          "output_type": "execute_result",
          "data": {
            "text/plain": [
              "1    4505\n",
              "0    3960\n",
              "2    2242\n",
              "Name: difficulty_label, dtype: int64"
            ]
          },
          "metadata": {},
          "execution_count": 36
        }
      ]
    },
    {
      "cell_type": "code",
      "source": [
        "diff_list = data[data[\"skill_label\"]==0][\"difficulty_label\"].value_counts().values.tolist()"
      ],
      "metadata": {
        "id": "0eKrL5HNr1o2"
      },
      "execution_count": null,
      "outputs": []
    },
    {
      "cell_type": "code",
      "source": [
        "skill_dict = {}\n",
        "# array(['Analysing', 'Applying', 'Knowledge & understanding',\n",
        "    #    'Remembering', 'Understanding'], dtype=object)\n",
        "skill_dict[\"Analysing\"] = {\n",
        "    \"0\": diff_list[0],\n",
        "    \"1\": diff_list[1],\n",
        "    \"2\": diff_list[2]\n",
        "}"
      ],
      "metadata": {
        "id": "ejCJn_BcrjXb"
      },
      "execution_count": null,
      "outputs": []
    },
    {
      "cell_type": "code",
      "source": [
        "diff_list = data[data[\"skill_label\"]==1][\"difficulty_label\"].value_counts().values.tolist()"
      ],
      "metadata": {
        "id": "Sgg-su_bsA7n"
      },
      "execution_count": null,
      "outputs": []
    },
    {
      "cell_type": "code",
      "source": [
        "# array(['Analysing', 'Applying', 'Knowledge & understanding',\n",
        "    #    'Remembering', 'Understanding'], dtype=object)\n",
        "skill_dict[\"Applying\"] = {\n",
        "    \"0\": diff_list[0],\n",
        "    \"1\": diff_list[1],\n",
        "    \"2\": diff_list[2]\n",
        "}"
      ],
      "metadata": {
        "id": "o4K7HhbFsA7o"
      },
      "execution_count": null,
      "outputs": []
    },
    {
      "cell_type": "code",
      "source": [
        "diff_list = data[data[\"skill_label\"]==2][\"difficulty_label\"].value_counts().values.tolist()"
      ],
      "metadata": {
        "id": "Rrj1fB8usgnK"
      },
      "execution_count": null,
      "outputs": []
    },
    {
      "cell_type": "code",
      "source": [
        "# array(['Analysing', 'Applying', 'Knowledge & understanding',\n",
        "    #    'Remembering', 'Understanding'], dtype=object)\n",
        "skill_dict[\"Knowledge & understanding\"] = {\n",
        "    \"1\": diff_list[0],\n",
        "    \"0\": diff_list[1],\n",
        "    \"2\": diff_list[2]\n",
        "}"
      ],
      "metadata": {
        "id": "0ipV8dWCsgnM"
      },
      "execution_count": null,
      "outputs": []
    },
    {
      "cell_type": "code",
      "source": [
        "diff_list = data[data[\"skill_label\"]==3][\"difficulty_label\"].value_counts().values.tolist()"
      ],
      "metadata": {
        "id": "jJHp03dKspHs"
      },
      "execution_count": null,
      "outputs": []
    },
    {
      "cell_type": "code",
      "source": [
        "# skill_dict = {}\n",
        "# array(['Analysing', 'Applying', 'Knowledge & understanding',\n",
        "    #    'Remembering', 'Understanding'], dtype=object)\n",
        "skill_dict[\"Remembering\"] = {\n",
        "    \"1\": diff_list[0],\n",
        "    \"0\": diff_list[1],\n",
        "    \"2\": diff_list[2]\n",
        "}"
      ],
      "metadata": {
        "id": "xoig6FHSspHs"
      },
      "execution_count": null,
      "outputs": []
    },
    {
      "cell_type": "code",
      "source": [
        "diff_list = data[data[\"skill_label\"]==4][\"difficulty_label\"].value_counts().values.tolist()"
      ],
      "metadata": {
        "id": "5c-qwrdrspes"
      },
      "execution_count": null,
      "outputs": []
    },
    {
      "cell_type": "code",
      "source": [
        "# skill_dict = {}\n",
        "# array(['Analysing', 'Applying', 'Knowledge & understanding',\n",
        "    #    'Remembering', 'Understanding'], dtype=object)\n",
        "skill_dict[\"Understanding\"] = {\n",
        "    \"1\": diff_list[0],\n",
        "    \"0\": diff_list[1],\n",
        "    \"2\": diff_list[2]\n",
        "}"
      ],
      "metadata": {
        "id": "bD3Fd45zspes"
      },
      "execution_count": null,
      "outputs": []
    },
    {
      "cell_type": "code",
      "source": [
        "skill_dict"
      ],
      "metadata": {
        "colab": {
          "base_uri": "https://localhost:8080/"
        },
        "id": "Rkv1e69js0d0",
        "outputId": "261f8df4-5740-46ba-82fb-11aa86b5cbb4"
      },
      "execution_count": null,
      "outputs": [
        {
          "output_type": "execute_result",
          "data": {
            "text/plain": [
              "{'Analysing': {'0': 2089, '1': 756, '2': 585},\n",
              " 'Applying': {'0': 2529, '1': 1488, '2': 980},\n",
              " 'Knowledge & understanding': {'0': 3050, '1': 5417, '2': 152},\n",
              " 'Remembering': {'0': 2518, '1': 7146, '2': 1712},\n",
              " 'Understanding': {'0': 3960, '1': 4505, '2': 2242}}"
            ]
          },
          "metadata": {},
          "execution_count": 102
        }
      ]
    },
    {
      "cell_type": "code",
      "source": [
        "import numpy as np\n",
        "list(skill_dict[\"Applying\"].keys())[list(skill_dict[\"Applying\"].values()).index(max(skill_dict[\"Applying\"].values()))]"
      ],
      "metadata": {
        "colab": {
          "base_uri": "https://localhost:8080/",
          "height": 35
        },
        "id": "-PjT49pJtRy0",
        "outputId": "ebbf014f-ea93-4efc-b4fe-94b307a261b5"
      },
      "execution_count": null,
      "outputs": [
        {
          "output_type": "execute_result",
          "data": {
            "application/vnd.google.colaboratory.intrinsic+json": {
              "type": "string"
            },
            "text/plain": [
              "'0'"
            ]
          },
          "metadata": {},
          "execution_count": 105
        }
      ]
    },
    {
      "cell_type": "code",
      "source": [
        "test = pd.read_csv(\"test_skill_name_difficulty.csv\")\n",
        "test"
      ],
      "metadata": {
        "colab": {
          "base_uri": "https://localhost:8080/",
          "height": 424
        },
        "id": "jDCaBJL-qmHe",
        "outputId": "d1e112b6-9242-4de8-ac23-f1089b23b7c9"
      },
      "execution_count": null,
      "outputs": [
        {
          "output_type": "execute_result",
          "data": {
            "text/html": [
              "\n",
              "  <div id=\"df-34621b41-1d90-4db1-925d-bc45e3682907\">\n",
              "    <div class=\"colab-df-container\">\n",
              "      <div>\n",
              "<style scoped>\n",
              "    .dataframe tbody tr th:only-of-type {\n",
              "        vertical-align: middle;\n",
              "    }\n",
              "\n",
              "    .dataframe tbody tr th {\n",
              "        vertical-align: top;\n",
              "    }\n",
              "\n",
              "    .dataframe thead th {\n",
              "        text-align: right;\n",
              "    }\n",
              "</style>\n",
              "<table border=\"1\" class=\"dataframe\">\n",
              "  <thead>\n",
              "    <tr style=\"text-align: right;\">\n",
              "      <th></th>\n",
              "      <th>board_syllabus</th>\n",
              "      <th>question_answer</th>\n",
              "      <th>skill_label</th>\n",
              "      <th>difficulty_label</th>\n",
              "    </tr>\n",
              "  </thead>\n",
              "  <tbody>\n",
              "    <tr>\n",
              "      <th>0</th>\n",
              "      <td>CBSE&gt;&gt;Nursery&gt;&gt;Environmental Science&gt;&gt;Common V...</td>\n",
              "      <td>Write down the names of some common vegetable...</td>\n",
              "      <td>3</td>\n",
              "      <td>2</td>\n",
              "    </tr>\n",
              "    <tr>\n",
              "      <th>1</th>\n",
              "      <td>CBSE&gt;&gt;XII&gt;&gt;Physics&gt;&gt;Physics : Part - II&gt;&gt;Atoms</td>\n",
              "      <td>Name the series of hydrogen atom which lies i...</td>\n",
              "      <td>1</td>\n",
              "      <td>1</td>\n",
              "    </tr>\n",
              "    <tr>\n",
              "      <th>2</th>\n",
              "      <td>ICSE OLD&gt;&gt;XI&gt;&gt;Political Science&gt;&gt;State, Govern...</td>\n",
              "      <td>Which of the following is not the element of ...</td>\n",
              "      <td>0</td>\n",
              "      <td>0</td>\n",
              "    </tr>\n",
              "    <tr>\n",
              "      <th>3</th>\n",
              "      <td>Maharashtra New&gt;&gt;VII&gt;&gt;General Science&gt;&gt;Static ...</td>\n",
              "      <td>The process of electrically charging an objec...</td>\n",
              "      <td>3</td>\n",
              "      <td>1</td>\n",
              "    </tr>\n",
              "    <tr>\n",
              "      <th>4</th>\n",
              "      <td>Tamil Nadu&gt;&gt;IX&gt;&gt;Science&gt;&gt;Physics&gt;&gt;Measurement&gt;...</td>\n",
              "      <td>The mass of an object is measured in kilogram...</td>\n",
              "      <td>3</td>\n",
              "      <td>1</td>\n",
              "    </tr>\n",
              "    <tr>\n",
              "      <th>...</th>\n",
              "      <td>...</td>\n",
              "      <td>...</td>\n",
              "      <td>...</td>\n",
              "      <td>...</td>\n",
              "    </tr>\n",
              "    <tr>\n",
              "      <th>4572</th>\n",
              "      <td>ICSE OLD&gt;&gt;VIII&gt;&gt;Biology&gt;&gt;Nervous System And Se...</td>\n",
              "      <td>Which of the following is the first cranial n...</td>\n",
              "      <td>3</td>\n",
              "      <td>1</td>\n",
              "    </tr>\n",
              "    <tr>\n",
              "      <th>4573</th>\n",
              "      <td>CBSE&gt;&gt;VII&gt;&gt;Computer Science&gt;&gt;Advance features ...</td>\n",
              "      <td>To ungroup the worksheets: Right-click on any...</td>\n",
              "      <td>2</td>\n",
              "      <td>0</td>\n",
              "    </tr>\n",
              "    <tr>\n",
              "      <th>4574</th>\n",
              "      <td>CBSE&gt;&gt;VIII&gt;&gt;Science&gt;&gt;Chemical Effects of Elect...</td>\n",
              "      <td>After passing electricity through a solution ...</td>\n",
              "      <td>0</td>\n",
              "      <td>2</td>\n",
              "    </tr>\n",
              "    <tr>\n",
              "      <th>4575</th>\n",
              "      <td>CLSP&gt;&gt;Stage 9&gt;&gt;Science&gt;&gt;Chemistry&gt;&gt;Material pr...</td>\n",
              "      <td>Identify the scientists who gave the “plum-pu...</td>\n",
              "      <td>3</td>\n",
              "      <td>0</td>\n",
              "    </tr>\n",
              "    <tr>\n",
              "      <th>4576</th>\n",
              "      <td>AP&gt;&gt;VIII&gt;&gt;Physical Science&gt;&gt;Physical Science (...</td>\n",
              "      <td>What do you understand by the term static ele...</td>\n",
              "      <td>2</td>\n",
              "      <td>1</td>\n",
              "    </tr>\n",
              "  </tbody>\n",
              "</table>\n",
              "<p>4577 rows × 4 columns</p>\n",
              "</div>\n",
              "      <button class=\"colab-df-convert\" onclick=\"convertToInteractive('df-34621b41-1d90-4db1-925d-bc45e3682907')\"\n",
              "              title=\"Convert this dataframe to an interactive table.\"\n",
              "              style=\"display:none;\">\n",
              "        \n",
              "  <svg xmlns=\"http://www.w3.org/2000/svg\" height=\"24px\"viewBox=\"0 0 24 24\"\n",
              "       width=\"24px\">\n",
              "    <path d=\"M0 0h24v24H0V0z\" fill=\"none\"/>\n",
              "    <path d=\"M18.56 5.44l.94 2.06.94-2.06 2.06-.94-2.06-.94-.94-2.06-.94 2.06-2.06.94zm-11 1L8.5 8.5l.94-2.06 2.06-.94-2.06-.94L8.5 2.5l-.94 2.06-2.06.94zm10 10l.94 2.06.94-2.06 2.06-.94-2.06-.94-.94-2.06-.94 2.06-2.06.94z\"/><path d=\"M17.41 7.96l-1.37-1.37c-.4-.4-.92-.59-1.43-.59-.52 0-1.04.2-1.43.59L10.3 9.45l-7.72 7.72c-.78.78-.78 2.05 0 2.83L4 21.41c.39.39.9.59 1.41.59.51 0 1.02-.2 1.41-.59l7.78-7.78 2.81-2.81c.8-.78.8-2.07 0-2.86zM5.41 20L4 18.59l7.72-7.72 1.47 1.35L5.41 20z\"/>\n",
              "  </svg>\n",
              "      </button>\n",
              "      \n",
              "  <style>\n",
              "    .colab-df-container {\n",
              "      display:flex;\n",
              "      flex-wrap:wrap;\n",
              "      gap: 12px;\n",
              "    }\n",
              "\n",
              "    .colab-df-convert {\n",
              "      background-color: #E8F0FE;\n",
              "      border: none;\n",
              "      border-radius: 50%;\n",
              "      cursor: pointer;\n",
              "      display: none;\n",
              "      fill: #1967D2;\n",
              "      height: 32px;\n",
              "      padding: 0 0 0 0;\n",
              "      width: 32px;\n",
              "    }\n",
              "\n",
              "    .colab-df-convert:hover {\n",
              "      background-color: #E2EBFA;\n",
              "      box-shadow: 0px 1px 2px rgba(60, 64, 67, 0.3), 0px 1px 3px 1px rgba(60, 64, 67, 0.15);\n",
              "      fill: #174EA6;\n",
              "    }\n",
              "\n",
              "    [theme=dark] .colab-df-convert {\n",
              "      background-color: #3B4455;\n",
              "      fill: #D2E3FC;\n",
              "    }\n",
              "\n",
              "    [theme=dark] .colab-df-convert:hover {\n",
              "      background-color: #434B5C;\n",
              "      box-shadow: 0px 1px 3px 1px rgba(0, 0, 0, 0.15);\n",
              "      filter: drop-shadow(0px 1px 2px rgba(0, 0, 0, 0.3));\n",
              "      fill: #FFFFFF;\n",
              "    }\n",
              "  </style>\n",
              "\n",
              "      <script>\n",
              "        const buttonEl =\n",
              "          document.querySelector('#df-34621b41-1d90-4db1-925d-bc45e3682907 button.colab-df-convert');\n",
              "        buttonEl.style.display =\n",
              "          google.colab.kernel.accessAllowed ? 'block' : 'none';\n",
              "\n",
              "        async function convertToInteractive(key) {\n",
              "          const element = document.querySelector('#df-34621b41-1d90-4db1-925d-bc45e3682907');\n",
              "          const dataTable =\n",
              "            await google.colab.kernel.invokeFunction('convertToInteractive',\n",
              "                                                     [key], {});\n",
              "          if (!dataTable) return;\n",
              "\n",
              "          const docLinkHtml = 'Like what you see? Visit the ' +\n",
              "            '<a target=\"_blank\" href=https://colab.research.google.com/notebooks/data_table.ipynb>data table notebook</a>'\n",
              "            + ' to learn more about interactive tables.';\n",
              "          element.innerHTML = '';\n",
              "          dataTable['output_type'] = 'display_data';\n",
              "          await google.colab.output.renderOutput(dataTable, element);\n",
              "          const docLink = document.createElement('div');\n",
              "          docLink.innerHTML = docLinkHtml;\n",
              "          element.appendChild(docLink);\n",
              "        }\n",
              "      </script>\n",
              "    </div>\n",
              "  </div>\n",
              "  "
            ],
            "text/plain": [
              "                                         board_syllabus  ... difficulty_label\n",
              "0     CBSE>>Nursery>>Environmental Science>>Common V...  ...                2\n",
              "1        CBSE>>XII>>Physics>>Physics : Part - II>>Atoms  ...                1\n",
              "2     ICSE OLD>>XI>>Political Science>>State, Govern...  ...                0\n",
              "3     Maharashtra New>>VII>>General Science>>Static ...  ...                1\n",
              "4     Tamil Nadu>>IX>>Science>>Physics>>Measurement>...  ...                1\n",
              "...                                                 ...  ...              ...\n",
              "4572  ICSE OLD>>VIII>>Biology>>Nervous System And Se...  ...                1\n",
              "4573  CBSE>>VII>>Computer Science>>Advance features ...  ...                0\n",
              "4574  CBSE>>VIII>>Science>>Chemical Effects of Elect...  ...                2\n",
              "4575  CLSP>>Stage 9>>Science>>Chemistry>>Material pr...  ...                0\n",
              "4576  AP>>VIII>>Physical Science>>Physical Science (...  ...                1\n",
              "\n",
              "[4577 rows x 4 columns]"
            ]
          },
          "metadata": {},
          "execution_count": 104
        }
      ]
    },
    {
      "cell_type": "code",
      "source": [
        "predicted_diff_labels =[]\n",
        "for index, row in test.iterrows():\n",
        "    if skill_dict[get_labels(LE_skill,row[\"skill_label\"])]:\n",
        "        # dict_entry = skill_dict[get_labels(LE_skill,row[\"skill_label\"])]\n",
        "        skill_label_name = get_labels(LE_skill,row[\"skill_label\"])\n",
        "        print(skill_label_name)\n",
        "        diff_label = list(skill_dict[skill_label_name].keys())[list(skill_dict[skill_label_name].values()).index(max(skill_dict[skill_label_name].values()))]\n",
        "        predicted_diff_labels.append(int(diff_label))\n",
        "    "
      ],
      "metadata": {
        "id": "0fduwH71qfHL"
      },
      "execution_count": null,
      "outputs": []
    },
    {
      "cell_type": "code",
      "source": [
        ""
      ],
      "metadata": {
        "id": "tiKgTB_fvXPo"
      },
      "execution_count": null,
      "outputs": []
    },
    {
      "cell_type": "code",
      "metadata": {
        "id": "zFediYEjlKjX"
      },
      "source": [
        "def get_confusion_matrix(predicted,actual):\n",
        "    conf_matrix = np.zeros((3, 3))\n",
        "    for pred,act in zip(predicted,actual):\n",
        "        conf_matrix[act,pred]+=1\n",
        "    return conf_matrix\n",
        "        \n",
        "def get_TP(confusion_matrix,label):\n",
        "    tp = confusion_matrix[label][label]\n",
        "    return tp\n",
        "\n",
        "def get_FN(confusion_matrix,label):\n",
        "    row = confusion_matrix[label,]\n",
        "    row_truepositives = row[label]\n",
        "    fn = row.sum() - row_truepositives\n",
        "    return fn\n",
        "\n",
        "def get_FP(confusion_matrix,tag):\n",
        "    col = confusion_matrix[:,tag]\n",
        "    col_tp = col[tag]\n",
        "    #  sum of all values in column except tp\n",
        "    fp = col.sum() - col_tp\n",
        "    return fp\n",
        "def Precision(conf_matrix):\n",
        "    precision = 0.0\n",
        "    for label in [0,1,2]:\n",
        "        dividor= get_TP(conf_matrix,label)+get_FP(conf_matrix,label)\n",
        "        if dividor != 0.0:\n",
        "            precision += (get_TP(conf_matrix,label))/dividor\n",
        "    return (precision / 3)\n",
        "\n",
        "def Recall(conf_matrix):\n",
        "    recall = 0.0\n",
        "    for label in [0,1,2]:\n",
        "        dividor=get_TP(conf_matrix,label)+get_FN(conf_matrix,label)\n",
        "        if dividor != 0.0:\n",
        "            recall += (get_TP(conf_matrix,label))/dividor\n",
        "    return (recall / 3)\n",
        "\n",
        "def F1(precision,recall):\n",
        "    return (2*precision*recall)/(precision+recall)\n",
        "def accuracy_per_class(preds_flat, labels_flat):\n",
        "\n",
        "    for label in np.unique(labels_flat):\n",
        "        y_preds = preds_flat[labels_flat==label]\n",
        "        y_true = labels_flat[labels_flat==label]\n",
        "        print(f'Class: {label}')\n",
        "        print(f'Accuracy: {len(y_preds[y_preds==label])}/{len(y_true)}\\n')\n",
        "def print_metrics(predictions,test_labels):\n",
        "    conf_matrix = get_confusion_matrix(predictions,test_labels)\n",
        "    precision = Precision(conf_matrix)\n",
        "    recall = Recall(conf_matrix)\n",
        "    f1_score = F1(precision,recall)\n",
        "    print(\"Macro : Precision:{}, Recall: {}, F1: {}\".format(precision,recall,f1_score))"
      ],
      "execution_count": null,
      "outputs": []
    },
    {
      "cell_type": "code",
      "metadata": {
        "id": "aFEi23ejPfOm"
      },
      "source": [
        "def Precision_macro_weighted(conf_matrix,test_samples):\n",
        "    accum =0\n",
        "    label_wise_precision = dict()\n",
        "    for label in [0,1,2]:\n",
        "        true_sample = [sample for sample in test_samples if sample==label ]\n",
        "        if (get_TP(conf_matrix,label)+get_FP(conf_matrix,label))!=0:\n",
        "            accum+= float(len(true_sample)) *(get_TP(conf_matrix,label)/(get_TP(conf_matrix,label)+get_FP(conf_matrix,label)))\n",
        "            label_wise_precision[label] = get_TP(conf_matrix,label)/(get_TP(conf_matrix,label)+get_FP(conf_matrix,label))\n",
        "\n",
        "    \n",
        "    precision =  accum/len(test_samples)\n",
        "            \n",
        "    return precision\n",
        "\n",
        "\n",
        "def Recall_macro_weighted(conf_matrix,test_samples):\n",
        "    accum =0\n",
        "    label_wise_recall = dict()\n",
        "    for label in [0,1,2]:\n",
        "        true_sample = [sample for sample in test_samples if sample==label ]\n",
        "\n",
        "        if (get_TP(conf_matrix,label)+get_FN(conf_matrix,label))!=0:\n",
        "            accum+= float(len(true_sample)) * (get_TP(conf_matrix,label)/(get_TP(conf_matrix,label)+get_FN(conf_matrix,label)))\n",
        "            label_wise_recall[label] = get_TP(conf_matrix,label)/(get_TP(conf_matrix,label)+get_FN(conf_matrix,label))\n",
        "\n",
        "    \n",
        "    recall =  accum/len(test_samples)\n",
        "    return recall\n",
        "def print_weighted_metrics(predictions,test_labels):\n",
        "    conf_matrix = get_confusion_matrix(predictions,test_labels)\n",
        "    precision = Precision_macro_weighted(conf_matrix,test_labels)\n",
        "    recall = Recall_macro_weighted(conf_matrix,test_labels)\n",
        "    f1_score = F1(precision,recall)\n",
        "    print(\"Macro : Precision:{}, Recall: {}, F1: {}\".format(precision,recall,f1_score))"
      ],
      "execution_count": null,
      "outputs": []
    },
    {
      "cell_type": "code",
      "source": [
        "print_metrics(np.array(predicted_diff_labels), test[\"difficulty_label\"].values)"
      ],
      "metadata": {
        "colab": {
          "base_uri": "https://localhost:8080/"
        },
        "id": "7b3glHBfvoRs",
        "outputId": "0a71d1fe-7f1b-4eb2-c763-bcb32086c29a"
      },
      "execution_count": null,
      "outputs": [
        {
          "output_type": "stream",
          "name": "stdout",
          "text": [
            "Macro : Precision:0.3587735233330716, Recall: 0.4023563230730749, F1: 0.3793171331957927\n"
          ]
        }
      ]
    },
    {
      "cell_type": "code",
      "source": [
        "print_weighted_metrics(np.array(predicted_diff_labels), test[\"difficulty_label\"].values)"
      ],
      "metadata": {
        "colab": {
          "base_uri": "https://localhost:8080/"
        },
        "id": "gDwkG6rGvoox",
        "outputId": "fb47914c-0176-479c-b9da-47e9f0fa8f7a"
      },
      "execution_count": null,
      "outputs": [
        {
          "output_type": "stream",
          "name": "stdout",
          "text": [
            "Macro : Precision:0.4539331924068864, Recall: 0.5422766003932707, F1: 0.4941877708151595\n"
          ]
        }
      ]
    },
    {
      "cell_type": "code",
      "source": [
        ""
      ],
      "metadata": {
        "id": "-TZgBRBpvxpx"
      },
      "execution_count": null,
      "outputs": []
    },
    {
      "cell_type": "markdown",
      "source": [
        "# Now skill prediction"
      ],
      "metadata": {
        "id": "gaiT9W87wX4h"
      }
    },
    {
      "cell_type": "code",
      "source": [
        "diff_dict"
      ],
      "metadata": {
        "colab": {
          "base_uri": "https://localhost:8080/"
        },
        "id": "_qnZ2ZvRwZfQ",
        "outputId": "38d46593-2223-4742-aee7-ab3dac39903e"
      },
      "execution_count": null,
      "outputs": [
        {
          "output_type": "execute_result",
          "data": {
            "text/plain": [
              "{'Difficult': {'0': 2089, '1': 2529, '2': 3050, '3': 2518, '4': 3960},\n",
              " 'Easy': {'0': 756, '1': 1488, '2': 5417, '3': 7146, '4': 4505},\n",
              " 'Medium': {'0': 585, '1': 980, '2': 152, '3': 1712, '4': 2242}}"
            ]
          },
          "metadata": {},
          "execution_count": 125
        }
      ]
    },
    {
      "cell_type": "code",
      "source": [
        "predicted_skill_labels =[]\n",
        "for index, row in test.iterrows():\n",
        "    if diff_dict[get_labels(LE,row[\"difficulty_label\"])]:\n",
        "        # dict_entry = skill_dict[get_labels(LE_skill,row[\"skill_label\"])]\n",
        "        diff_label_name = get_labels(LE,row[\"difficulty_label\"])\n",
        "        print(diff_label_name)\n",
        "        skill_label = list(diff_dict[diff_label_name].keys())[list(diff_dict[diff_label_name].values()).index(max(diff_dict[diff_label_name].values()))]\n",
        "        predicted_skill_labels.append(int(skill_label))\n",
        "    "
      ],
      "metadata": {
        "id": "Lan2fECxwvsL"
      },
      "execution_count": null,
      "outputs": []
    },
    {
      "cell_type": "code",
      "metadata": {
        "id": "UDmycMYMwfKE"
      },
      "source": [
        "def get_confusion_matrix(predicted,actual):\n",
        "    conf_matrix = np.zeros((5, 5))\n",
        "    for pred,act in zip(predicted,actual):\n",
        "        conf_matrix[act,pred]+=1\n",
        "    return conf_matrix\n",
        "        \n",
        "def get_TP(confusion_matrix,label):\n",
        "    tp = confusion_matrix[label][label]\n",
        "    return tp\n",
        "\n",
        "def get_FN(confusion_matrix,label):\n",
        "    row = confusion_matrix[label,]\n",
        "    row_truepositives = row[label]\n",
        "    fn = row.sum() - row_truepositives\n",
        "    return fn\n",
        "\n",
        "def get_FP(confusion_matrix,tag):\n",
        "    col = confusion_matrix[:,tag]\n",
        "    col_tp = col[tag]\n",
        "    #  sum of all values in column except tp\n",
        "    fp = col.sum() - col_tp\n",
        "    return fp\n",
        "def Precision(conf_matrix):\n",
        "    precision = 0.0\n",
        "    for label in [0,1,2,3,4]:\n",
        "        dividor= get_TP(conf_matrix,label)+get_FP(conf_matrix,label)\n",
        "        if dividor != 0.0:\n",
        "            precision += (get_TP(conf_matrix,label))/dividor\n",
        "    return (precision / 5)\n",
        "\n",
        "def Recall(conf_matrix):\n",
        "    recall = 0.0\n",
        "    for label in [0,1,2,3,4]:\n",
        "        dividor=get_TP(conf_matrix,label)+get_FN(conf_matrix,label)\n",
        "        if dividor != 0.0:\n",
        "            recall += (get_TP(conf_matrix,label))/dividor\n",
        "    return (recall / 5)\n",
        "\n",
        "def F1(precision,recall):\n",
        "    return (2*precision*recall)/(precision+recall)\n",
        "def accuracy_per_class(preds_flat, labels_flat):\n",
        "\n",
        "    for label in np.unique(labels_flat):\n",
        "        y_preds = preds_flat[labels_flat==label]\n",
        "        y_true = labels_flat[labels_flat==label]\n",
        "        print(f'Class: {label}')\n",
        "        print(f'Accuracy: {len(y_preds[y_preds==label])}/{len(y_true)}\\n')\n",
        "def print_metrics(predictions,test_labels):\n",
        "    conf_matrix = get_confusion_matrix(predictions,test_labels)\n",
        "    precision = Precision(conf_matrix)\n",
        "    recall = Recall(conf_matrix)\n",
        "    f1_score = F1(precision,recall)\n",
        "    print(\"Macro : Precision:{}, Recall: {}, F1: {}\".format(precision,recall,f1_score))"
      ],
      "execution_count": null,
      "outputs": []
    },
    {
      "cell_type": "code",
      "metadata": {
        "id": "nJ_3uYGDwfKG"
      },
      "source": [
        "def Precision_macro_weighted(conf_matrix,test_samples):\n",
        "    accum =0\n",
        "    label_wise_precision = dict()\n",
        "    for label in [0,1,2,3,4]:\n",
        "        true_sample = [sample for sample in test_samples if sample==label ]\n",
        "        if (get_TP(conf_matrix,label)+get_FP(conf_matrix,label))!=0:\n",
        "            accum+= float(len(true_sample)) *(get_TP(conf_matrix,label)/(get_TP(conf_matrix,label)+get_FP(conf_matrix,label)))\n",
        "            label_wise_precision[label] = get_TP(conf_matrix,label)/(get_TP(conf_matrix,label)+get_FP(conf_matrix,label))\n",
        "\n",
        "    \n",
        "    precision =  accum/len(test_samples)\n",
        "            \n",
        "    return precision\n",
        "\n",
        "\n",
        "def Recall_macro_weighted(conf_matrix,test_samples):\n",
        "    accum =0\n",
        "    label_wise_recall = dict()\n",
        "    for label in [0,1,2,3,4]:\n",
        "        true_sample = [sample for sample in test_samples if sample==label ]\n",
        "\n",
        "        if (get_TP(conf_matrix,label)+get_FN(conf_matrix,label))!=0:\n",
        "            accum+= float(len(true_sample)) * (get_TP(conf_matrix,label)/(get_TP(conf_matrix,label)+get_FN(conf_matrix,label)))\n",
        "            label_wise_recall[label] = get_TP(conf_matrix,label)/(get_TP(conf_matrix,label)+get_FN(conf_matrix,label))\n",
        "\n",
        "    \n",
        "    recall =  accum/len(test_samples)\n",
        "    return recall\n",
        "def print_weighted_metrics(predictions,test_labels):\n",
        "    conf_matrix = get_confusion_matrix(predictions,test_labels)\n",
        "    precision = Precision_macro_weighted(conf_matrix,test_labels)\n",
        "    recall = Recall_macro_weighted(conf_matrix,test_labels)\n",
        "    f1_score = F1(precision,recall)\n",
        "    print(\"Macro : Precision:{}, Recall: {}, F1: {}\".format(precision,recall,f1_score))"
      ],
      "execution_count": null,
      "outputs": []
    },
    {
      "cell_type": "code",
      "source": [
        "print_metrics(np.array(predicted_skill_labels), test[\"skill_label\"].values)"
      ],
      "metadata": {
        "colab": {
          "base_uri": "https://localhost:8080/"
        },
        "outputId": "d5405671-d206-41ce-e539-c6da155fdfbc",
        "id": "mzacPYBbxUHI"
      },
      "execution_count": null,
      "outputs": [
        {
          "output_type": "stream",
          "name": "stdout",
          "text": [
            "Macro : Precision:0.1382124387497395, Recall: 0.23873993897809012, F1: 0.17507160661525517\n"
          ]
        }
      ]
    },
    {
      "cell_type": "code",
      "source": [
        "print_weighted_metrics(np.array(predicted_skill_labels), test[\"skill_label\"].values)"
      ],
      "metadata": {
        "colab": {
          "base_uri": "https://localhost:8080/"
        },
        "outputId": "c342639f-1f83-4365-e07c-51ca9d9f320b",
        "id": "DykqPmJfxUHL"
      },
      "execution_count": null,
      "outputs": [
        {
          "output_type": "stream",
          "name": "stdout",
          "text": [
            "Macro : Precision:0.19969544966568895, Recall: 0.3443303473891195, F1: 0.25278655507759196\n"
          ]
        }
      ]
    },
    {
      "cell_type": "code",
      "source": [
        ""
      ],
      "metadata": {
        "id": "8PosEu77wbOk"
      },
      "execution_count": null,
      "outputs": []
    }
  ]
}